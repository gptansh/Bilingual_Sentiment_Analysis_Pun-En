{
 "cells": [
  {
   "cell_type": "code",
   "execution_count": 22,
   "metadata": {},
   "outputs": [],
   "source": [
    "from sklearn.datasets import load_files\n",
    "from sklearn.model_selection import train_test_split\n",
    "import pandas as pd\n",
    "import nltk\n",
    "import re\n",
    "# from gensim.models import Word2Vec\n",
    "# import gensim\n",
    "from sklearn.feature_extraction.text import TfidfVectorizer\n",
    "from sklearn.manifold import TSNE\n",
    "import bokeh.plotting as bp\n",
    "from bokeh.models import HoverTool, BoxSelectTool\n",
    "from bokeh.plotting import figure, show, output_notebook\n",
    "from sklearn.metrics import classification_report\n",
    "from sklearn.preprocessing import scale\n",
    "import numpy as np\n",
    "import pandas as pd\n",
    "import os, sys, getopt, csv, sklearn\n",
    "from sklearn.feature_extraction.text import CountVectorizer, TfidfTransformer\n",
    "from sklearn.naive_bayes import MultinomialNB\n",
    "from sklearn.svm import SVC, LinearSVC\n",
    "from sklearn.metrics import classification_report, f1_score, accuracy_score, confusion_matrix\n",
    "from sklearn.pipeline import Pipeline\n",
    "from sklearn.model_selection import learning_curve, GridSearchCV\n",
    "from sklearn.model_selection import StratifiedKFold, cross_val_score, train_test_split\n",
    "import itertools\n",
    "from textblob import TextBlob\n",
    "from keras.models import Sequential\n",
    "from keras.layers import Dense"
   ]
  },
  {
   "cell_type": "code",
   "execution_count": 23,
   "metadata": {},
   "outputs": [],
   "source": [
    "data = pd.read_csv(r\"C:\\Users\\konark\\Downloads\\punjabi_data.csv\", encoding='latin-1', engine='python' )\n",
    "data['Text'] = data['Text'].str.lower()"
   ]
  },
  {
   "cell_type": "code",
   "execution_count": 24,
   "metadata": {},
   "outputs": [],
   "source": [
    "vocabulary = pd.read_csv(r\"C:\\Users\\konark\\Downloads\\generalised_spellings.csv\")\n",
    "vocabulary['Words'] = vocabulary['Words'].str.lower()\n",
    "vocabulary['Generalised Spelling'] = vocabulary['Generalised Spelling'].str.lower()\n",
    "voc_to_be_used = dict(zip(vocabulary['Words'], vocabulary['Generalised Spelling']))"
   ]
  },
  {
   "cell_type": "code",
   "execution_count": 25,
   "metadata": {},
   "outputs": [
    {
     "name": "stderr",
     "output_type": "stream",
     "text": [
      "C:\\Users\\konark\\anaconda3\\lib\\site-packages\\ipykernel_launcher.py:21: SettingWithCopyWarning: \n",
      "A value is trying to be set on a copy of a slice from a DataFrame\n",
      "\n",
      "See the caveats in the documentation: https://pandas.pydata.org/pandas-docs/stable/user_guide/indexing.html#returning-a-view-versus-a-copy\n"
     ]
    }
   ],
   "source": [
    "replacement_dict = {r'(\\b){}(\\b)'.format(k):r'\\1{}\\2'.format(v) for k,v in voc_to_be_used.items()}\n",
    "data['Text'] = data['Text'].replace(replacement_dict, regex=True)\n",
    "\n",
    "stopwords = [\"100ch\", \"march\", \"april\", \"21\", \"2018\", \"april\", \"20\", \"1st\", \"19\", \"15\", \"urs\", \"14\", \"11\", \"108\", \"100\", '10' ,\"ch\", \"di\", \"aa\",\"wich\",\"bai\",\"meri\",\"v\",\"isa\",\"jisa\",\"vica\",\"taka\",\"vi\",\"othon\",\"nahim\",\"bhi\",\"valom\",\"iha \",\"iha \",\"jadom\",\"kai\",\"tada\",\"andar\",\"utte\",\"sabuta\",\"kadi\",\"nem\",\"ji\",\"kise\",\"pūra\",\"ne\",\"hove\",\"jekar\",\"de\",\"jehara\",\"baada\",\"sara\",\"cho\",\"kade\",\"sab\",\"tan\",\"ki\",\"na\",\"huna\",\"jinam\",\"nala\",\"cahe\",\"kisa \",\"pichom\",\"edhara\",\"nu\",\"ajihe\",\"hi\",\"ke\",\"hain\",\"bahuta\",\"kaafi\",\"huṇe\",\"lai\",\"ki\",\"magara\",\"da\",\"tarham\",\"phera\",\"vele\",\"othe\",\"kite\",\"ithe\",\"jinhanu\",\"jad\",\"vanga \",\"doraan\",\"varaga\",\"jo\",\"la\",\"pura\",\"naale\",\"ton\",\"hona\",\"paso\",\"jeha\",\"es\",\"jina\",\"kujh\",\"dobara\",\"sadda\",\"ethe\",\"bare\",\"kad\",\"kadde\",\"hoye\",\"rahe\",\"bano\",\"deṇi\",\"pia \",\"hoia\",\"gai\",\"laga\",\"huda\",\"janda\",\"vēkha\",\"suṇa\",\"ai\",\"sakde\",\"jave\",\"janda\",\"karke\",\"bilkul\",\"eho\",\"kaun\",\"pher\",\"tad\",\"kolon\",\"kina\",\"jive\",\"hethan\",\"sare\",\"jithe\",\"koi\",\"ki\",\"je\",\"dian\",\"chala\",\"lai\",\"aakh\",\"baṇa\",\"kara\",\"pain\",\"keh\",\"chuke\",\"keha\", \"karvayei\",\"banaye\",\"kitta\",\"javan\",\"dekh\",\"adi\",\"lia\",\"karana\",\"lagoda\",\"aave\",\"kari\",\"laeya\",\"reh\",\"uha\",\"sam\",\"sabha\",\"hana\",\"tu\",\"si\",\"ho\", \"tennu\",\"tusa\",\"hain\",\"hai\",\"apna\",\"je\",\"aate\",\"jam\",\"kal\",\"vagaira\",\"rakh\",\"laag\",\"gal\",\"pi\",\"a\",\"reha\",\"geya\",\"otha\",\"rahi\",\"usne\",\"tusi\",\"mera\",\"usdi\",\"tera\",\"us\",\"oye\",\"aap\",\"san\",\"mein\",\"tusi\",\"assi\",\"par\",\"te\",\"tam\",\"bhavem\",\"aagali\",\"varg\",\"ama\",\"la\",\"hala\",\"ek\", \"tuhada\",\"kita\",\"karde\",\"krde\",\"teri\",\"apne\",\"aj\",\"singh\",\"sikh\",\"ohne\",\"dekh\",\"tuhadi\",\"fir\",\"time\",\"bawa\",\"sidhu\",\"vich\",\"sach\",\"naal\",\"hor\",\"ki\",\"mainu\",\"aaa\",\"wale\",\"hor\",\"krn\",\"kudi\",\"kuj\", \"12\", \"2020\", \"30\", \"300\", \"pwa\", \"do\", \"log\", \"3may\", \"35\", \"40\", \"din\", \"400\", \"50\", \"km\", \"door\", \"5911\", \"50m\", \"3bisby\", \"500\", \"6month\", \"700\", \"900\", \"__\", \"honi\", \"aab\", \"which\", \"ohi\", \"hr\", \"to\", \"aae\"]\n",
    "# stopwords = [\"lokk\",'abp\",\"video\", \"aafull\", \"me\", \"rhe\", \"100ch\", \"march\", \"april\", \"21\", \"2018\", \"april\", \"20\", \"1st\", \"19\", \"15\", \"urs\", \"14\", \"11\", \"108\", \"100\", '10' ,\"ch\", \"di\", \"aa\",\"wich\",\"bai\",\"meri\",\"v\",\"isa\",\"jisa\",\"vica\",\"taka\",\"vi\",\"othon\",\"nahim\",\"bhi\",\"valom\",\"iha \",\"iha \",\"jadom\",\"kai\",\"tada\",\"andar\",\"utte\",\"sabuta\",\"kadi\",\"nem\",\"ji\",\"kise\",\"pūra\",\"ne\",\"hove\",\"jekar\",\"de\",\"jehara\",\"baada\",\"sara\",\"cho\",\"kade\",\"sab\",\"tan\",\"ki\",\"na\",\"huna\",\"jinam\",\"nala\",\"cahe\",\"kisa \",\"pichom\",\"edhara\",\"nu\",\"ajihe\",\"hi\",\"ke\",\"hain\",\"bahuta\",\"kaafi\",\"huṇe\",\"lai\",\"ki\",\"magara\",\"da\",\"tarham\",\"phera\",\"vele\",\"othe\",\"kite\",\"ithe\",\"jinhanu\",\"jad\",\"vanga \",\"doraan\",\"varaga\",\"jo\",\"la\",\"pura\",\"naale\",\"ton\",\"hona\",\"paso\",\"jeha\",\"es\",\"jina\",\"kujh\",\"dobara\",\"sadda\",\"ethe\",\"bare\",\"kad\",\"kadde\",\"hoye\",\"rahe\",\"bano\",\"deṇi\",\"pia \",\"hoia\",\"gai\",\"laga\",\"huda\",\"janda\",\"vēkha\",\"suṇa\",\"ai\",\"sakde\",\"jave\",\"janda\",\"karke\",\"bilkul\",\"eho\",\"kaun\",\"pher\",\"tad\",\"kolon\",\"kina\",\"jive\",\"hethan\",\"sare\",\"jithe\",\"koi\",\"ki\",\"je\",\"dian\",\"chala\",\"lai\",\"aakh\",\"baṇa\",\"kara\",\"pain\",\"keh\",\"chuke\",\"keha\", \"karvayei\",\"banaye\",\"kitta\",\"javan\",\"dekh\",\"adi\",\"lia\",\"karana\",\"lagoda\",\"aave\",\"kari\",\"laeya\",\"reh\",\"uha\",\"sam\",\"sabha\",\"hana\",\"tu\",\"si\",\"ho\", \"tennu\",\"tusa\",\"hain\",\"hai\",\"apna\",\"je\",\"aate\",\"jam\",\"kal\",\"vagaira\",\"rakh\",\"laag\",\"gal\",\"pi\",\"a\",\"reha\",\"geya\",\"otha\",\"rahi\",\"usne\",\"tusi\",\"mera\",\"usdi\",\"tera\",\"us\",\"oye\",\"aap\",\"san\",\"mein\",\"tusi\",\"assi\",\"par\",\"te\",\"tam\",\"bhavem\",\"aagali\",\"varg\",\"ama\",\"la\",\"hala\",\"ek\", \"tuhada\",\"kita\",\"karde\",\"krde\",\"teri\",\"apne\",\"aj\",\"singh\",\"sikh\",\"ohne\",\"dekh\",\"tuhadi\",\"fir\",\"time\",\"bawa\",\"sidhu\",\"vich\",\"sach\",\"naal\",\"hor\",\"ki\",\"mainu\",\"aaa\",\"wale\",\"hor\",\"krn\",\"kudi\",\"kuj\", \"12\", \"2020\", \"30\", \"300\", \"pwa\", \"do\", \"log\", \"3may\", \"35\", \"40\", \"din\", \"400\", \"50\", \"km\", \"door\", \"5911\", \"50m\", \"3bisby\", \"500\", \"6month\", \"700\", \"900\", \"__\", \"honi\", \"aab\", \"which\", \"ohi\", \"hr\", \"to\", \"aae\", \"bs\", \"chal\", \"jagdeep\", \"captian\", \"anchor\", \"ranjeet\", \"amrinder\", \"ikk\", \"ina\", \"dilli\", \"mai\", \"te\", \"fr\",\"india\", \"singa\", \"tn\", \"dharti\", \"gurdas\", \"singer\", \"sound\", \"live\", \"respiratory\", \"punjab\", \"punjabian\", \"jd\", \"chd\", \"geet\", \"ta\", \"bt\", \"koe\", \"nusrat\", \"fateh\", \"sudhu\", \"sidhu\", \"sukhbir\", \"interview\", \"tumhe\", \"agr\", \"eh\", \"uncle\", \"but\", \"covid\", \"dong\", \"jidaan\", \"matlab\", \"tere\", \"abc\", \"ik\", \"for\",\"news\", \"sanja\", \"tuc\", \"tum\", \"detail\", \"account\", \"accounts\", \"interview\", \"or\", \"diya\", \"add\", \"addmission\", \"address\", \"ade\", \"admin\", \"advocate\"]\n",
    "pat = r'\\b(?:{})\\b'.format('|'.join(stopwords))\n",
    "data['Text'] = data['Text'].str.replace(pat, '')\n",
    "data['Text'] = data['Text'].str.replace(r'\\s+', ' ')\n",
    "stopwords = [\"lokk\",\"abp\",\"video\", \"aafull\", \"me\", \"rhe\", \"100ch\", \"march\", \"april\", \"21\", \"2018\", \"april\", \"20\", \"1st\", \"19\", \"15\", \"urs\", \"14\", \"11\", \"108\", \"100\", \"10\" ,\"ch\", \"di\", \"aa\",\"wich\",\"bai\",\"meri\",\"v\",\"isa\",\"jisa\",\"vica\",\"taka\",\"vi\",\"othon\",\"nahim\",\"bhi\",\"valom\",\"iha \",\"jadom\",\"kai\",\"tada\",\"andar\",\"utte\",\"sabuta\",\"kadi\",\"nem\",\"ji\",\"kise\",\"pūra\",\"ne\",\"hove\",\"jekar\",\"de\",\"jehara\",\"baada\",\"sara\",\"cho\",\"kade\",\"sab\",\"tan\",\"ki\",\"na\",\"huna\",\"jinam\",\"nala\",\"cahe\",\"kisa \",\"pichom\",\"edhara\",\"nu\",\"ajihe\",\"hi\",\"ke\",\"hain\",\"bahuta\",\"kaafi\",\"huṇe\",\"lai\",\"ki\",\"magara\",\"da\",\"tarham\",\"phera\",\"vele\",\"othe\",\"kite\",\"ithe\",\"jinhanu\",\"jad\",\"vanga \",\"doraan\",\"varaga\",\"jo\",\"la\",\"pura\",\"naale\",\"ton\",\"hona\",\"paso\",\"jeha\",\"es\",\"jina\",\"kujh\",\"dobara\",\"sadda\",\"ethe\",\"bare\",\"kad\",\"kadde\",\"hoye\",\"rahe\",\"bano\",\"deṇi\",\"pia \",\"hoia\",\"gai\",\"laga\",\"huda\",\"janda\",\"vēkha\",\"suṇa\",\"ai\",\"sakde\",\"jave\",\"janda\",\"karke\",\"bilkul\",\"eho\",\"kaun\",\"pher\",\"tad\",\"kolon\",\"kina\",\"jive\",\"hethan\",\"sare\",\"jithe\",\"koi\",\"ki\",\"je\",\"dian\",\"chala\",\"lai\",\"aakh\",\"baṇa\",\"kara\",\"pain\",\"keh\",\"chuke\",\"keha\", \"karvayei\",\"banaye\",\"kitta\",\"javan\",\"dekh\",\"adi\",\"lia\",\"karana\",\"lagoda\",\"aave\",\"kari\",\"laeya\",\"reh\",\"uha\",\"sam\",\"sabha\",\"hana\",\"tu\",\"si\",\"ho\", \"tennu\",\"tusa\",\"hain\",\"hai\",\"apna\",\"je\",\"aate\",\"jam\",\"kal\",\"vagaira\",\"rakh\",\"laag\",\"gal\",\"pi\",\"a\",\"reha\",\"geya\",\"otha\",\"rahi\",\"usne\",\"tusi\",\"mera\",\"usdi\",\"tera\",\"us\",\"oye\",\"aap\",\"san\",\"mein\",\"tusi\",\"assi\",\"par\",\"te\",\"tam\",\"bhavem\",\"aagali\",\"varg\",\"ama\",\"la\",\"hala\",\"ek\", \"tuhada\",\"kita\",\"karde\",\"krde\",\"teri\",\"apne\",\"aj\",\"singh\",\"sikh\",\"ohne\",\"dekh\",\"tuhadi\",\"fir\",\"time\",\"bawa\",\"sidhu\",\"vich\",\"sach\",\"naal\",\"hor\",\"ki\",\"mainu\",\"aaa\",\"wale\",\"hor\",\"krn\",\"kudi\",\"kuj\", \"12\", \"2020\", \"30\", \"300\", \"pwa\", \"do\", \"log\", \"3may\", \"35\", \"40\", \"din\", \"400\", \"50\", \"km\", \"door\", \"5911\", \"50m\", \"3bisby\", \"500\", \"6month\", \"700\", \"900\", \"__\", \"honi\", \"aab\", \"which\", \"ohi\", \"hr\", \"to\", \"aae\", \"bs\", \"chal\", \"jagdeep\", \"captian\", \"anchor\", \"ranjeet\", \"amrinder\", \"ikk\", \"ina\", \"dilli\", \"mai\", \"te\", \"fr\",\"india\", \"singa\", \"tn\", \"dharti\", \"gurdas\", \"singer\", \"sound\", \"live\", \"respiratory\", \"punjab\", \"punjabian\", \"jd\", \"chd\", \"geet\", \"ta\", \"bt\", \"koe\", \"nusrat\", \"fateh\", \"sudhu\", \"sidhu\", \"sukhbir\", \"interview\", \"tumhe\", \"agr\", \"eh\", \"uncle\", \"but\", \"covid\", \"dong\", \"jidaan\", \"matlab\", \"tere\", \"abc\", \"ik\", \"for\",\"news\", \"sanja\", \"tuc\", \"tum\", \"detail\", \"account\", \"accounts\", \"interview\", \"or\", \"diya\", \"add\", \"addmission\", \"address\", \"ade\", \"admin\", \"advocate\"]\n",
    "pat = r'\\b(?:{})\\b'.format('|'.join(stopwords))\n",
    "data['Text'] = data['Text'].str.replace(pat, '')\n",
    "data['Text'] = data['Text'].str.replace(r'\\s+', ' ')\n",
    "stopwords = [\"ah\",\"mnu\",\"mai\", \"100ch\", \"march\", \"april\", \"21\", \"2018\", \"april\", \"20\", \"1st\", \"19\", \"15\", \"urs\", \"14\", \"11\", \"108\", \"100\", '10' ,\"ch\", \"di\", \"aa\",\"wich\",\"bai\",\"meri\",\"v\",\"isa\",\"jisa\",\"vica\",\"taka\",\"vi\",\"othon\",\"nahim\",\"bhi\",\"valom\",\"iha \",\"iha \",\"jadom\",\"kai\",\"tada\",\"andar\",\"utte\",\"sabuta\",\"kadi\",\"nem\",\"ji\",\"kise\",\"pūra\",\"ne\",\"hove\",\"jekar\",\"de\",\"jehara\",\"baada\",\"sara\",\"cho\",\"kade\",\"sab\",\"tan\",\"ki\",\"na\",\"huna\",\"jinam\",\"nala\",\"cahe\",\"kisa \",\"pichom\",\"edhara\",\"nu\",\"ajihe\",\"hi\",\"ke\",\"hain\",\"bahuta\",\"kaafi\",\"huṇe\",\"lai\",\"ki\",\"magara\",\"da\",\"tarham\",\"phera\",\"vele\",\"othe\",\"kite\",\"ithe\",\"jinhanu\",\"jad\",\"vanga \",\"doraan\",\"varaga\",\"jo\",\"la\",\"pura\",\"naale\",\"ton\",\"hona\",\"paso\",\"jeha\",\"es\",\"jina\",\"kujh\",\"dobara\",\"sadda\",\"ethe\",\"bare\",\"kad\",\"kadde\",\"hoye\",\"rahe\",\"bano\",\"deṇi\",\"pia \",\"hoia\",\"gai\",\"laga\",\"huda\",\"janda\",\"vēkha\",\"suṇa\",\"ai\",\"sakde\",\"jave\",\"janda\",\"karke\",\"bilkul\",\"eho\",\"kaun\",\"pher\",\"tad\",\"kolon\",\"kina\",\"jive\",\"hethan\",\"sare\",\"jithe\",\"koi\",\"ki\",\"je\",\"dian\",\"chala\",\"lai\",\"aakh\",\"baṇa\",\"kara\",\"pain\",\"keh\",\"chuke\",\"keha\", \"karvayei\",\"banaye\",\"kitta\",\"javan\",\"dekh\",\"adi\",\"lia\",\"karana\",\"lagoda\",\"aave\",\"kari\",\"laeya\",\"reh\",\"uha\",\"sam\",\"sabha\",\"hana\",\"tu\",\"si\",\"ho\", \"tennu\",\"tusa\",\"hain\",\"hai\",\"apna\",\"je\",\"aate\",\"jam\",\"kal\",\"vagaira\",\"rakh\",\"laag\",\"gal\",\"pi\",\"a\",\"reha\",\"geya\",\"otha\",\"rahi\",\"usne\",\"tusi\",\"mera\",\"usdi\",\"tera\",\"us\",\"oye\",\"aap\",\"san\",\"mein\",\"tusi\",\"assi\",\"par\",\"te\",\"tam\",\"bhavem\",\"aagali\",\"varg\",\"ama\",\"la\",\"hala\",\"ek\", \"tuhada\",\"kita\",\"karde\",\"krde\",\"teri\",\"apne\",\"aj\",\"singh\",\"sikh\",\"ohne\",\"dekh\",\"tuhadi\",\"fir\",\"time\",\"bawa\",\"sidhu\",\"vich\",\"sach\",\"naal\",\"hor\",\"ki\",\"mainu\",\"aaa\",\"wale\",\"hor\",\"krn\",\"kudi\",\"kuj\", \"12\", \"2020\", \"30\", \"300\", \"pwa\", \"do\", \"log\", \"3may\", \"35\", \"40\", \"din\", \"400\", \"50\", \"km\", \"door\", \"5911\", \"50m\", \"3bisby\", \"500\", \"6month\", \"700\", \"900\", \"__\", \"honi\", \"aab\", \"which\", \"ohi\", \"hr\", \"to\", \"aae\"]\n",
    "pat = r'\\b(?:{})\\b'.format('|'.join(stopwords))\n",
    "data['Text'] = data['Text'].str.replace(pat, '')\n",
    "data['Text'] = data['Text'].str.replace(r'\\s+', ' ')\n",
    "import itertools\n",
    "# data['Text'] = ''.join(''.join(s)[:2] for _, s in itertools.groupby(data['Text']))\n",
    "for i in range(len(data)):\n",
    "#     print (i)\n",
    "    data['Text'][i] = ''.join(''.join(s)[:2] for _, s in itertools.groupby(data['Text'][i]))"
   ]
  },
  {
   "cell_type": "code",
   "execution_count": 26,
   "metadata": {},
   "outputs": [],
   "source": [
    "# Preprocessing\n",
    "def tokens(message):\n",
    "#     message = unicode(message, 'utf8')\n",
    "    return TextBlob(message).words\n",
    "\n",
    "def lemmas(message):\n",
    "#     message = unicode(message, 'utf8').lower()\n",
    "    words = TextBlob(message).words\n",
    "    return [word.lemma for word in words]"
   ]
  },
  {
   "cell_type": "code",
   "execution_count": 27,
   "metadata": {},
   "outputs": [],
   "source": [
    "# Divide data into Test and Train\n",
    "msg_train, msg_test, label_train, label_test = train_test_split(data['Text'], data['Sentiment'], test_size=0.15, random_state=42)"
   ]
  },
  {
   "cell_type": "code",
   "execution_count": 28,
   "metadata": {},
   "outputs": [],
   "source": [
    "# create pipeline\n",
    "pipeline = Pipeline([('bow', CountVectorizer(analyzer=lemmas, ngram_range = (1,3))),('tfidf', TfidfTransformer()),('classifier', MultinomialNB())])\n",
    "# pipeline parameters to automatically explore and tune\n",
    "params = {\n",
    "'tfidf__use_idf': (True, False),\n",
    "'bow__analyzer': (lemmas, tokens),\n",
    "'tfidf__norm': ('l1', 'l2'),\n",
    "'classifier__alpha': [1, 1e-1, 1e-2, 1e-3]\n",
    "}\n",
    "skf = StratifiedKFold(n_splits=5)\n",
    "skf.get_n_splits(msg_train, label_train)\n",
    "grid = GridSearchCV(\n",
    "    pipeline,\n",
    "    params, # parameters to tune via cross validation\n",
    "    refit=True, # fit using all data, on the best detected classifier\n",
    "    n_jobs=-1,\n",
    "    scoring='accuracy',\n",
    "    cv=skf,\n",
    ")\n",
    "# train\n",
    "nb_detector = grid.fit(msg_train, label_train)"
   ]
  },
  {
   "cell_type": "code",
   "execution_count": 29,
   "metadata": {},
   "outputs": [
    {
     "name": "stdout",
     "output_type": "stream",
     "text": [
      "[[239  13  18]\n",
      " [ 75  33  37]\n",
      " [ 35   9 194]]\n",
      "\n",
      ":: Classification Report\n",
      "\n",
      "              precision    recall  f1-score   support\n",
      "\n",
      "           0       0.68      0.89      0.77       270\n",
      "           1       0.60      0.23      0.33       145\n",
      "           2       0.78      0.82      0.80       238\n",
      "\n",
      "    accuracy                           0.71       653\n",
      "   macro avg       0.69      0.64      0.63       653\n",
      "weighted avg       0.70      0.71      0.68       653\n",
      "\n"
     ]
    }
   ],
   "source": [
    "print (confusion_matrix(label_test, nb_detector.predict(msg_test)))\n",
    "print (\"\")\n",
    "print (\":: Classification Report\")\n",
    "print (\"\")\n",
    "print (classification_report(label_test, nb_detector.predict(msg_test)))"
   ]
  },
  {
   "cell_type": "code",
   "execution_count": 30,
   "metadata": {},
   "outputs": [],
   "source": [
    "# create pipeline\n",
    "pipeline = Pipeline([('bow', CountVectorizer(analyzer=lemmas)),('tfidf', TfidfTransformer()),('classifier', MultinomialNB())])\n",
    "# pipeline parameters to automatically explore and tune\n",
    "params = {\n",
    "'tfidf__use_idf': (True, False),\n",
    "'bow__analyzer': (lemmas, tokens),\n",
    "'tfidf__norm': ('l1', 'l2'),\n",
    "'classifier__alpha': [1, 1e-1, 1e-2, 1e-3]\n",
    "}\n",
    "skf = StratifiedKFold(n_splits=5)\n",
    "skf.get_n_splits(msg_train, label_train)\n",
    "grid = GridSearchCV(\n",
    "    pipeline,\n",
    "    params, # parameters to tune via cross validation\n",
    "    refit=True, # fit using all data, on the best detected classifier\n",
    "    n_jobs=-1,\n",
    "    scoring='accuracy',\n",
    "    cv=skf,\n",
    ")\n",
    "# train\n",
    "nb_detector = grid.fit(msg_train, label_train)"
   ]
  },
  {
   "cell_type": "code",
   "execution_count": 31,
   "metadata": {},
   "outputs": [
    {
     "name": "stdout",
     "output_type": "stream",
     "text": [
      "[[239  13  18]\n",
      " [ 75  33  37]\n",
      " [ 35   9 194]]\n",
      "\n",
      ":: Classification Report\n",
      "\n",
      "              precision    recall  f1-score   support\n",
      "\n",
      "           0       0.68      0.89      0.77       270\n",
      "           1       0.60      0.23      0.33       145\n",
      "           2       0.78      0.82      0.80       238\n",
      "\n",
      "    accuracy                           0.71       653\n",
      "   macro avg       0.69      0.64      0.63       653\n",
      "weighted avg       0.70      0.71      0.68       653\n",
      "\n"
     ]
    }
   ],
   "source": [
    "print (confusion_matrix(label_test, nb_detector.predict(msg_test)))\n",
    "print (\"\")\n",
    "print (\":: Classification Report\")\n",
    "print (\"\")\n",
    "print (classification_report(label_test, nb_detector.predict(msg_test)))"
   ]
  },
  {
   "cell_type": "code",
   "execution_count": 32,
   "metadata": {},
   "outputs": [],
   "source": [
    "# Uni-Bi\n",
    "# create pipeline\n",
    "pipeline = Pipeline([('bow', CountVectorizer(analyzer=lemmas, ngram_range = (1,2))),('tfidf', TfidfTransformer()),('classifier', MultinomialNB())])\n",
    "# pipeline parameters to automatically explore and tune\n",
    "params = {\n",
    "'tfidf__use_idf': (True, False),\n",
    "'bow__analyzer': (lemmas, tokens),\n",
    "'tfidf__norm': ('l1', 'l2'),\n",
    "'classifier__alpha': [1, 1e-1, 1e-2, 1e-3]\n",
    "}\n",
    "skf = StratifiedKFold(n_splits=5)\n",
    "skf.get_n_splits(msg_train, label_train)\n",
    "grid = GridSearchCV(\n",
    "    pipeline,\n",
    "    params, # parameters to tune via cross validation\n",
    "    refit=True, # fit using all data, on the best detected classifier\n",
    "    n_jobs=-1,\n",
    "    scoring='accuracy',\n",
    "    cv=skf,\n",
    ")\n",
    "# train\n",
    "nb_detector = grid.fit(msg_train, label_train)"
   ]
  },
  {
   "cell_type": "code",
   "execution_count": 33,
   "metadata": {},
   "outputs": [
    {
     "name": "stdout",
     "output_type": "stream",
     "text": [
      "[[239  13  18]\n",
      " [ 75  33  37]\n",
      " [ 35   9 194]]\n",
      "\n",
      ":: Classification Report\n",
      "\n",
      "              precision    recall  f1-score   support\n",
      "\n",
      "           0       0.68      0.89      0.77       270\n",
      "           1       0.60      0.23      0.33       145\n",
      "           2       0.78      0.82      0.80       238\n",
      "\n",
      "    accuracy                           0.71       653\n",
      "   macro avg       0.69      0.64      0.63       653\n",
      "weighted avg       0.70      0.71      0.68       653\n",
      "\n"
     ]
    }
   ],
   "source": [
    "print (confusion_matrix(label_test, nb_detector.predict(msg_test)))\n",
    "print (\"\")\n",
    "print (\":: Classification Report\")\n",
    "print (\"\")\n",
    "print (classification_report(label_test, nb_detector.predict(msg_test)))"
   ]
  },
  {
   "cell_type": "code",
   "execution_count": 34,
   "metadata": {},
   "outputs": [],
   "source": [
    "###############################################SUPPORT VECTOR MACHINES##########################################################\n",
    "from sklearn.svm import SVC, LinearSVC\n",
    "# create pipeline\n",
    "pipeline = Pipeline([('bow', CountVectorizer(analyzer=lemmas, ngram_range = (1,3))),('tfidf', TfidfTransformer()),('classifier', SVC())])\n",
    "# pipeline parameters to automatically explore and tune\n",
    "# params = {'max_leaf_nodes': list(range(2, 100)), 'min_samples_split': [2, 3, 4]}\n",
    "params = [\n",
    "        {'classifier__C': [1, 10, 100, 1000], 'classifier__kernel': ['linear']},\n",
    "        {'classifier__C': [1, 10, 100, 1000], 'classifier__gamma': [0.001, 0.0001], 'classifier__kernel': ['rbf', 'linear']},\n",
    "]\n",
    "skf = StratifiedKFold(n_splits=5)\n",
    "skf.get_n_splits(msg_train, label_train)\n",
    "grid = GridSearchCV(\n",
    "    pipeline,\n",
    "    params, # parameters to tune via cross validation\n",
    "    refit=True, # fit using all data, on the best detected classifier\n",
    "    n_jobs=-1,\n",
    "    scoring='accuracy',\n",
    "    cv=skf,\n",
    ")\n",
    "# train\n",
    "svc_detector = grid.fit(msg_train, label_train)"
   ]
  },
  {
   "cell_type": "code",
   "execution_count": 35,
   "metadata": {},
   "outputs": [
    {
     "name": "stdout",
     "output_type": "stream",
     "text": [
      "[[226  22  22]\n",
      " [ 59  52  34]\n",
      " [ 29  20 189]]\n",
      "\n",
      ":: Classification Report\n",
      "\n",
      "              precision    recall  f1-score   support\n",
      "\n",
      "           0       0.72      0.84      0.77       270\n",
      "           1       0.55      0.36      0.44       145\n",
      "           2       0.77      0.79      0.78       238\n",
      "\n",
      "    accuracy                           0.72       653\n",
      "   macro avg       0.68      0.66      0.66       653\n",
      "weighted avg       0.70      0.72      0.70       653\n",
      "\n"
     ]
    }
   ],
   "source": [
    "print (confusion_matrix(label_test, svc_detector.predict(msg_test)))\n",
    "print (\"\")\n",
    "print (\":: Classification Report\")\n",
    "print (\"\")\n",
    "print (classification_report(label_test, svc_detector.predict(msg_test)))"
   ]
  },
  {
   "cell_type": "code",
   "execution_count": 36,
   "metadata": {},
   "outputs": [
    {
     "name": "stdout",
     "output_type": "stream",
     "text": [
      "[[226  22  22]\n",
      " [ 59  52  34]\n",
      " [ 29  20 189]]\n",
      "\n",
      ":: Classification Report\n",
      "\n",
      "              precision    recall  f1-score   support\n",
      "\n",
      "           0       0.72      0.84      0.77       270\n",
      "           1       0.55      0.36      0.44       145\n",
      "           2       0.77      0.79      0.78       238\n",
      "\n",
      "    accuracy                           0.72       653\n",
      "   macro avg       0.68      0.66      0.66       653\n",
      "weighted avg       0.70      0.72      0.70       653\n",
      "\n"
     ]
    }
   ],
   "source": [
    "# Uni-bi\n",
    "from sklearn.svm import SVC, LinearSVC\n",
    "# create pipeline\n",
    "pipeline = Pipeline([('bow', CountVectorizer(analyzer=lemmas, ngram_range = (1,2))),('tfidf', TfidfTransformer()),('classifier', SVC())])\n",
    "# pipeline parameters to automatically explore and tune\n",
    "# params = {'max_leaf_nodes': list(range(2, 100)), 'min_samples_split': [2, 3, 4]}\n",
    "params = [\n",
    "        {'classifier__C': [1, 10, 100, 1000], 'classifier__kernel': ['linear']},\n",
    "        {'classifier__C': [1, 10, 100, 1000], 'classifier__gamma': [0.001, 0.0001], 'classifier__kernel': ['rbf', 'linear']},\n",
    "]\n",
    "skf = StratifiedKFold(n_splits=5)\n",
    "skf.get_n_splits(msg_train, label_train)\n",
    "grid = GridSearchCV(\n",
    "    pipeline,\n",
    "    params, # parameters to tune via cross validation\n",
    "    refit=True, # fit using all data, on the best detected classifier\n",
    "    n_jobs=-1,\n",
    "    scoring='accuracy',\n",
    "    cv=skf,\n",
    ")\n",
    "# train\n",
    "svc_detector = grid.fit(msg_train, label_train)\n",
    "\n",
    "print (confusion_matrix(label_test, svc_detector.predict(msg_test)))\n",
    "print (\"\")\n",
    "print (\":: Classification Report\")\n",
    "print (\"\")\n",
    "print (classification_report(label_test, svc_detector.predict(msg_test)))"
   ]
  },
  {
   "cell_type": "code",
   "execution_count": 37,
   "metadata": {},
   "outputs": [
    {
     "name": "stdout",
     "output_type": "stream",
     "text": [
      "[[226  22  22]\n",
      " [ 59  52  34]\n",
      " [ 29  20 189]]\n",
      "\n",
      ":: Classification Report\n",
      "\n",
      "              precision    recall  f1-score   support\n",
      "\n",
      "           0       0.72      0.84      0.77       270\n",
      "           1       0.55      0.36      0.44       145\n",
      "           2       0.77      0.79      0.78       238\n",
      "\n",
      "    accuracy                           0.72       653\n",
      "   macro avg       0.68      0.66      0.66       653\n",
      "weighted avg       0.70      0.72      0.70       653\n",
      "\n"
     ]
    }
   ],
   "source": [
    "# Uni\n",
    "from sklearn.svm import SVC, LinearSVC\n",
    "# create pipeline\n",
    "pipeline = Pipeline([('bow', CountVectorizer(analyzer=lemmas)),('tfidf', TfidfTransformer()),('classifier', SVC())])\n",
    "# pipeline parameters to automatically explore and tune\n",
    "# params = {'max_leaf_nodes': list(range(2, 100)), 'min_samples_split': [2, 3, 4]}\n",
    "params = [\n",
    "        {'classifier__C': [1, 10, 100, 1000], 'classifier__kernel': ['linear']},\n",
    "        {'classifier__C': [1, 10, 100, 1000], 'classifier__gamma': [0.001, 0.0001], 'classifier__kernel': ['rbf', 'linear']},\n",
    "]\n",
    "skf = StratifiedKFold(n_splits=5)\n",
    "skf.get_n_splits(msg_train, label_train)\n",
    "grid = GridSearchCV(\n",
    "    pipeline,\n",
    "    params, # parameters to tune via cross validation\n",
    "    refit=True, # fit using all data, on the best detected classifier\n",
    "    n_jobs=-1,\n",
    "    scoring='accuracy',\n",
    "    cv=skf,\n",
    ")\n",
    "# train\n",
    "svc_detector = grid.fit(msg_train, label_train)\n",
    "\n",
    "print (confusion_matrix(label_test, svc_detector.predict(msg_test)))\n",
    "print (\"\")\n",
    "print (\":: Classification Report\")\n",
    "print (\"\")\n",
    "print (classification_report(label_test, svc_detector.predict(msg_test)))"
   ]
  },
  {
   "cell_type": "code",
   "execution_count": null,
   "metadata": {},
   "outputs": [],
   "source": []
  },
  {
   "cell_type": "code",
   "execution_count": null,
   "metadata": {},
   "outputs": [],
   "source": []
  },
  {
   "cell_type": "code",
   "execution_count": 38,
   "metadata": {},
   "outputs": [],
   "source": [
    "#############SGC CLassifier##################################\n",
    "from sklearn.linear_model import SGDClassifier\n",
    "# create pipeline\n",
    "pipeline = Pipeline([('bow', CountVectorizer(analyzer=lemmas, ngram_range = (1,3))),('tfidf', TfidfTransformer()),('classifier', SGDClassifier(max_iter=1000))])\n",
    "# pipeline parameters to automatically explore and tune\n",
    "# params = {'max_leaf_nodes': list(range(2, 100)), 'min_samples_split': [2, 3, 4]}\n",
    "params = {\n",
    "'tfidf__use_idf': (True, False),\n",
    "'bow__analyzer': (lemmas, tokens),\n",
    "'tfidf__norm': ('l1', 'l2'),\n",
    "'classifier__loss': [\"hinge\", \"log\", \"squared_hinge\", \"modified_huber\"],\n",
    "\"classifier__alpha\" : [0.0001, 0.001, 0.01, 0.1],\n",
    "'classifier__penalty' : [\"l2\", \"l1\", \"none\"]\n",
    "}\n",
    "\n",
    "skf = StratifiedKFold(n_splits=5)\n",
    "skf.get_n_splits(msg_train, label_train)\n",
    "grid = GridSearchCV(\n",
    "    pipeline,\n",
    "    params, # parameters to tune via cross validation\n",
    "    refit=True, # fit using all data, on the best detected classifier\n",
    "    n_jobs=-1,\n",
    "    scoring='accuracy',\n",
    "    cv=skf,\n",
    ")\n",
    "# train\n",
    "sgd_detector = grid.fit(msg_train, label_train)"
   ]
  },
  {
   "cell_type": "code",
   "execution_count": 39,
   "metadata": {},
   "outputs": [
    {
     "name": "stdout",
     "output_type": "stream",
     "text": [
      "[[228  21  21]\n",
      " [ 58  47  40]\n",
      " [ 29  17 192]]\n",
      "\n",
      ":: Classification Report\n",
      "\n",
      "              precision    recall  f1-score   support\n",
      "\n",
      "           0       0.72      0.84      0.78       270\n",
      "           1       0.55      0.32      0.41       145\n",
      "           2       0.76      0.81      0.78       238\n",
      "\n",
      "    accuracy                           0.72       653\n",
      "   macro avg       0.68      0.66      0.66       653\n",
      "weighted avg       0.70      0.72      0.70       653\n",
      "\n"
     ]
    }
   ],
   "source": [
    "print (confusion_matrix(label_test, sgd_detector.predict(msg_test)))\n",
    "print (\"\")\n",
    "print (\":: Classification Report\")\n",
    "print (\"\")\n",
    "print (classification_report(label_test, sgd_detector.predict(msg_test)))"
   ]
  },
  {
   "cell_type": "code",
   "execution_count": 40,
   "metadata": {},
   "outputs": [
    {
     "name": "stdout",
     "output_type": "stream",
     "text": [
      "[[227  21  22]\n",
      " [ 50  52  43]\n",
      " [ 24  20 194]]\n",
      "\n",
      ":: Classification Report\n",
      "\n",
      "              precision    recall  f1-score   support\n",
      "\n",
      "           0       0.75      0.84      0.80       270\n",
      "           1       0.56      0.36      0.44       145\n",
      "           2       0.75      0.82      0.78       238\n",
      "\n",
      "    accuracy                           0.72       653\n",
      "   macro avg       0.69      0.67      0.67       653\n",
      "weighted avg       0.71      0.72      0.71       653\n",
      "\n"
     ]
    }
   ],
   "source": [
    "#Uni-Bi\n",
    "#############SGC CLassifier##################################\n",
    "from sklearn.linear_model import SGDClassifier\n",
    "# create pipeline\n",
    "pipeline = Pipeline([('bow', CountVectorizer(analyzer=lemmas, ngram_range = (1,2))),('tfidf', TfidfTransformer()),('classifier', SGDClassifier(max_iter=1000))])\n",
    "# pipeline parameters to automatically explore and tune\n",
    "# params = {'max_leaf_nodes': list(range(2, 100)), 'min_samples_split': [2, 3, 4]}\n",
    "params = {\n",
    "'tfidf__use_idf': (True, False),\n",
    "'bow__analyzer': (lemmas, tokens),\n",
    "'tfidf__norm': ('l1', 'l2'),\n",
    "'classifier__loss': [\"hinge\", \"log\", \"squared_hinge\", \"modified_huber\"],\n",
    "\"classifier__alpha\" : [0.0001, 0.001, 0.01, 0.1],\n",
    "'classifier__penalty' : [\"l2\", \"l1\", \"none\"]\n",
    "}\n",
    "\n",
    "skf = StratifiedKFold(n_splits=5)\n",
    "skf.get_n_splits(msg_train, label_train)\n",
    "grid = GridSearchCV(\n",
    "    pipeline,\n",
    "    params, # parameters to tune via cross validation\n",
    "    refit=True, # fit using all data, on the best detected classifier\n",
    "    n_jobs=-1,\n",
    "    scoring='accuracy',\n",
    "    cv=skf,\n",
    ")\n",
    "# train\n",
    "sgd_detector = grid.fit(msg_train, label_train)\n",
    "\n",
    "print (confusion_matrix(label_test, sgd_detector.predict(msg_test)))\n",
    "print (\"\")\n",
    "print (\":: Classification Report\")\n",
    "print (\"\")\n",
    "print (classification_report(label_test, sgd_detector.predict(msg_test)))"
   ]
  },
  {
   "cell_type": "code",
   "execution_count": 41,
   "metadata": {},
   "outputs": [
    {
     "name": "stdout",
     "output_type": "stream",
     "text": [
      "[[226  21  23]\n",
      " [ 56  48  41]\n",
      " [ 29  16 193]]\n",
      "\n",
      ":: Classification Report\n",
      "\n",
      "              precision    recall  f1-score   support\n",
      "\n",
      "           0       0.73      0.84      0.78       270\n",
      "           1       0.56      0.33      0.42       145\n",
      "           2       0.75      0.81      0.78       238\n",
      "\n",
      "    accuracy                           0.72       653\n",
      "   macro avg       0.68      0.66      0.66       653\n",
      "weighted avg       0.70      0.72      0.70       653\n",
      "\n"
     ]
    }
   ],
   "source": [
    "#Uni\n",
    "#############SGC CLassifier##################################\n",
    "from sklearn.linear_model import SGDClassifier\n",
    "# create pipeline\n",
    "pipeline = Pipeline([('bow', CountVectorizer(analyzer=lemmas)),('tfidf', TfidfTransformer()),('classifier', SGDClassifier(max_iter=1000))])\n",
    "# pipeline parameters to automatically explore and tune\n",
    "# params = {'max_leaf_nodes': list(range(2, 100)), 'min_samples_split': [2, 3, 4]}\n",
    "params = {\n",
    "'tfidf__use_idf': (True, False),\n",
    "'bow__analyzer': (lemmas, tokens),\n",
    "'tfidf__norm': ('l1', 'l2'),\n",
    "'classifier__loss': [\"hinge\", \"log\", \"squared_hinge\", \"modified_huber\"],\n",
    "\"classifier__alpha\" : [0.0001, 0.001, 0.01, 0.1],\n",
    "'classifier__penalty' : [\"l2\", \"l1\", \"none\"]\n",
    "}\n",
    "\n",
    "skf = StratifiedKFold(n_splits=5)\n",
    "skf.get_n_splits(msg_train, label_train)\n",
    "grid = GridSearchCV(\n",
    "    pipeline,\n",
    "    params, # parameters to tune via cross validation\n",
    "    refit=True, # fit using all data, on the best detected classifier\n",
    "    n_jobs=-1,\n",
    "    scoring='accuracy',\n",
    "    cv=skf,\n",
    ")\n",
    "# train\n",
    "sgd_detector = grid.fit(msg_train, label_train)\n",
    "\n",
    "print (confusion_matrix(label_test, sgd_detector.predict(msg_test)))\n",
    "print (\"\")\n",
    "print (\":: Classification Report\")\n",
    "print (\"\")\n",
    "print (classification_report(label_test, sgd_detector.predict(msg_test)))"
   ]
  },
  {
   "cell_type": "code",
   "execution_count": 43,
   "metadata": {},
   "outputs": [
    {
     "name": "stdout",
     "output_type": "stream",
     "text": [
      "Found 9576 unique tokens.\n"
     ]
    }
   ],
   "source": [
    "##########################LSTM IMPLEMENTATION##############################\n",
    "import numpy as np \n",
    "import pandas as pd\n",
    "import matplotlib.pyplot as plt\n",
    "import seaborn as sns\n",
    "from keras.preprocessing.text import Tokenizer\n",
    "from keras.preprocessing.sequence import pad_sequences\n",
    "from keras.models import Sequential\n",
    "from keras.layers import Dense, Embedding, LSTM, SpatialDropout1D\n",
    "from sklearn.model_selection import train_test_split\n",
    "from keras.utils.np_utils import to_categorical\n",
    "from keras.callbacks import EarlyStopping\n",
    "from keras.layers import Dropout\n",
    "import re\n",
    "#LSTM Implementation\n",
    "# The maximum number of words to be used. (most frequent)\n",
    "MAX_NB_WORDS = 14000\n",
    "# Max number of words in each complaint.\n",
    "MAX_SEQUENCE_LENGTH = 250\n",
    "# This is fixed.\n",
    "EMBEDDING_DIM = 100\n",
    "\n",
    "tokenizer = Tokenizer(num_words=MAX_NB_WORDS, filters='!\"#$%&()*+,-./:;<=>?@[\\]^_`{|}~', lower=True)\n",
    "tokenizer.fit_on_texts(data['Text'].values)\n",
    "word_index = tokenizer.word_index\n",
    "print('Found %s unique tokens.' % len(word_index))"
   ]
  },
  {
   "cell_type": "code",
   "execution_count": 44,
   "metadata": {},
   "outputs": [
    {
     "name": "stdout",
     "output_type": "stream",
     "text": [
      "Shape of data tensor: (4349, 250)\n"
     ]
    }
   ],
   "source": [
    "X = tokenizer.texts_to_sequences(data['Text'].values)\n",
    "X = pad_sequences(X, maxlen=MAX_SEQUENCE_LENGTH)\n",
    "print('Shape of data tensor:', X.shape)"
   ]
  },
  {
   "cell_type": "code",
   "execution_count": 45,
   "metadata": {},
   "outputs": [
    {
     "data": {
      "text/html": [
       "<div>\n",
       "<style scoped>\n",
       "    .dataframe tbody tr th:only-of-type {\n",
       "        vertical-align: middle;\n",
       "    }\n",
       "\n",
       "    .dataframe tbody tr th {\n",
       "        vertical-align: top;\n",
       "    }\n",
       "\n",
       "    .dataframe thead th {\n",
       "        text-align: right;\n",
       "    }\n",
       "</style>\n",
       "<table border=\"1\" class=\"dataframe\">\n",
       "  <thead>\n",
       "    <tr style=\"text-align: right;\">\n",
       "      <th></th>\n",
       "      <th>Text</th>\n",
       "      <th>Sentiment</th>\n",
       "    </tr>\n",
       "  </thead>\n",
       "  <tbody>\n",
       "    <tr>\n",
       "      <th>0</th>\n",
       "      <td>hindu rosh nae hunda</td>\n",
       "      <td>1</td>\n",
       "    </tr>\n",
       "    <tr>\n",
       "      <th>1</th>\n",
       "      <td>moot peeniya koda lgda veer walay salaam kalam</td>\n",
       "      <td>2</td>\n",
       "    </tr>\n",
       "    <tr>\n",
       "      <th>2</th>\n",
       "      <td>siraa karta bro, att</td>\n",
       "      <td>2</td>\n",
       "    </tr>\n",
       "    <tr>\n",
       "      <th>3</th>\n",
       "      <td>moot peene moot he pee bus</td>\n",
       "      <td>0</td>\n",
       "    </tr>\n",
       "    <tr>\n",
       "      <th>4</th>\n",
       "      <td>sahi song</td>\n",
       "      <td>2</td>\n",
       "    </tr>\n",
       "  </tbody>\n",
       "</table>\n",
       "</div>"
      ],
      "text/plain": [
       "                                              Text  Sentiment\n",
       "0                             hindu rosh nae hunda          1\n",
       "1  moot peeniya koda lgda veer walay salaam kalam           2\n",
       "2                            siraa karta bro, att           2\n",
       "3                       moot peene moot he pee bus          0\n",
       "4                                        sahi song          2"
      ]
     },
     "execution_count": 45,
     "metadata": {},
     "output_type": "execute_result"
    }
   ],
   "source": [
    "data.head()"
   ]
  },
  {
   "cell_type": "code",
   "execution_count": 47,
   "metadata": {},
   "outputs": [
    {
     "name": "stdout",
     "output_type": "stream",
     "text": [
      "Shape of label tensor: (4349, 3)\n"
     ]
    }
   ],
   "source": [
    "Y = pd.get_dummies(data['Sentiment']).values\n",
    "print('Shape of label tensor:', Y.shape)"
   ]
  },
  {
   "cell_type": "code",
   "execution_count": 48,
   "metadata": {},
   "outputs": [
    {
     "name": "stdout",
     "output_type": "stream",
     "text": [
      "(3914, 250) (3914, 3)\n",
      "(435, 250) (435, 3)\n"
     ]
    }
   ],
   "source": [
    "X_train, X_test, Y_train, Y_test = train_test_split(X,Y, test_size = 0.10, random_state = 42)\n",
    "print(X_train.shape,Y_train.shape)\n",
    "print(X_test.shape,Y_test.shape)"
   ]
  },
  {
   "cell_type": "code",
   "execution_count": 49,
   "metadata": {},
   "outputs": [
    {
     "name": "stdout",
     "output_type": "stream",
     "text": [
      "WARNING:tensorflow:From C:\\Users\\konark\\anaconda3\\lib\\site-packages\\tensorflow\\python\\ops\\resource_variable_ops.py:435: colocate_with (from tensorflow.python.framework.ops) is deprecated and will be removed in a future version.\n",
      "Instructions for updating:\n",
      "Colocations handled automatically by placer.\n",
      "Model: \"sequential_1\"\n",
      "_________________________________________________________________\n",
      "Layer (type)                 Output Shape              Param #   \n",
      "=================================================================\n",
      "embedding_1 (Embedding)      (None, 250, 100)          1400000   \n",
      "_________________________________________________________________\n",
      "spatial_dropout1d_1 (Spatial (None, 250, 100)          0         \n",
      "_________________________________________________________________\n",
      "lstm_1 (LSTM)                (None, 100)               80400     \n",
      "_________________________________________________________________\n",
      "dense_1 (Dense)              (None, 13)                1313      \n",
      "_________________________________________________________________\n",
      "dense_2 (Dense)              (None, 3)                 42        \n",
      "=================================================================\n",
      "Total params: 1,481,755\n",
      "Trainable params: 1,481,755\n",
      "Non-trainable params: 0\n",
      "_________________________________________________________________\n",
      "None\n"
     ]
    }
   ],
   "source": [
    "# variables_for_classification=3 #change it as per your number of categories\n",
    "model = Sequential()\n",
    "# model.add(Dense(variables_for_classification, activation='softmax'))\n",
    "model.add(Embedding(MAX_NB_WORDS, EMBEDDING_DIM, input_length=X.shape[1]))\n",
    "model.add(SpatialDropout1D(0.2))\n",
    "model.add(LSTM(100, dropout=0.2, recurrent_dropout=0.2))\n",
    "model.add(Dense(13, activation='softmax'))\n",
    "model.add(Dense(3, activation='softmax'))\n",
    "model.compile(loss='categorical_crossentropy', optimizer='adam', metrics=['accuracy'])\n",
    "print(model.summary())"
   ]
  },
  {
   "cell_type": "code",
   "execution_count": 50,
   "metadata": {},
   "outputs": [
    {
     "name": "stdout",
     "output_type": "stream",
     "text": [
      "WARNING:tensorflow:From C:\\Users\\konark\\anaconda3\\lib\\site-packages\\tensorflow\\python\\ops\\math_ops.py:3066: to_int32 (from tensorflow.python.ops.math_ops) is deprecated and will be removed in a future version.\n",
      "Instructions for updating:\n",
      "Use tf.cast instead.\n",
      "Train on 3522 samples, validate on 392 samples\n",
      "Epoch 1/100\n",
      "3522/3522 [==============================] - 35s 10ms/step - loss: 1.0706 - accuracy: 0.3958 - val_loss: 1.0536 - val_accuracy: 0.4362\n",
      "Epoch 2/100\n",
      "3522/3522 [==============================] - 34s 10ms/step - loss: 1.0500 - accuracy: 0.4514 - val_loss: 1.0015 - val_accuracy: 0.6173\n",
      "Epoch 3/100\n",
      "3522/3522 [==============================] - 33s 9ms/step - loss: 0.9479 - accuracy: 0.6715 - val_loss: 0.9324 - val_accuracy: 0.6607\n",
      "Epoch 4/100\n",
      "3522/3522 [==============================] - 36s 10ms/step - loss: 0.8696 - accuracy: 0.7286 - val_loss: 0.8974 - val_accuracy: 0.6633\n",
      "Epoch 5/100\n",
      "3522/3522 [==============================] - 36s 10ms/step - loss: 0.8102 - accuracy: 0.7530 - val_loss: 0.8732 - val_accuracy: 0.6760\n",
      "Epoch 6/100\n",
      "3522/3522 [==============================] - 35s 10ms/step - loss: 0.7660 - accuracy: 0.7621 - val_loss: 0.8719 - val_accuracy: 0.6607\n",
      "Epoch 7/100\n",
      "3522/3522 [==============================] - 39s 11ms/step - loss: 0.7253 - accuracy: 0.7709 - val_loss: 0.8728 - val_accuracy: 0.6531\n",
      "Epoch 8/100\n",
      "3522/3522 [==============================] - 39s 11ms/step - loss: 0.6630 - accuracy: 0.7950 - val_loss: 0.8499 - val_accuracy: 0.6352\n",
      "Epoch 9/100\n",
      "3522/3522 [==============================] - 39s 11ms/step - loss: 0.5979 - accuracy: 0.8788 - val_loss: 0.8257 - val_accuracy: 0.6811\n",
      "Epoch 10/100\n",
      "3522/3522 [==============================] - 43s 12ms/step - loss: 0.5387 - accuracy: 0.9094 - val_loss: 0.8189 - val_accuracy: 0.6786\n",
      "Epoch 11/100\n",
      "3522/3522 [==============================] - 42s 12ms/step - loss: 0.4876 - accuracy: 0.9302 - val_loss: 0.8201 - val_accuracy: 0.6786\n",
      "Epoch 12/100\n",
      "3522/3522 [==============================] - 44s 12ms/step - loss: 0.4502 - accuracy: 0.9387 - val_loss: 0.8116 - val_accuracy: 0.6939\n",
      "Epoch 13/100\n",
      "3522/3522 [==============================] - 43s 12ms/step - loss: 0.4120 - accuracy: 0.9455 - val_loss: 0.8362 - val_accuracy: 0.6607\n",
      "Epoch 14/100\n",
      "3522/3522 [==============================] - 40s 11ms/step - loss: 0.3750 - accuracy: 0.9557 - val_loss: 0.8498 - val_accuracy: 0.6607\n",
      "Epoch 15/100\n",
      "3522/3522 [==============================] - 41s 12ms/step - loss: 0.3508 - accuracy: 0.9574 - val_loss: 0.8505 - val_accuracy: 0.6633\n",
      "Epoch 16/100\n",
      "3522/3522 [==============================] - 40s 11ms/step - loss: 0.3345 - accuracy: 0.9557 - val_loss: 0.8460 - val_accuracy: 0.6658\n",
      "Epoch 17/100\n",
      "3522/3522 [==============================] - 40s 11ms/step - loss: 0.3041 - accuracy: 0.9665 - val_loss: 0.8879 - val_accuracy: 0.6429\n",
      "Epoch 18/100\n",
      "3522/3522 [==============================] - 40s 11ms/step - loss: 0.2909 - accuracy: 0.9656 - val_loss: 0.8586 - val_accuracy: 0.6633\n",
      "Epoch 19/100\n",
      "3522/3522 [==============================] - 40s 11ms/step - loss: 0.2697 - accuracy: 0.9705 - val_loss: 0.8866 - val_accuracy: 0.6607\n",
      "Epoch 20/100\n",
      "3522/3522 [==============================] - 38s 11ms/step - loss: 0.2562 - accuracy: 0.9710 - val_loss: 0.8785 - val_accuracy: 0.6684\n",
      "Epoch 21/100\n",
      "3522/3522 [==============================] - 39s 11ms/step - loss: 0.2429 - accuracy: 0.9736 - val_loss: 0.9091 - val_accuracy: 0.6531\n",
      "Epoch 22/100\n",
      "3522/3522 [==============================] - 37s 11ms/step - loss: 0.2304 - accuracy: 0.9750 - val_loss: 0.9058 - val_accuracy: 0.6684\n",
      "Epoch 23/100\n",
      "3522/3522 [==============================] - 38s 11ms/step - loss: 0.2217 - accuracy: 0.9747 - val_loss: 0.9249 - val_accuracy: 0.6633\n",
      "Epoch 24/100\n",
      "3522/3522 [==============================] - 39s 11ms/step - loss: 0.2130 - accuracy: 0.9744 - val_loss: 0.9695 - val_accuracy: 0.6429\n",
      "Epoch 25/100\n",
      "3522/3522 [==============================] - 38s 11ms/step - loss: 0.2065 - accuracy: 0.9747 - val_loss: 0.9329 - val_accuracy: 0.6556\n",
      "Epoch 26/100\n",
      "3522/3522 [==============================] - 39s 11ms/step - loss: 0.2047 - accuracy: 0.9716 - val_loss: 0.9463 - val_accuracy: 0.6556\n",
      "Epoch 27/100\n",
      "3522/3522 [==============================] - 36s 10ms/step - loss: 0.1995 - accuracy: 0.9727 - val_loss: 0.9465 - val_accuracy: 0.6684\n",
      "Epoch 28/100\n",
      "3522/3522 [==============================] - 36s 10ms/step - loss: 0.1900 - accuracy: 0.9727 - val_loss: 0.9939 - val_accuracy: 0.6352\n",
      "Epoch 29/100\n",
      "3522/3522 [==============================] - 37s 10ms/step - loss: 0.1813 - accuracy: 0.9756 - val_loss: 0.9685 - val_accuracy: 0.6633\n",
      "Epoch 30/100\n",
      "3522/3522 [==============================] - 39s 11ms/step - loss: 0.1748 - accuracy: 0.9764 - val_loss: 1.0070 - val_accuracy: 0.6454\n",
      "Epoch 31/100\n",
      "3522/3522 [==============================] - 37s 10ms/step - loss: 0.1706 - accuracy: 0.9750 - val_loss: 1.0142 - val_accuracy: 0.6480\n",
      "Epoch 32/100\n",
      "3522/3522 [==============================] - 39s 11ms/step - loss: 0.1638 - accuracy: 0.9770 - val_loss: 1.0108 - val_accuracy: 0.6531\n",
      "Epoch 33/100\n",
      "3522/3522 [==============================] - 39s 11ms/step - loss: 0.1588 - accuracy: 0.9781 - val_loss: 1.0263 - val_accuracy: 0.6480\n",
      "Epoch 34/100\n",
      "3522/3522 [==============================] - 42s 12ms/step - loss: 0.1566 - accuracy: 0.9781 - val_loss: 1.0267 - val_accuracy: 0.6556\n",
      "Epoch 35/100\n",
      "3522/3522 [==============================] - 41s 12ms/step - loss: 0.1495 - accuracy: 0.9796 - val_loss: 0.9931 - val_accuracy: 0.6760\n",
      "Epoch 36/100\n",
      "3522/3522 [==============================] - 37s 11ms/step - loss: 0.1491 - accuracy: 0.9779 - val_loss: 1.0343 - val_accuracy: 0.6556\n",
      "Epoch 37/100\n",
      "3522/3522 [==============================] - 33s 9ms/step - loss: 0.1465 - accuracy: 0.9781 - val_loss: 1.0596 - val_accuracy: 0.6556\n",
      "Epoch 38/100\n",
      "3522/3522 [==============================] - 34s 10ms/step - loss: 0.1428 - accuracy: 0.9787 - val_loss: 1.0334 - val_accuracy: 0.6658\n",
      "Epoch 39/100\n",
      "3522/3522 [==============================] - 33s 9ms/step - loss: 0.1363 - accuracy: 0.9807 - val_loss: 1.0620 - val_accuracy: 0.6633\n",
      "Epoch 40/100\n",
      "3522/3522 [==============================] - 33s 9ms/step - loss: 0.1350 - accuracy: 0.9796 - val_loss: 1.0847 - val_accuracy: 0.6531\n",
      "Epoch 41/100\n",
      "3522/3522 [==============================] - 35s 10ms/step - loss: 0.1319 - accuracy: 0.9798 - val_loss: 1.1093 - val_accuracy: 0.6556\n",
      "Epoch 42/100\n",
      "3522/3522 [==============================] - 33s 9ms/step - loss: 0.1300 - accuracy: 0.9801 - val_loss: 1.0881 - val_accuracy: 0.6531\n",
      "Epoch 43/100\n",
      "3522/3522 [==============================] - 33s 9ms/step - loss: 0.1254 - accuracy: 0.9813 - val_loss: 1.1131 - val_accuracy: 0.6582\n",
      "Epoch 44/100\n",
      "3522/3522 [==============================] - 34s 10ms/step - loss: 0.1254 - accuracy: 0.9801 - val_loss: 1.1052 - val_accuracy: 0.6556\n",
      "Epoch 45/100\n",
      "3522/3522 [==============================] - 35s 10ms/step - loss: 0.1234 - accuracy: 0.9801 - val_loss: 1.1257 - val_accuracy: 0.6607\n",
      "Epoch 46/100\n",
      "3522/3522 [==============================] - 34s 10ms/step - loss: 0.1238 - accuracy: 0.9798 - val_loss: 1.1102 - val_accuracy: 0.6658\n",
      "Epoch 47/100\n",
      "3522/3522 [==============================] - 34s 10ms/step - loss: 0.1248 - accuracy: 0.9790 - val_loss: 1.0659 - val_accuracy: 0.6658\n",
      "Epoch 48/100\n",
      "3522/3522 [==============================] - 34s 10ms/step - loss: 0.1200 - accuracy: 0.9796 - val_loss: 1.1713 - val_accuracy: 0.6531\n",
      "Epoch 49/100\n",
      "3522/3522 [==============================] - 36s 10ms/step - loss: 0.1165 - accuracy: 0.9796 - val_loss: 1.1137 - val_accuracy: 0.6556\n",
      "Epoch 50/100\n",
      "3522/3522 [==============================] - 41s 12ms/step - loss: 0.1120 - accuracy: 0.9818 - val_loss: 1.1218 - val_accuracy: 0.6633\n",
      "Epoch 51/100\n",
      "3522/3522 [==============================] - 39s 11ms/step - loss: 0.1103 - accuracy: 0.9818 - val_loss: 1.1452 - val_accuracy: 0.6556\n",
      "Epoch 52/100\n",
      "3522/3522 [==============================] - 39s 11ms/step - loss: 0.1107 - accuracy: 0.9815 - val_loss: 1.1334 - val_accuracy: 0.6684\n",
      "Epoch 53/100\n",
      "3522/3522 [==============================] - 37s 11ms/step - loss: 0.1091 - accuracy: 0.9813 - val_loss: 1.1390 - val_accuracy: 0.6607\n",
      "Epoch 54/100\n",
      "3522/3522 [==============================] - 41s 12ms/step - loss: 0.1084 - accuracy: 0.9810 - val_loss: 1.1483 - val_accuracy: 0.6480\n",
      "Epoch 55/100\n",
      "3522/3522 [==============================] - 37s 10ms/step - loss: 0.1060 - accuracy: 0.9818 - val_loss: 1.0973 - val_accuracy: 0.6633\n",
      "Epoch 56/100\n",
      "3522/3522 [==============================] - 35s 10ms/step - loss: 0.1019 - accuracy: 0.9824 - val_loss: 1.1766 - val_accuracy: 0.6480\n",
      "Epoch 57/100\n",
      "3522/3522 [==============================] - 37s 10ms/step - loss: 0.0988 - accuracy: 0.9818 - val_loss: 1.1645 - val_accuracy: 0.6480\n",
      "Epoch 58/100\n",
      "3522/3522 [==============================] - 33s 9ms/step - loss: 0.0957 - accuracy: 0.9824 - val_loss: 1.1193 - val_accuracy: 0.6531\n",
      "Epoch 59/100\n",
      "3522/3522 [==============================] - 36s 10ms/step - loss: 0.0895 - accuracy: 0.9841 - val_loss: 1.1505 - val_accuracy: 0.6429\n",
      "Epoch 60/100\n",
      "3522/3522 [==============================] - 33s 9ms/step - loss: 0.0835 - accuracy: 0.9855 - val_loss: 1.1448 - val_accuracy: 0.6480\n",
      "Epoch 61/100\n",
      "3522/3522 [==============================] - 36s 10ms/step - loss: 0.0760 - accuracy: 0.9875 - val_loss: 1.1659 - val_accuracy: 0.6531\n",
      "Epoch 62/100\n",
      "3522/3522 [==============================] - 35s 10ms/step - loss: 0.0732 - accuracy: 0.9869 - val_loss: 1.1597 - val_accuracy: 0.6480\n",
      "Epoch 63/100\n",
      "3522/3522 [==============================] - 36s 10ms/step - loss: 0.0719 - accuracy: 0.9881 - val_loss: 1.1647 - val_accuracy: 0.6327\n",
      "Epoch 64/100\n",
      "3522/3522 [==============================] - 33s 10ms/step - loss: 0.0726 - accuracy: 0.9881 - val_loss: 1.1481 - val_accuracy: 0.6633\n",
      "Epoch 65/100\n",
      "3522/3522 [==============================] - 34s 10ms/step - loss: 0.0668 - accuracy: 0.9892 - val_loss: 1.1687 - val_accuracy: 0.6607\n",
      "Epoch 66/100\n",
      "3522/3522 [==============================] - 35s 10ms/step - loss: 0.0647 - accuracy: 0.9892 - val_loss: 1.1947 - val_accuracy: 0.6505\n",
      "Epoch 67/100\n",
      "3522/3522 [==============================] - 33s 9ms/step - loss: 0.0610 - accuracy: 0.9906 - val_loss: 1.1757 - val_accuracy: 0.6505\n",
      "Epoch 68/100\n",
      "3522/3522 [==============================] - 30s 8ms/step - loss: 0.0602 - accuracy: 0.9903 - val_loss: 1.2636 - val_accuracy: 0.6429\n",
      "Epoch 69/100\n",
      "3522/3522 [==============================] - 29s 8ms/step - loss: 0.0566 - accuracy: 0.9918 - val_loss: 1.2221 - val_accuracy: 0.6429\n",
      "Epoch 70/100\n",
      "3522/3522 [==============================] - 29s 8ms/step - loss: 0.0551 - accuracy: 0.9923 - val_loss: 1.2556 - val_accuracy: 0.6429\n",
      "Epoch 71/100\n",
      "3522/3522 [==============================] - 29s 8ms/step - loss: 0.0532 - accuracy: 0.9918 - val_loss: 1.2617 - val_accuracy: 0.6454\n",
      "Epoch 72/100\n",
      "3522/3522 [==============================] - 29s 8ms/step - loss: 0.0519 - accuracy: 0.9918 - val_loss: 1.2373 - val_accuracy: 0.6378\n",
      "Epoch 73/100\n",
      "3522/3522 [==============================] - 29s 8ms/step - loss: 0.0491 - accuracy: 0.9926 - val_loss: 1.3356 - val_accuracy: 0.6480\n",
      "Epoch 74/100\n",
      "3522/3522 [==============================] - 30s 8ms/step - loss: 0.0463 - accuracy: 0.9926 - val_loss: 1.2867 - val_accuracy: 0.6505\n",
      "Epoch 75/100\n",
      "3522/3522 [==============================] - 29s 8ms/step - loss: 0.0477 - accuracy: 0.9923 - val_loss: 1.3581 - val_accuracy: 0.6505\n",
      "Epoch 76/100\n",
      "3522/3522 [==============================] - 29s 8ms/step - loss: 0.0499 - accuracy: 0.9915 - val_loss: 1.3793 - val_accuracy: 0.6378\n",
      "Epoch 77/100\n",
      "3522/3522 [==============================] - 29s 8ms/step - loss: 0.0488 - accuracy: 0.9918 - val_loss: 1.3404 - val_accuracy: 0.6480\n",
      "Epoch 78/100\n",
      "3522/3522 [==============================] - 29s 8ms/step - loss: 0.0505 - accuracy: 0.9915 - val_loss: 1.3302 - val_accuracy: 0.6454\n",
      "Epoch 79/100\n",
      "3522/3522 [==============================] - 29s 8ms/step - loss: 0.0431 - accuracy: 0.9935 - val_loss: 1.3649 - val_accuracy: 0.6556\n",
      "Epoch 80/100\n",
      "3522/3522 [==============================] - 28s 8ms/step - loss: 0.0414 - accuracy: 0.9940 - val_loss: 1.3879 - val_accuracy: 0.6531\n",
      "Epoch 81/100\n",
      "3522/3522 [==============================] - 29s 8ms/step - loss: 0.0394 - accuracy: 0.9935 - val_loss: 1.3990 - val_accuracy: 0.6352\n",
      "Epoch 82/100\n",
      "3522/3522 [==============================] - 29s 8ms/step - loss: 0.0379 - accuracy: 0.9940 - val_loss: 1.4130 - val_accuracy: 0.6480\n",
      "Epoch 83/100\n",
      "3522/3522 [==============================] - 29s 8ms/step - loss: 0.0379 - accuracy: 0.9940 - val_loss: 1.3967 - val_accuracy: 0.6531\n",
      "Epoch 84/100\n",
      "3522/3522 [==============================] - 29s 8ms/step - loss: 0.0350 - accuracy: 0.9943 - val_loss: 1.3989 - val_accuracy: 0.6556\n",
      "Epoch 85/100\n",
      "3522/3522 [==============================] - 29s 8ms/step - loss: 0.0342 - accuracy: 0.9940 - val_loss: 1.4103 - val_accuracy: 0.6454\n",
      "Epoch 86/100\n",
      "3522/3522 [==============================] - 29s 8ms/step - loss: 0.0331 - accuracy: 0.9943 - val_loss: 1.4353 - val_accuracy: 0.6480\n",
      "Epoch 87/100\n",
      "3522/3522 [==============================] - 29s 8ms/step - loss: 0.0326 - accuracy: 0.9943 - val_loss: 1.4440 - val_accuracy: 0.6454\n",
      "Epoch 88/100\n",
      "3522/3522 [==============================] - 29s 8ms/step - loss: 0.0325 - accuracy: 0.9938 - val_loss: 1.4877 - val_accuracy: 0.6378\n",
      "Epoch 89/100\n",
      "3522/3522 [==============================] - 29s 8ms/step - loss: 0.0344 - accuracy: 0.9929 - val_loss: 1.4783 - val_accuracy: 0.6480\n",
      "Epoch 90/100\n",
      "3522/3522 [==============================] - 29s 8ms/step - loss: 0.0317 - accuracy: 0.9935 - val_loss: 1.4712 - val_accuracy: 0.6556\n",
      "Epoch 91/100\n",
      "3522/3522 [==============================] - 29s 8ms/step - loss: 0.0307 - accuracy: 0.9955 - val_loss: 1.5438 - val_accuracy: 0.6454\n",
      "Epoch 92/100\n",
      "3522/3522 [==============================] - 29s 8ms/step - loss: 0.0317 - accuracy: 0.9943 - val_loss: 1.5259 - val_accuracy: 0.6505\n",
      "Epoch 93/100\n",
      "3522/3522 [==============================] - 31s 9ms/step - loss: 0.0296 - accuracy: 0.9952 - val_loss: 1.5594 - val_accuracy: 0.6429\n",
      "Epoch 94/100\n",
      "3522/3522 [==============================] - 33s 9ms/step - loss: 0.0313 - accuracy: 0.9943 - val_loss: 1.5521 - val_accuracy: 0.6352\n",
      "Epoch 95/100\n",
      "3522/3522 [==============================] - 32s 9ms/step - loss: 0.0275 - accuracy: 0.9952 - val_loss: 1.5663 - val_accuracy: 0.6378\n",
      "Epoch 96/100\n",
      "3522/3522 [==============================] - 32s 9ms/step - loss: 0.0272 - accuracy: 0.9955 - val_loss: 1.5686 - val_accuracy: 0.6454\n",
      "Epoch 97/100\n",
      "3522/3522 [==============================] - 36s 10ms/step - loss: 0.0301 - accuracy: 0.9943 - val_loss: 1.4952 - val_accuracy: 0.6607\n",
      "Epoch 98/100\n",
      "3522/3522 [==============================] - 31s 9ms/step - loss: 0.0300 - accuracy: 0.9929 - val_loss: 1.6335 - val_accuracy: 0.6250\n",
      "Epoch 99/100\n",
      "3522/3522 [==============================] - 30s 8ms/step - loss: 0.0323 - accuracy: 0.9940 - val_loss: 1.5273 - val_accuracy: 0.6480\n",
      "Epoch 100/100\n",
      "3522/3522 [==============================] - 30s 9ms/step - loss: 0.0269 - accuracy: 0.9952 - val_loss: 1.5743 - val_accuracy: 0.6480\n"
     ]
    }
   ],
   "source": [
    "epochs = 100\n",
    "batch_size = 64\n",
    "history = model.fit(X_train, Y_train, epochs=epochs, batch_size=batch_size,validation_split=0.1)"
   ]
  },
  {
   "cell_type": "code",
   "execution_count": 52,
   "metadata": {},
   "outputs": [
    {
     "name": "stdout",
     "output_type": "stream",
     "text": [
      "435/435 [==============================] - 1s 3ms/step\n",
      "Test set\n",
      "  Loss: 1.607\n",
      "  Accuracy: 61.379\n"
     ]
    }
   ],
   "source": [
    "accr = model.evaluate(X_test,Y_test)\n",
    "print('Test set\\n  Loss: {:0.3f}\\n  Accuracy: {:0.3f} %'.format(accr[0],accr[1]*100))"
   ]
  },
  {
   "cell_type": "code",
   "execution_count": 56,
   "metadata": {},
   "outputs": [],
   "source": [
    "y_pred = model.predict(X_test, verbose=0)"
   ]
  },
  {
   "cell_type": "code",
   "execution_count": 57,
   "metadata": {},
   "outputs": [],
   "source": [
    "import sklearn.metrics as metrics\n",
    "matrix = metrics.confusion_matrix(Y_test.argmax(axis=1), y_pred.argmax(axis=1))"
   ]
  },
  {
   "cell_type": "code",
   "execution_count": 60,
   "metadata": {},
   "outputs": [
    {
     "name": "stdout",
     "output_type": "stream",
     "text": [
      "[[125  44  15]\n",
      " [ 21  44  34]\n",
      " [ 23  31  98]]\n",
      "\n",
      ":: Classification Report\n",
      "\n",
      "              precision    recall  f1-score   support\n",
      "\n",
      "           0       0.74      0.68      0.71       184\n",
      "           1       0.37      0.44      0.40        99\n",
      "           2       0.67      0.64      0.66       152\n",
      "\n",
      "    accuracy                           0.61       435\n",
      "   macro avg       0.59      0.59      0.59       435\n",
      "weighted avg       0.63      0.61      0.62       435\n",
      "\n"
     ]
    }
   ],
   "source": [
    "print (confusion_matrix(Y_test.argmax(axis=1), y_pred.argmax(axis=1)))\n",
    "print (\"\")\n",
    "print (\":: Classification Report\")\n",
    "print (\"\")\n",
    "print (classification_report(Y_test.argmax(axis=1), y_pred.argmax(axis=1)))"
   ]
  },
  {
   "cell_type": "code",
   "execution_count": 62,
   "metadata": {},
   "outputs": [
    {
     "name": "stdout",
     "output_type": "stream",
     "text": [
      "[[209  27  34]\n",
      " [ 56  46  43]\n",
      " [ 31  19 188]]\n",
      "\n",
      ":: Classification Report\n",
      "\n",
      "              precision    recall  f1-score   support\n",
      "\n",
      "           0       0.71      0.77      0.74       270\n",
      "           1       0.50      0.32      0.39       145\n",
      "           2       0.71      0.79      0.75       238\n",
      "\n",
      "    accuracy                           0.68       653\n",
      "   macro avg       0.64      0.63      0.62       653\n",
      "weighted avg       0.66      0.68      0.66       653\n",
      "\n"
     ]
    }
   ],
   "source": [
    "from xgboost import XGBClassifier\n",
    "import xgboost\n",
    "######XGBoost Implementation####################\n",
    "# create pipeline\n",
    "pipeline = Pipeline([('bow', CountVectorizer(analyzer=lemmas, ngram_range = (1,3))),('tfidf', TfidfTransformer()),('classifier', XGBClassifier())])\n",
    "\n",
    "params = {'tfidf__use_idf': (True, False),'bow__analyzer': (lemmas, tokens),'tfidf__norm': ('l1', 'l2'),'classifier__min_child_weight': [5, 10], 'classifier__gamma': [2, 5], 'classifier__subsample': [0.6], 'classifier__max_depth': [5,10]}\n",
    "\n",
    "skf = StratifiedKFold(n_splits=5)\n",
    "skf.get_n_splits(msg_train, label_train)\n",
    "grid = GridSearchCV(\n",
    "    pipeline,\n",
    "    params, # parameters to tune via cross validation\n",
    "    refit=True, # fit using all data, on the best detected classifier\n",
    "    n_jobs=-1,\n",
    "    scoring='accuracy',\n",
    "    cv=skf,\n",
    ")\n",
    "# train\n",
    "xgb_detector = grid.fit(msg_train, label_train)\n",
    "\n",
    "import numpy as np\n",
    "# temsg_testdiction_list = np.array(xgb_detector.predict(msg_test))\n",
    "print (confusion_matrix(label_test, xgb_detector.predict(msg_test)))\n",
    "print (\"\")\n",
    "print (\":: Classification Report\")\n",
    "print (\"\")\n",
    "print (classification_report(label_test, xgb_detector.predict(msg_test)))"
   ]
  },
  {
   "cell_type": "code",
   "execution_count": 63,
   "metadata": {},
   "outputs": [
    {
     "name": "stdout",
     "output_type": "stream",
     "text": [
      "[[209  27  34]\n",
      " [ 56  46  43]\n",
      " [ 31  19 188]]\n",
      "\n",
      ":: Classification Report\n",
      "\n",
      "              precision    recall  f1-score   support\n",
      "\n",
      "           0       0.71      0.77      0.74       270\n",
      "           1       0.50      0.32      0.39       145\n",
      "           2       0.71      0.79      0.75       238\n",
      "\n",
      "    accuracy                           0.68       653\n",
      "   macro avg       0.64      0.63      0.62       653\n",
      "weighted avg       0.66      0.68      0.66       653\n",
      "\n"
     ]
    }
   ],
   "source": [
    "###################Uni-Bi#######################\n",
    "from xgboost import XGBClassifier\n",
    "import xgboost\n",
    "######XGBoost Implementation####################\n",
    "# create pipeline\n",
    "pipeline = Pipeline([('bow', CountVectorizer(analyzer=lemmas, ngram_range = (1,2))),('tfidf', TfidfTransformer()),('classifier', XGBClassifier())])\n",
    "\n",
    "params = {'tfidf__use_idf': (True, False),'bow__analyzer': (lemmas, tokens),'tfidf__norm': ('l1', 'l2'),'classifier__min_child_weight': [5, 10], 'classifier__gamma': [2, 5], 'classifier__subsample': [0.6], 'classifier__max_depth': [5,10]}\n",
    "\n",
    "skf = StratifiedKFold(n_splits=5)\n",
    "skf.get_n_splits(msg_train, label_train)\n",
    "grid = GridSearchCV(\n",
    "    pipeline,\n",
    "    params, # parameters to tune via cross validation\n",
    "    refit=True, # fit using all data, on the best detected classifier\n",
    "    n_jobs=-1,\n",
    "    scoring='accuracy',\n",
    "    cv=skf,\n",
    ")\n",
    "# train\n",
    "xgb_detector = grid.fit(msg_train, label_train)\n",
    "\n",
    "import numpy as np\n",
    "# temsg_testdiction_list = np.array(xgb_detector.predict(msg_test))\n",
    "print (confusion_matrix(label_test, xgb_detector.predict(msg_test)))\n",
    "print (\"\")\n",
    "print (\":: Classification Report\")\n",
    "print (\"\")\n",
    "print (classification_report(label_test, xgb_detector.predict(msg_test)))"
   ]
  },
  {
   "cell_type": "code",
   "execution_count": 64,
   "metadata": {},
   "outputs": [
    {
     "name": "stdout",
     "output_type": "stream",
     "text": [
      "[[209  27  34]\n",
      " [ 56  46  43]\n",
      " [ 31  19 188]]\n",
      "\n",
      ":: Classification Report\n",
      "\n",
      "              precision    recall  f1-score   support\n",
      "\n",
      "           0       0.71      0.77      0.74       270\n",
      "           1       0.50      0.32      0.39       145\n",
      "           2       0.71      0.79      0.75       238\n",
      "\n",
      "    accuracy                           0.68       653\n",
      "   macro avg       0.64      0.63      0.62       653\n",
      "weighted avg       0.66      0.68      0.66       653\n",
      "\n"
     ]
    }
   ],
   "source": [
    "from xgboost import XGBClassifier\n",
    "import xgboost\n",
    "######XGBoost Implementation####################\n",
    "#############Uni######\n",
    "# create pipeline\n",
    "pipeline = Pipeline([('bow', CountVectorizer(analyzer=lemmas)),('tfidf', TfidfTransformer()),('classifier', XGBClassifier())])\n",
    "\n",
    "params = {'tfidf__use_idf': (True, False),'bow__analyzer': (lemmas, tokens),'tfidf__norm': ('l1', 'l2'),'classifier__min_child_weight': [5, 10], 'classifier__gamma': [2, 5], 'classifier__subsample': [0.6], 'classifier__max_depth': [5,10]}\n",
    "\n",
    "skf = StratifiedKFold(n_splits=5)\n",
    "skf.get_n_splits(msg_train, label_train)\n",
    "grid = GridSearchCV(\n",
    "    pipeline,\n",
    "    params, # parameters to tune via cross validation\n",
    "    refit=True, # fit using all data, on the best detected classifier\n",
    "    n_jobs=-1,\n",
    "    scoring='accuracy',\n",
    "    cv=skf,\n",
    ")\n",
    "# train\n",
    "xgb_detector = grid.fit(msg_train, label_train)\n",
    "\n",
    "import numpy as np\n",
    "# temsg_testdiction_list = np.array(xgb_detector.predict(msg_test))\n",
    "print (confusion_matrix(label_test, xgb_detector.predict(msg_test)))\n",
    "print (\"\")\n",
    "print (\":: Classification Report\")\n",
    "print (\"\")\n",
    "print (classification_report(label_test, xgb_detector.predict(msg_test)))"
   ]
  },
  {
   "cell_type": "code",
   "execution_count": 69,
   "metadata": {},
   "outputs": [
    {
     "name": "stdout",
     "output_type": "stream",
     "text": [
      "[[309  27  21]\n",
      " [ 75  77  38]\n",
      " [ 40  29 254]]\n",
      "\n",
      ":: Classification Report\n",
      "\n",
      "              precision    recall  f1-score   support\n",
      "\n",
      "           0       0.73      0.87      0.79       357\n",
      "           1       0.58      0.41      0.48       190\n",
      "           2       0.81      0.79      0.80       323\n",
      "\n",
      "    accuracy                           0.74       870\n",
      "   macro avg       0.71      0.69      0.69       870\n",
      "weighted avg       0.73      0.74      0.73       870\n",
      "\n"
     ]
    }
   ],
   "source": [
    "from sklearn.feature_extraction.text import TfidfVectorizer\n",
    "vectorizer = TfidfVectorizer(ngram_range = (1,3))\n",
    "data_text = vectorizer.fit_transform(data['Text'])\n",
    "from sklearn.model_selection import StratifiedKFold, cross_val_score, train_test_split\n",
    "msg_train, msg_test, label_train, label_test = train_test_split(data_text, data['Sentiment'], test_size=0.2, random_state=42)\n",
    "###SVM##########################\n",
    "from sklearn.svm import SVC, LinearSVC\n",
    "from sklearn.linear_model import SGDClassifier\n",
    "from sklearn.naive_bayes import MultinomialNB\n",
    "from sklearn.linear_model import LogisticRegression\n",
    "from sklearn.ensemble import AdaBoostClassifier\n",
    "from sklearn.ensemble import VotingClassifier\n",
    "from sklearn.ensemble import GradientBoostingClassifier\n",
    "\n",
    "# pipe1 = Pipeline([('bow', CountVectorizer(analyzer=lemmas, ngram_range = (1,3))),('classifier', MultinomialNB())])\n",
    "# pipe2 = Pipeline([('bow', CountVectorizer(analyzer=lemmas, ngram_range = (1,3))),('classifier', SVC())])\n",
    "# pipe3 = Pipeline([('bow', CountVectorizer(analyzer=lemmas, ngram_range = (1,3))),('classifier', SGDClassifier(max_iter=1000))])\n",
    "\n",
    "mnb = MultinomialNB()\n",
    "svc = SVC(probability=True)\n",
    "sgd = SGDClassifier(max_iter=1000)\n",
    "lr = LogisticRegression(multi_class='multinomial', solver='newton-cg')\n",
    "from sklearn.ensemble import RandomForestClassifier\n",
    "from sklearn.ensemble import GradientBoostingClassifier\n",
    "gbm = GradientBoostingClassifier()\n",
    "voting_clf = VotingClassifier(estimators=[('SVC', svc),\n",
    "                                          ('MNB', mnb),\n",
    "                                          ('LR', lr),\n",
    "                                          ('SGD', sgd)],\n",
    "#                                           ('GBM', gbm)],\n",
    "                                          voting='soft')\n",
    "\n",
    "params = {'SVC__C': [1, 10, 100], 'SVC__gamma': [0.001], 'SVC__kernel': ['rbf', 'linear'],\n",
    "          'MNB__alpha': [1, 1e-1, 1e-2],\n",
    "          'LR__penalty' : ['l2'],'LR__C' : np.logspace(-4, 4, 4),\n",
    "          'SGD__loss': [\"log\", \"modified_huber\"],\"SGD__alpha\" : [0.001, 0.01],\n",
    "          'SGD__penalty' : [\"l2\", \"l1\"]}\n",
    "#           'GBM__loss':[\"deviance\"], 'GBM__max_features': ['auto', 'sqrt', 'log2'], 'GBM__max_depth':[3,5,8], 'GBM__max_features':[\"log2\",\"sqrt\"]}                                          \n",
    "skf = StratifiedKFold(n_splits=3)\n",
    "skf.get_n_splits(msg_train, label_train)\n",
    "\n",
    "grid = GridSearchCV(\n",
    "    voting_clf,\n",
    "    params, # parameters to tune via cross validation\n",
    "    refit=True, # fit using all data, on the best detected classifier\n",
    "    n_jobs=-1,\n",
    "    scoring='accuracy',\n",
    "    cv=skf,\n",
    ")\n",
    "\n",
    "ensembling_detector = grid.fit(msg_train, label_train)\n",
    "print (confusion_matrix(label_test, ensembling_detector.predict(msg_test)))\n",
    "print (\"\")\n",
    "print (\":: Classification Report\")\n",
    "print (\"\")\n",
    "print (classification_report(label_test, ensembling_detector.predict(msg_test)))"
   ]
  },
  {
   "cell_type": "code",
   "execution_count": 70,
   "metadata": {},
   "outputs": [
    {
     "data": {
      "text/plain": [
       "['C:\\\\Users\\\\konark\\\\Downloads\\\\finalized_model_v4.sav']"
      ]
     },
     "execution_count": 70,
     "metadata": {},
     "output_type": "execute_result"
    }
   ],
   "source": [
    "\n",
    "import joblib\n",
    "filename = r'C:\\Users\\konark\\Downloads\\finalized_model_v4.sav'\n",
    "joblib.dump(ensembling_detector, filename)                                          "
   ]
  },
  {
   "cell_type": "code",
   "execution_count": null,
   "metadata": {},
   "outputs": [],
   "source": []
  },
  {
   "cell_type": "code",
   "execution_count": null,
   "metadata": {},
   "outputs": [],
   "source": []
  },
  {
   "cell_type": "code",
   "execution_count": 145,
   "metadata": {},
   "outputs": [
    {
     "name": "stderr",
     "output_type": "stream",
     "text": [
      "C:\\Users\\konark\\anaconda3\\lib\\site-packages\\ipykernel_launcher.py:27: SettingWithCopyWarning: \n",
      "A value is trying to be set on a copy of a slice from a DataFrame\n",
      "\n",
      "See the caveats in the documentation: https://pandas.pydata.org/pandas-docs/stable/user_guide/indexing.html#returning-a-view-versus-a-copy\n"
     ]
    }
   ],
   "source": [
    "data = pd.read_csv(r\"C:\\Users\\konark\\Downloads\\punjabi_data_v2.csv\", encoding='latin-1', engine='python' )\n",
    "data['Text'] = data['Text'].str.lower()\n",
    "\n",
    "vocabulary = pd.read_csv(r\"C:\\Users\\konark\\Downloads\\generalised_spellings.csv\")\n",
    "vocabulary['Words'] = vocabulary['Words'].str.lower()\n",
    "vocabulary['Generalised Spelling'] = vocabulary['Generalised Spelling'].str.lower()\n",
    "voc_to_be_used = dict(zip(vocabulary['Words'], vocabulary['Generalised Spelling']))\n",
    "\n",
    "replacement_dict = {r'(\\b){}(\\b)'.format(k):r'\\1{}\\2'.format(v) for k,v in voc_to_be_used.items()}\n",
    "data['Text'] = data['Text'].replace(replacement_dict, regex=True)\n",
    "\n",
    "stopwords = [\"100ch\", \"march\", \"april\", \"21\", \"2018\", \"april\", \"20\", \"1st\", \"19\", \"15\", \"urs\", \"14\", \"11\", \"108\", \"100\", '10' ,\"ch\", \"di\", \"aa\",\"wich\",\"bai\",\"meri\",\"v\",\"isa\",\"jisa\",\"vica\",\"taka\",\"vi\",\"othon\",\"nahim\",\"bhi\",\"valom\",\"iha \",\"iha \",\"jadom\",\"kai\",\"tada\",\"andar\",\"utte\",\"sabuta\",\"kadi\",\"nem\",\"ji\",\"kise\",\"pūra\",\"ne\",\"hove\",\"jekar\",\"de\",\"jehara\",\"baada\",\"sara\",\"cho\",\"kade\",\"sab\",\"tan\",\"ki\",\"na\",\"huna\",\"jinam\",\"nala\",\"cahe\",\"kisa \",\"pichom\",\"edhara\",\"nu\",\"ajihe\",\"hi\",\"ke\",\"hain\",\"bahuta\",\"kaafi\",\"huṇe\",\"lai\",\"ki\",\"magara\",\"da\",\"tarham\",\"phera\",\"vele\",\"othe\",\"kite\",\"ithe\",\"jinhanu\",\"jad\",\"vanga \",\"doraan\",\"varaga\",\"jo\",\"la\",\"pura\",\"naale\",\"ton\",\"hona\",\"paso\",\"jeha\",\"es\",\"jina\",\"kujh\",\"dobara\",\"sadda\",\"ethe\",\"bare\",\"kad\",\"kadde\",\"hoye\",\"rahe\",\"bano\",\"deṇi\",\"pia \",\"hoia\",\"gai\",\"laga\",\"huda\",\"janda\",\"vēkha\",\"suṇa\",\"ai\",\"sakde\",\"jave\",\"janda\",\"karke\",\"bilkul\",\"eho\",\"kaun\",\"pher\",\"tad\",\"kolon\",\"kina\",\"jive\",\"hethan\",\"sare\",\"jithe\",\"koi\",\"ki\",\"je\",\"dian\",\"chala\",\"lai\",\"aakh\",\"baṇa\",\"kara\",\"pain\",\"keh\",\"chuke\",\"keha\", \"karvayei\",\"banaye\",\"kitta\",\"javan\",\"dekh\",\"adi\",\"lia\",\"karana\",\"lagoda\",\"aave\",\"kari\",\"laeya\",\"reh\",\"uha\",\"sam\",\"sabha\",\"hana\",\"tu\",\"si\",\"ho\", \"tennu\",\"tusa\",\"hain\",\"hai\",\"apna\",\"je\",\"aate\",\"jam\",\"kal\",\"vagaira\",\"rakh\",\"laag\",\"gal\",\"pi\",\"a\",\"reha\",\"geya\",\"otha\",\"rahi\",\"usne\",\"tusi\",\"mera\",\"usdi\",\"tera\",\"us\",\"oye\",\"aap\",\"san\",\"mein\",\"tusi\",\"assi\",\"par\",\"te\",\"tam\",\"bhavem\",\"aagali\",\"varg\",\"ama\",\"la\",\"hala\",\"ek\", \"tuhada\",\"kita\",\"karde\",\"krde\",\"teri\",\"apne\",\"aj\",\"singh\",\"sikh\",\"ohne\",\"dekh\",\"tuhadi\",\"fir\",\"time\",\"bawa\",\"sidhu\",\"vich\",\"sach\",\"naal\",\"hor\",\"ki\",\"mainu\",\"aaa\",\"wale\",\"hor\",\"krn\",\"kudi\",\"kuj\", \"12\", \"2020\", \"30\", \"300\", \"pwa\", \"do\", \"log\", \"3may\", \"35\", \"40\", \"din\", \"400\", \"50\", \"km\", \"door\", \"5911\", \"50m\", \"3bisby\", \"500\", \"6month\", \"700\", \"900\", \"__\", \"honi\", \"aab\", \"which\", \"ohi\", \"hr\", \"to\", \"aae\"]\n",
    "# stopwords = [\"lokk\",'abp\",\"video\", \"aafull\", \"me\", \"rhe\", \"100ch\", \"march\", \"april\", \"21\", \"2018\", \"april\", \"20\", \"1st\", \"19\", \"15\", \"urs\", \"14\", \"11\", \"108\", \"100\", '10' ,\"ch\", \"di\", \"aa\",\"wich\",\"bai\",\"meri\",\"v\",\"isa\",\"jisa\",\"vica\",\"taka\",\"vi\",\"othon\",\"nahim\",\"bhi\",\"valom\",\"iha \",\"iha \",\"jadom\",\"kai\",\"tada\",\"andar\",\"utte\",\"sabuta\",\"kadi\",\"nem\",\"ji\",\"kise\",\"pūra\",\"ne\",\"hove\",\"jekar\",\"de\",\"jehara\",\"baada\",\"sara\",\"cho\",\"kade\",\"sab\",\"tan\",\"ki\",\"na\",\"huna\",\"jinam\",\"nala\",\"cahe\",\"kisa \",\"pichom\",\"edhara\",\"nu\",\"ajihe\",\"hi\",\"ke\",\"hain\",\"bahuta\",\"kaafi\",\"huṇe\",\"lai\",\"ki\",\"magara\",\"da\",\"tarham\",\"phera\",\"vele\",\"othe\",\"kite\",\"ithe\",\"jinhanu\",\"jad\",\"vanga \",\"doraan\",\"varaga\",\"jo\",\"la\",\"pura\",\"naale\",\"ton\",\"hona\",\"paso\",\"jeha\",\"es\",\"jina\",\"kujh\",\"dobara\",\"sadda\",\"ethe\",\"bare\",\"kad\",\"kadde\",\"hoye\",\"rahe\",\"bano\",\"deṇi\",\"pia \",\"hoia\",\"gai\",\"laga\",\"huda\",\"janda\",\"vēkha\",\"suṇa\",\"ai\",\"sakde\",\"jave\",\"janda\",\"karke\",\"bilkul\",\"eho\",\"kaun\",\"pher\",\"tad\",\"kolon\",\"kina\",\"jive\",\"hethan\",\"sare\",\"jithe\",\"koi\",\"ki\",\"je\",\"dian\",\"chala\",\"lai\",\"aakh\",\"baṇa\",\"kara\",\"pain\",\"keh\",\"chuke\",\"keha\", \"karvayei\",\"banaye\",\"kitta\",\"javan\",\"dekh\",\"adi\",\"lia\",\"karana\",\"lagoda\",\"aave\",\"kari\",\"laeya\",\"reh\",\"uha\",\"sam\",\"sabha\",\"hana\",\"tu\",\"si\",\"ho\", \"tennu\",\"tusa\",\"hain\",\"hai\",\"apna\",\"je\",\"aate\",\"jam\",\"kal\",\"vagaira\",\"rakh\",\"laag\",\"gal\",\"pi\",\"a\",\"reha\",\"geya\",\"otha\",\"rahi\",\"usne\",\"tusi\",\"mera\",\"usdi\",\"tera\",\"us\",\"oye\",\"aap\",\"san\",\"mein\",\"tusi\",\"assi\",\"par\",\"te\",\"tam\",\"bhavem\",\"aagali\",\"varg\",\"ama\",\"la\",\"hala\",\"ek\", \"tuhada\",\"kita\",\"karde\",\"krde\",\"teri\",\"apne\",\"aj\",\"singh\",\"sikh\",\"ohne\",\"dekh\",\"tuhadi\",\"fir\",\"time\",\"bawa\",\"sidhu\",\"vich\",\"sach\",\"naal\",\"hor\",\"ki\",\"mainu\",\"aaa\",\"wale\",\"hor\",\"krn\",\"kudi\",\"kuj\", \"12\", \"2020\", \"30\", \"300\", \"pwa\", \"do\", \"log\", \"3may\", \"35\", \"40\", \"din\", \"400\", \"50\", \"km\", \"door\", \"5911\", \"50m\", \"3bisby\", \"500\", \"6month\", \"700\", \"900\", \"__\", \"honi\", \"aab\", \"which\", \"ohi\", \"hr\", \"to\", \"aae\", \"bs\", \"chal\", \"jagdeep\", \"captian\", \"anchor\", \"ranjeet\", \"amrinder\", \"ikk\", \"ina\", \"dilli\", \"mai\", \"te\", \"fr\",\"india\", \"singa\", \"tn\", \"dharti\", \"gurdas\", \"singer\", \"sound\", \"live\", \"respiratory\", \"punjab\", \"punjabian\", \"jd\", \"chd\", \"geet\", \"ta\", \"bt\", \"koe\", \"nusrat\", \"fateh\", \"sudhu\", \"sidhu\", \"sukhbir\", \"interview\", \"tumhe\", \"agr\", \"eh\", \"uncle\", \"but\", \"covid\", \"dong\", \"jidaan\", \"matlab\", \"tere\", \"abc\", \"ik\", \"for\",\"news\", \"sanja\", \"tuc\", \"tum\", \"detail\", \"account\", \"accounts\", \"interview\", \"or\", \"diya\", \"add\", \"addmission\", \"address\", \"ade\", \"admin\", \"advocate\"]\n",
    "pat = r'\\b(?:{})\\b'.format('|'.join(stopwords))\n",
    "data['Text'] = data['Text'].str.replace(pat, '')\n",
    "data['Text'] = data['Text'].str.replace(r'\\s+', ' ')\n",
    "stopwords = [\"lokk\",\"abp\",\"video\", \"aafull\", \"me\", \"rhe\", \"100ch\", \"march\", \"april\", \"21\", \"2018\", \"april\", \"20\", \"1st\", \"19\", \"15\", \"urs\", \"14\", \"11\", \"108\", \"100\", \"10\" ,\"ch\", \"di\", \"aa\",\"wich\",\"bai\",\"meri\",\"v\",\"isa\",\"jisa\",\"vica\",\"taka\",\"vi\",\"othon\",\"nahim\",\"bhi\",\"valom\",\"iha \",\"jadom\",\"kai\",\"tada\",\"andar\",\"utte\",\"sabuta\",\"kadi\",\"nem\",\"ji\",\"kise\",\"pūra\",\"ne\",\"hove\",\"jekar\",\"de\",\"jehara\",\"baada\",\"sara\",\"cho\",\"kade\",\"sab\",\"tan\",\"ki\",\"na\",\"huna\",\"jinam\",\"nala\",\"cahe\",\"kisa \",\"pichom\",\"edhara\",\"nu\",\"ajihe\",\"hi\",\"ke\",\"hain\",\"bahuta\",\"kaafi\",\"huṇe\",\"lai\",\"ki\",\"magara\",\"da\",\"tarham\",\"phera\",\"vele\",\"othe\",\"kite\",\"ithe\",\"jinhanu\",\"jad\",\"vanga \",\"doraan\",\"varaga\",\"jo\",\"la\",\"pura\",\"naale\",\"ton\",\"hona\",\"paso\",\"jeha\",\"es\",\"jina\",\"kujh\",\"dobara\",\"sadda\",\"ethe\",\"bare\",\"kad\",\"kadde\",\"hoye\",\"rahe\",\"bano\",\"deṇi\",\"pia \",\"hoia\",\"gai\",\"laga\",\"huda\",\"janda\",\"vēkha\",\"suṇa\",\"ai\",\"sakde\",\"jave\",\"janda\",\"karke\",\"bilkul\",\"eho\",\"kaun\",\"pher\",\"tad\",\"kolon\",\"kina\",\"jive\",\"hethan\",\"sare\",\"jithe\",\"koi\",\"ki\",\"je\",\"dian\",\"chala\",\"lai\",\"aakh\",\"baṇa\",\"kara\",\"pain\",\"keh\",\"chuke\",\"keha\", \"karvayei\",\"banaye\",\"kitta\",\"javan\",\"dekh\",\"adi\",\"lia\",\"karana\",\"lagoda\",\"aave\",\"kari\",\"laeya\",\"reh\",\"uha\",\"sam\",\"sabha\",\"hana\",\"tu\",\"si\",\"ho\", \"tennu\",\"tusa\",\"hain\",\"hai\",\"apna\",\"je\",\"aate\",\"jam\",\"kal\",\"vagaira\",\"rakh\",\"laag\",\"gal\",\"pi\",\"a\",\"reha\",\"geya\",\"otha\",\"rahi\",\"usne\",\"tusi\",\"mera\",\"usdi\",\"tera\",\"us\",\"oye\",\"aap\",\"san\",\"mein\",\"tusi\",\"assi\",\"par\",\"te\",\"tam\",\"bhavem\",\"aagali\",\"varg\",\"ama\",\"la\",\"hala\",\"ek\", \"tuhada\",\"kita\",\"karde\",\"krde\",\"teri\",\"apne\",\"aj\",\"singh\",\"sikh\",\"ohne\",\"dekh\",\"tuhadi\",\"fir\",\"time\",\"bawa\",\"sidhu\",\"vich\",\"sach\",\"naal\",\"hor\",\"ki\",\"mainu\",\"aaa\",\"wale\",\"hor\",\"krn\",\"kudi\",\"kuj\", \"12\", \"2020\", \"30\", \"300\", \"pwa\", \"do\", \"log\", \"3may\", \"35\", \"40\", \"din\", \"400\", \"50\", \"km\", \"door\", \"5911\", \"50m\", \"3bisby\", \"500\", \"6month\", \"700\", \"900\", \"__\", \"honi\", \"aab\", \"which\", \"ohi\", \"hr\", \"to\", \"aae\", \"bs\", \"chal\", \"jagdeep\", \"captian\", \"anchor\", \"ranjeet\", \"amrinder\", \"ikk\", \"ina\", \"dilli\", \"mai\", \"te\", \"fr\",\"india\", \"singa\", \"tn\", \"dharti\", \"gurdas\", \"singer\", \"sound\", \"live\", \"respiratory\", \"punjab\", \"punjabian\", \"jd\", \"chd\", \"geet\", \"ta\", \"bt\", \"koe\", \"nusrat\", \"fateh\", \"sudhu\", \"sidhu\", \"sukhbir\", \"interview\", \"tumhe\", \"agr\", \"eh\", \"uncle\", \"but\", \"covid\", \"dong\", \"jidaan\", \"matlab\", \"tere\", \"abc\", \"ik\", \"for\",\"news\", \"sanja\", \"tuc\", \"tum\", \"detail\", \"account\", \"accounts\", \"interview\", \"or\", \"diya\", \"add\", \"addmission\", \"address\", \"ade\", \"admin\", \"advocate\"]\n",
    "pat = r'\\b(?:{})\\b'.format('|'.join(stopwords))\n",
    "data['Text'] = data['Text'].str.replace(pat, '')\n",
    "data['Text'] = data['Text'].str.replace(r'\\s+', ' ')\n",
    "stopwords = [\"kasoor\", \"ssp\", \"prateek\",\"tu\", \"wabba\", \"pyn\", \"ah\",\"mnu\",\"mai\", \"100ch\", \"march\", \"april\", \"21\", \"2018\", \"april\", \"20\", \"1st\", \"19\", \"15\", \"urs\", \"14\", \"11\", \"108\", \"100\", '10' ,\"ch\", \"di\", \"aa\",\"wich\",\"bai\",\"meri\",\"v\",\"isa\",\"jisa\",\"vica\",\"taka\",\"vi\",\"othon\",\"nahim\",\"bhi\",\"valom\",\"iha \",\"iha \",\"jadom\",\"kai\",\"tada\",\"andar\",\"utte\",\"sabuta\",\"kadi\",\"nem\",\"ji\",\"kise\",\"pūra\",\"ne\",\"hove\",\"jekar\",\"de\",\"jehara\",\"baada\",\"sara\",\"cho\",\"kade\",\"sab\",\"tan\",\"ki\",\"na\",\"huna\",\"jinam\",\"nala\",\"cahe\",\"kisa \",\"pichom\",\"edhara\",\"nu\",\"ajihe\",\"hi\",\"ke\",\"hain\",\"bahuta\",\"kaafi\",\"huṇe\",\"lai\",\"ki\",\"magara\",\"da\",\"tarham\",\"phera\",\"vele\",\"othe\",\"kite\",\"ithe\",\"jinhanu\",\"jad\",\"vanga \",\"doraan\",\"varaga\",\"jo\",\"la\",\"pura\",\"naale\",\"ton\",\"hona\",\"paso\",\"jeha\",\"es\",\"jina\",\"kujh\",\"dobara\",\"sadda\",\"ethe\",\"bare\",\"kad\",\"kadde\",\"hoye\",\"rahe\",\"bano\",\"deṇi\",\"pia \",\"hoia\",\"gai\",\"laga\",\"huda\",\"janda\",\"vēkha\",\"suṇa\",\"ai\",\"sakde\",\"jave\",\"janda\",\"karke\",\"bilkul\",\"eho\",\"kaun\",\"pher\",\"tad\",\"kolon\",\"kina\",\"jive\",\"hethan\",\"sare\",\"jithe\",\"koi\",\"ki\",\"je\",\"dian\",\"chala\",\"lai\",\"aakh\",\"baṇa\",\"kara\",\"pain\",\"keh\",\"chuke\",\"keha\", \"karvayei\",\"banaye\",\"kitta\",\"javan\",\"dekh\",\"adi\",\"lia\",\"karana\",\"lagoda\",\"aave\",\"kari\",\"laeya\",\"reh\",\"uha\",\"sam\",\"sabha\",\"hana\",\"tu\",\"si\",\"ho\", \"tennu\",\"tusa\",\"hain\",\"hai\",\"apna\",\"je\",\"aate\",\"jam\",\"kal\",\"vagaira\",\"rakh\",\"laag\",\"gal\",\"pi\",\"a\",\"reha\",\"geya\",\"otha\",\"rahi\",\"usne\",\"tusi\",\"mera\",\"usdi\",\"tera\",\"us\",\"oye\",\"aap\",\"san\",\"mein\",\"tusi\",\"assi\",\"par\",\"te\",\"tam\",\"bhavem\",\"aagali\",\"varg\",\"ama\",\"la\",\"hala\",\"ek\", \"tuhada\",\"kita\",\"karde\",\"krde\",\"teri\",\"apne\",\"aj\",\"singh\",\"sikh\",\"ohne\",\"dekh\",\"tuhadi\",\"fir\",\"time\",\"bawa\",\"sidhu\",\"vich\",\"sach\",\"naal\",\"hor\",\"ki\",\"mainu\",\"aaa\",\"wale\",\"hor\",\"krn\",\"kudi\",\"kuj\", \"12\", \"2020\", \"30\", \"300\", \"pwa\", \"do\", \"log\", \"3may\", \"35\", \"40\", \"din\", \"400\", \"50\", \"km\", \"door\", \"5911\", \"50m\", \"3bisby\", \"500\", \"6month\", \"700\", \"900\", \"__\", \"honi\", \"aab\", \"which\", \"ohi\", \"hr\", \"to\", \"aae\"]\n",
    "pat = r'\\b(?:{})\\b'.format('|'.join(stopwords))\n",
    "data['Text'] = data['Text'].str.replace(pat, '')\n",
    "data['Text'] = data['Text'].str.replace(r'\\s+', ' ')\n",
    "import itertools\n",
    "for i in range(len(data)):\n",
    "    data['Text'][i] = ''.join(''.join(s)[:2] for _, s in itertools.groupby(data['Text'][i]))"
   ]
  },
  {
   "cell_type": "code",
   "execution_count": 146,
   "metadata": {},
   "outputs": [],
   "source": [
    "########LSTM + WORD2VEC+TF-IDF##################\n",
    "\n",
    "def cleaning_text(original_series):\n",
    "    original_series = original_series.str.replace('(ap)', '')\n",
    "    converting_nt = original_series.str.replace(r'n\\'t',' not')\n",
    "    \n",
    "    removing_trailing_spaces_lowering = converting_nt.str.strip().str.lower()\n",
    "    \n",
    "    removing_special_characters = removing_trailing_spaces_lowering.str.replace(r'[!.:,#-$\\\\\\'0-9]','')\n",
    "    removing_bracket_starting = removing_special_characters.str.replace(r'\\(','')\n",
    "    removing_bracket_ending = removing_bracket_starting.str.replace(r'\\)','')\n",
    "    splitting_into_words = removing_bracket_ending.str.split()\n",
    "    words_greater_than_zero = splitting_into_words[splitting_into_words.map(lambda d: len(d)) > 0]\n",
    "    return (words_greater_than_zero)\n",
    "\n",
    "clean_sentences = cleaning_text(data['Text'])"
   ]
  },
  {
   "cell_type": "code",
   "execution_count": 147,
   "metadata": {},
   "outputs": [],
   "source": [
    "X_train, X_test, y_train, y_test = train_test_split(data['Text'], data.Sentiment, test_size=.2)"
   ]
  },
  {
   "cell_type": "code",
   "execution_count": 148,
   "metadata": {},
   "outputs": [
    {
     "name": "stderr",
     "output_type": "stream",
     "text": [
      "C:\\Users\\konark\\anaconda3\\lib\\site-packages\\ipykernel_launcher.py:9: DeprecationWarning: Call to deprecated `LabeledSentence` (Class will be removed in 4.0.0, use TaggedDocument instead).\n",
      "  if __name__ == '__main__':\n"
     ]
    }
   ],
   "source": [
    "import gensim\n",
    "from gensim.models.doc2vec import Doc2Vec, TaggedDocument\n",
    "LabeledSentence = gensim.models.doc2vec.LabeledSentence\n",
    "\n",
    "def labelizeStories(stories, label_type):\n",
    "    labelized = []\n",
    "    for i,v in enumerate(stories):\n",
    "        label = '%s_%s'%(label_type,i)\n",
    "        labelized.append(LabeledSentence(v, [label]))\n",
    "    return labelized\n",
    "\n",
    "X_train = labelizeStories(X_train, 'TRAIN')\n",
    "X_test = labelizeStories(X_test, 'TEST')"
   ]
  },
  {
   "cell_type": "code",
   "execution_count": 149,
   "metadata": {},
   "outputs": [
    {
     "data": {
      "text/plain": [
       "LabeledSentence(words=' gapa wah wah jhooth', tags=['TRAIN_0'])"
      ]
     },
     "execution_count": 149,
     "metadata": {},
     "output_type": "execute_result"
    }
   ],
   "source": [
    "X_train[0]"
   ]
  },
  {
   "cell_type": "code",
   "execution_count": 150,
   "metadata": {},
   "outputs": [],
   "source": [
    "from gensim.models import Word2Vec\n",
    "\n",
    "model_w2v = Word2Vec(list(clean_sentences), min_count=2,sg=1,window=8)"
   ]
  },
  {
   "cell_type": "code",
   "execution_count": 151,
   "metadata": {},
   "outputs": [
    {
     "name": "stdout",
     "output_type": "stream",
     "text": [
      "Word2Vec(vocab=4496, size=100, alpha=0.025)\n"
     ]
    }
   ],
   "source": [
    "print (model_w2v)"
   ]
  },
  {
   "cell_type": "code",
   "execution_count": 152,
   "metadata": {},
   "outputs": [
    {
     "data": {
      "text/html": [
       "\n",
       "    <div class=\"bk-root\">\n",
       "        <a href=\"https://bokeh.org\" target=\"_blank\" class=\"bk-logo bk-logo-small bk-logo-notebook\"></a>\n",
       "        <span id=\"1277\">Loading BokehJS ...</span>\n",
       "    </div>"
      ]
     },
     "metadata": {},
     "output_type": "display_data"
    },
    {
     "data": {
      "application/javascript": [
       "\n",
       "(function(root) {\n",
       "  function now() {\n",
       "    return new Date();\n",
       "  }\n",
       "\n",
       "  var force = true;\n",
       "\n",
       "  if (typeof root._bokeh_onload_callbacks === \"undefined\" || force === true) {\n",
       "    root._bokeh_onload_callbacks = [];\n",
       "    root._bokeh_is_loading = undefined;\n",
       "  }\n",
       "\n",
       "  var JS_MIME_TYPE = 'application/javascript';\n",
       "  var HTML_MIME_TYPE = 'text/html';\n",
       "  var EXEC_MIME_TYPE = 'application/vnd.bokehjs_exec.v0+json';\n",
       "  var CLASS_NAME = 'output_bokeh rendered_html';\n",
       "\n",
       "  /**\n",
       "   * Render data to the DOM node\n",
       "   */\n",
       "  function render(props, node) {\n",
       "    var script = document.createElement(\"script\");\n",
       "    node.appendChild(script);\n",
       "  }\n",
       "\n",
       "  /**\n",
       "   * Handle when an output is cleared or removed\n",
       "   */\n",
       "  function handleClearOutput(event, handle) {\n",
       "    var cell = handle.cell;\n",
       "\n",
       "    var id = cell.output_area._bokeh_element_id;\n",
       "    var server_id = cell.output_area._bokeh_server_id;\n",
       "    // Clean up Bokeh references\n",
       "    if (id != null && id in Bokeh.index) {\n",
       "      Bokeh.index[id].model.document.clear();\n",
       "      delete Bokeh.index[id];\n",
       "    }\n",
       "\n",
       "    if (server_id !== undefined) {\n",
       "      // Clean up Bokeh references\n",
       "      var cmd = \"from bokeh.io.state import curstate; print(curstate().uuid_to_server['\" + server_id + \"'].get_sessions()[0].document.roots[0]._id)\";\n",
       "      cell.notebook.kernel.execute(cmd, {\n",
       "        iopub: {\n",
       "          output: function(msg) {\n",
       "            var id = msg.content.text.trim();\n",
       "            if (id in Bokeh.index) {\n",
       "              Bokeh.index[id].model.document.clear();\n",
       "              delete Bokeh.index[id];\n",
       "            }\n",
       "          }\n",
       "        }\n",
       "      });\n",
       "      // Destroy server and session\n",
       "      var cmd = \"import bokeh.io.notebook as ion; ion.destroy_server('\" + server_id + \"')\";\n",
       "      cell.notebook.kernel.execute(cmd);\n",
       "    }\n",
       "  }\n",
       "\n",
       "  /**\n",
       "   * Handle when a new output is added\n",
       "   */\n",
       "  function handleAddOutput(event, handle) {\n",
       "    var output_area = handle.output_area;\n",
       "    var output = handle.output;\n",
       "\n",
       "    // limit handleAddOutput to display_data with EXEC_MIME_TYPE content only\n",
       "    if ((output.output_type != \"display_data\") || (!output.data.hasOwnProperty(EXEC_MIME_TYPE))) {\n",
       "      return\n",
       "    }\n",
       "\n",
       "    var toinsert = output_area.element.find(\".\" + CLASS_NAME.split(' ')[0]);\n",
       "\n",
       "    if (output.metadata[EXEC_MIME_TYPE][\"id\"] !== undefined) {\n",
       "      toinsert[toinsert.length - 1].firstChild.textContent = output.data[JS_MIME_TYPE];\n",
       "      // store reference to embed id on output_area\n",
       "      output_area._bokeh_element_id = output.metadata[EXEC_MIME_TYPE][\"id\"];\n",
       "    }\n",
       "    if (output.metadata[EXEC_MIME_TYPE][\"server_id\"] !== undefined) {\n",
       "      var bk_div = document.createElement(\"div\");\n",
       "      bk_div.innerHTML = output.data[HTML_MIME_TYPE];\n",
       "      var script_attrs = bk_div.children[0].attributes;\n",
       "      for (var i = 0; i < script_attrs.length; i++) {\n",
       "        toinsert[toinsert.length - 1].firstChild.setAttribute(script_attrs[i].name, script_attrs[i].value);\n",
       "      }\n",
       "      // store reference to server id on output_area\n",
       "      output_area._bokeh_server_id = output.metadata[EXEC_MIME_TYPE][\"server_id\"];\n",
       "    }\n",
       "  }\n",
       "\n",
       "  function register_renderer(events, OutputArea) {\n",
       "\n",
       "    function append_mime(data, metadata, element) {\n",
       "      // create a DOM node to render to\n",
       "      var toinsert = this.create_output_subarea(\n",
       "        metadata,\n",
       "        CLASS_NAME,\n",
       "        EXEC_MIME_TYPE\n",
       "      );\n",
       "      this.keyboard_manager.register_events(toinsert);\n",
       "      // Render to node\n",
       "      var props = {data: data, metadata: metadata[EXEC_MIME_TYPE]};\n",
       "      render(props, toinsert[toinsert.length - 1]);\n",
       "      element.append(toinsert);\n",
       "      return toinsert\n",
       "    }\n",
       "\n",
       "    /* Handle when an output is cleared or removed */\n",
       "    events.on('clear_output.CodeCell', handleClearOutput);\n",
       "    events.on('delete.Cell', handleClearOutput);\n",
       "\n",
       "    /* Handle when a new output is added */\n",
       "    events.on('output_added.OutputArea', handleAddOutput);\n",
       "\n",
       "    /**\n",
       "     * Register the mime type and append_mime function with output_area\n",
       "     */\n",
       "    OutputArea.prototype.register_mime_type(EXEC_MIME_TYPE, append_mime, {\n",
       "      /* Is output safe? */\n",
       "      safe: true,\n",
       "      /* Index of renderer in `output_area.display_order` */\n",
       "      index: 0\n",
       "    });\n",
       "  }\n",
       "\n",
       "  // register the mime type if in Jupyter Notebook environment and previously unregistered\n",
       "  if (root.Jupyter !== undefined) {\n",
       "    var events = require('base/js/events');\n",
       "    var OutputArea = require('notebook/js/outputarea').OutputArea;\n",
       "\n",
       "    if (OutputArea.prototype.mime_types().indexOf(EXEC_MIME_TYPE) == -1) {\n",
       "      register_renderer(events, OutputArea);\n",
       "    }\n",
       "  }\n",
       "\n",
       "  \n",
       "  if (typeof (root._bokeh_timeout) === \"undefined\" || force === true) {\n",
       "    root._bokeh_timeout = Date.now() + 5000;\n",
       "    root._bokeh_failed_load = false;\n",
       "  }\n",
       "\n",
       "  var NB_LOAD_WARNING = {'data': {'text/html':\n",
       "     \"<div style='background-color: #fdd'>\\n\"+\n",
       "     \"<p>\\n\"+\n",
       "     \"BokehJS does not appear to have successfully loaded. If loading BokehJS from CDN, this \\n\"+\n",
       "     \"may be due to a slow or bad network connection. Possible fixes:\\n\"+\n",
       "     \"</p>\\n\"+\n",
       "     \"<ul>\\n\"+\n",
       "     \"<li>re-rerun `output_notebook()` to attempt to load from CDN again, or</li>\\n\"+\n",
       "     \"<li>use INLINE resources instead, as so:</li>\\n\"+\n",
       "     \"</ul>\\n\"+\n",
       "     \"<code>\\n\"+\n",
       "     \"from bokeh.resources import INLINE\\n\"+\n",
       "     \"output_notebook(resources=INLINE)\\n\"+\n",
       "     \"</code>\\n\"+\n",
       "     \"</div>\"}};\n",
       "\n",
       "  function display_loaded() {\n",
       "    var el = document.getElementById(\"1277\");\n",
       "    if (el != null) {\n",
       "      el.textContent = \"BokehJS is loading...\";\n",
       "    }\n",
       "    if (root.Bokeh !== undefined) {\n",
       "      if (el != null) {\n",
       "        el.textContent = \"BokehJS \" + root.Bokeh.version + \" successfully loaded.\";\n",
       "      }\n",
       "    } else if (Date.now() < root._bokeh_timeout) {\n",
       "      setTimeout(display_loaded, 100)\n",
       "    }\n",
       "  }\n",
       "\n",
       "\n",
       "  function run_callbacks() {\n",
       "    try {\n",
       "      root._bokeh_onload_callbacks.forEach(function(callback) {\n",
       "        if (callback != null)\n",
       "          callback();\n",
       "      });\n",
       "    } finally {\n",
       "      delete root._bokeh_onload_callbacks\n",
       "    }\n",
       "    console.debug(\"Bokeh: all callbacks have finished\");\n",
       "  }\n",
       "\n",
       "  function load_libs(css_urls, js_urls, callback) {\n",
       "    if (css_urls == null) css_urls = [];\n",
       "    if (js_urls == null) js_urls = [];\n",
       "\n",
       "    root._bokeh_onload_callbacks.push(callback);\n",
       "    if (root._bokeh_is_loading > 0) {\n",
       "      console.debug(\"Bokeh: BokehJS is being loaded, scheduling callback at\", now());\n",
       "      return null;\n",
       "    }\n",
       "    if (js_urls == null || js_urls.length === 0) {\n",
       "      run_callbacks();\n",
       "      return null;\n",
       "    }\n",
       "    console.debug(\"Bokeh: BokehJS not loaded, scheduling load and callback at\", now());\n",
       "    root._bokeh_is_loading = css_urls.length + js_urls.length;\n",
       "\n",
       "    function on_load() {\n",
       "      root._bokeh_is_loading--;\n",
       "      if (root._bokeh_is_loading === 0) {\n",
       "        console.debug(\"Bokeh: all BokehJS libraries/stylesheets loaded\");\n",
       "        run_callbacks()\n",
       "      }\n",
       "    }\n",
       "\n",
       "    function on_error() {\n",
       "      console.error(\"failed to load \" + url);\n",
       "    }\n",
       "\n",
       "    for (var i = 0; i < css_urls.length; i++) {\n",
       "      var url = css_urls[i];\n",
       "      const element = document.createElement(\"link\");\n",
       "      element.onload = on_load;\n",
       "      element.onerror = on_error;\n",
       "      element.rel = \"stylesheet\";\n",
       "      element.type = \"text/css\";\n",
       "      element.href = url;\n",
       "      console.debug(\"Bokeh: injecting link tag for BokehJS stylesheet: \", url);\n",
       "      document.body.appendChild(element);\n",
       "    }\n",
       "\n",
       "    for (var i = 0; i < js_urls.length; i++) {\n",
       "      var url = js_urls[i];\n",
       "      var element = document.createElement('script');\n",
       "      element.onload = on_load;\n",
       "      element.onerror = on_error;\n",
       "      element.async = false;\n",
       "      element.src = url;\n",
       "      console.debug(\"Bokeh: injecting script tag for BokehJS library: \", url);\n",
       "      document.head.appendChild(element);\n",
       "    }\n",
       "  };var element = document.getElementById(\"1277\");\n",
       "  if (element == null) {\n",
       "    console.error(\"Bokeh: ERROR: autoload.js configured with elementid '1277' but no matching script tag was found. \")\n",
       "    return false;\n",
       "  }\n",
       "\n",
       "  function inject_raw_css(css) {\n",
       "    const element = document.createElement(\"style\");\n",
       "    element.appendChild(document.createTextNode(css));\n",
       "    document.body.appendChild(element);\n",
       "  }\n",
       "\n",
       "  \n",
       "  var js_urls = [\"https://cdn.pydata.org/bokeh/release/bokeh-1.4.0.min.js\", \"https://cdn.pydata.org/bokeh/release/bokeh-widgets-1.4.0.min.js\", \"https://cdn.pydata.org/bokeh/release/bokeh-tables-1.4.0.min.js\", \"https://cdn.pydata.org/bokeh/release/bokeh-gl-1.4.0.min.js\"];\n",
       "  var css_urls = [];\n",
       "  \n",
       "\n",
       "  var inline_js = [\n",
       "    function(Bokeh) {\n",
       "      Bokeh.set_log_level(\"info\");\n",
       "    },\n",
       "    function(Bokeh) {\n",
       "    \n",
       "    \n",
       "    }\n",
       "  ];\n",
       "\n",
       "  function run_inline_js() {\n",
       "    \n",
       "    if (root.Bokeh !== undefined || force === true) {\n",
       "      \n",
       "    for (var i = 0; i < inline_js.length; i++) {\n",
       "      inline_js[i].call(root, root.Bokeh);\n",
       "    }\n",
       "    if (force === true) {\n",
       "        display_loaded();\n",
       "      }} else if (Date.now() < root._bokeh_timeout) {\n",
       "      setTimeout(run_inline_js, 100);\n",
       "    } else if (!root._bokeh_failed_load) {\n",
       "      console.log(\"Bokeh: BokehJS failed to load within specified timeout.\");\n",
       "      root._bokeh_failed_load = true;\n",
       "    } else if (force !== true) {\n",
       "      var cell = $(document.getElementById(\"1277\")).parents('.cell').data().cell;\n",
       "      cell.output_area.append_execute_result(NB_LOAD_WARNING)\n",
       "    }\n",
       "\n",
       "  }\n",
       "\n",
       "  if (root._bokeh_is_loading === 0) {\n",
       "    console.debug(\"Bokeh: BokehJS loaded, going straight to plotting\");\n",
       "    run_inline_js();\n",
       "  } else {\n",
       "    load_libs(css_urls, js_urls, function() {\n",
       "      console.debug(\"Bokeh: BokehJS plotting callback run at\", now());\n",
       "      run_inline_js();\n",
       "    });\n",
       "  }\n",
       "}(window));"
      ],
      "application/vnd.bokehjs_load.v0+json": "\n(function(root) {\n  function now() {\n    return new Date();\n  }\n\n  var force = true;\n\n  if (typeof root._bokeh_onload_callbacks === \"undefined\" || force === true) {\n    root._bokeh_onload_callbacks = [];\n    root._bokeh_is_loading = undefined;\n  }\n\n  \n\n  \n  if (typeof (root._bokeh_timeout) === \"undefined\" || force === true) {\n    root._bokeh_timeout = Date.now() + 5000;\n    root._bokeh_failed_load = false;\n  }\n\n  var NB_LOAD_WARNING = {'data': {'text/html':\n     \"<div style='background-color: #fdd'>\\n\"+\n     \"<p>\\n\"+\n     \"BokehJS does not appear to have successfully loaded. If loading BokehJS from CDN, this \\n\"+\n     \"may be due to a slow or bad network connection. Possible fixes:\\n\"+\n     \"</p>\\n\"+\n     \"<ul>\\n\"+\n     \"<li>re-rerun `output_notebook()` to attempt to load from CDN again, or</li>\\n\"+\n     \"<li>use INLINE resources instead, as so:</li>\\n\"+\n     \"</ul>\\n\"+\n     \"<code>\\n\"+\n     \"from bokeh.resources import INLINE\\n\"+\n     \"output_notebook(resources=INLINE)\\n\"+\n     \"</code>\\n\"+\n     \"</div>\"}};\n\n  function display_loaded() {\n    var el = document.getElementById(\"1277\");\n    if (el != null) {\n      el.textContent = \"BokehJS is loading...\";\n    }\n    if (root.Bokeh !== undefined) {\n      if (el != null) {\n        el.textContent = \"BokehJS \" + root.Bokeh.version + \" successfully loaded.\";\n      }\n    } else if (Date.now() < root._bokeh_timeout) {\n      setTimeout(display_loaded, 100)\n    }\n  }\n\n\n  function run_callbacks() {\n    try {\n      root._bokeh_onload_callbacks.forEach(function(callback) {\n        if (callback != null)\n          callback();\n      });\n    } finally {\n      delete root._bokeh_onload_callbacks\n    }\n    console.debug(\"Bokeh: all callbacks have finished\");\n  }\n\n  function load_libs(css_urls, js_urls, callback) {\n    if (css_urls == null) css_urls = [];\n    if (js_urls == null) js_urls = [];\n\n    root._bokeh_onload_callbacks.push(callback);\n    if (root._bokeh_is_loading > 0) {\n      console.debug(\"Bokeh: BokehJS is being loaded, scheduling callback at\", now());\n      return null;\n    }\n    if (js_urls == null || js_urls.length === 0) {\n      run_callbacks();\n      return null;\n    }\n    console.debug(\"Bokeh: BokehJS not loaded, scheduling load and callback at\", now());\n    root._bokeh_is_loading = css_urls.length + js_urls.length;\n\n    function on_load() {\n      root._bokeh_is_loading--;\n      if (root._bokeh_is_loading === 0) {\n        console.debug(\"Bokeh: all BokehJS libraries/stylesheets loaded\");\n        run_callbacks()\n      }\n    }\n\n    function on_error() {\n      console.error(\"failed to load \" + url);\n    }\n\n    for (var i = 0; i < css_urls.length; i++) {\n      var url = css_urls[i];\n      const element = document.createElement(\"link\");\n      element.onload = on_load;\n      element.onerror = on_error;\n      element.rel = \"stylesheet\";\n      element.type = \"text/css\";\n      element.href = url;\n      console.debug(\"Bokeh: injecting link tag for BokehJS stylesheet: \", url);\n      document.body.appendChild(element);\n    }\n\n    for (var i = 0; i < js_urls.length; i++) {\n      var url = js_urls[i];\n      var element = document.createElement('script');\n      element.onload = on_load;\n      element.onerror = on_error;\n      element.async = false;\n      element.src = url;\n      console.debug(\"Bokeh: injecting script tag for BokehJS library: \", url);\n      document.head.appendChild(element);\n    }\n  };var element = document.getElementById(\"1277\");\n  if (element == null) {\n    console.error(\"Bokeh: ERROR: autoload.js configured with elementid '1277' but no matching script tag was found. \")\n    return false;\n  }\n\n  function inject_raw_css(css) {\n    const element = document.createElement(\"style\");\n    element.appendChild(document.createTextNode(css));\n    document.body.appendChild(element);\n  }\n\n  \n  var js_urls = [\"https://cdn.pydata.org/bokeh/release/bokeh-1.4.0.min.js\", \"https://cdn.pydata.org/bokeh/release/bokeh-widgets-1.4.0.min.js\", \"https://cdn.pydata.org/bokeh/release/bokeh-tables-1.4.0.min.js\", \"https://cdn.pydata.org/bokeh/release/bokeh-gl-1.4.0.min.js\"];\n  var css_urls = [];\n  \n\n  var inline_js = [\n    function(Bokeh) {\n      Bokeh.set_log_level(\"info\");\n    },\n    function(Bokeh) {\n    \n    \n    }\n  ];\n\n  function run_inline_js() {\n    \n    if (root.Bokeh !== undefined || force === true) {\n      \n    for (var i = 0; i < inline_js.length; i++) {\n      inline_js[i].call(root, root.Bokeh);\n    }\n    if (force === true) {\n        display_loaded();\n      }} else if (Date.now() < root._bokeh_timeout) {\n      setTimeout(run_inline_js, 100);\n    } else if (!root._bokeh_failed_load) {\n      console.log(\"Bokeh: BokehJS failed to load within specified timeout.\");\n      root._bokeh_failed_load = true;\n    } else if (force !== true) {\n      var cell = $(document.getElementById(\"1277\")).parents('.cell').data().cell;\n      cell.output_area.append_execute_result(NB_LOAD_WARNING)\n    }\n\n  }\n\n  if (root._bokeh_is_loading === 0) {\n    console.debug(\"Bokeh: BokehJS loaded, going straight to plotting\");\n    run_inline_js();\n  } else {\n    load_libs(css_urls, js_urls, function() {\n      console.debug(\"Bokeh: BokehJS plotting callback run at\", now());\n      run_inline_js();\n    });\n  }\n}(window));"
     },
     "metadata": {},
     "output_type": "display_data"
    }
   ],
   "source": [
    "import bokeh.plotting as bp\n",
    "from bokeh.models import HoverTool, BoxSelectTool\n",
    "from bokeh.plotting import figure, show, output_notebook\n",
    "output_notebook()\n",
    "plot_tfidf = bp.figure(plot_width=700, plot_height=600, title=\"A map of 4210 word vectors\",\n",
    "    tools=\"pan,wheel_zoom,box_zoom,reset,hover,previewsave\",\n",
    "    x_axis_type=None, y_axis_type=None, min_border=1)"
   ]
  },
  {
   "cell_type": "code",
   "execution_count": 153,
   "metadata": {},
   "outputs": [
    {
     "name": "stderr",
     "output_type": "stream",
     "text": [
      "C:\\Users\\konark\\anaconda3\\lib\\site-packages\\ipykernel_launcher.py:1: DeprecationWarning: Call to deprecated `__getitem__` (Method will be removed in 4.0.0, use self.wv.__getitem__() instead).\n",
      "  \"\"\"Entry point for launching an IPython kernel.\n"
     ]
    }
   ],
   "source": [
    "word_vectors = [model_w2v[w] for w in model_w2v.wv.vocab.keys()]"
   ]
  },
  {
   "cell_type": "code",
   "execution_count": 154,
   "metadata": {},
   "outputs": [
    {
     "name": "stdout",
     "output_type": "stream",
     "text": [
      "[t-SNE] Computing 91 nearest neighbors...\n",
      "[t-SNE] Indexed 4496 samples in 0.146s...\n",
      "[t-SNE] Computed neighbors for 4496 samples in 1.538s...\n",
      "[t-SNE] Computed conditional probabilities for sample 1000 / 4496\n",
      "[t-SNE] Computed conditional probabilities for sample 2000 / 4496\n",
      "[t-SNE] Computed conditional probabilities for sample 3000 / 4496\n",
      "[t-SNE] Computed conditional probabilities for sample 4000 / 4496\n",
      "[t-SNE] Computed conditional probabilities for sample 4496 / 4496\n",
      "[t-SNE] Mean sigma: 0.013037\n",
      "[t-SNE] KL divergence after 250 iterations with early exaggeration: 64.225677\n",
      "[t-SNE] KL divergence after 1000 iterations: 1.044657\n"
     ]
    }
   ],
   "source": [
    "tsne_model = TSNE(n_components=2, verbose=1, random_state=0)\n",
    "tsne_w2v = tsne_model.fit_transform(word_vectors)\n",
    "\n",
    "# putting everything in a dataframe\n",
    "tsne_df = pd.DataFrame(tsne_w2v, columns=['x', 'y'])\n",
    "tsne_df['words'] = model_w2v.wv.vocab.keys()"
   ]
  },
  {
   "cell_type": "code",
   "execution_count": 155,
   "metadata": {},
   "outputs": [
    {
     "data": {
      "text/html": [
       "\n",
       "\n",
       "\n",
       "\n",
       "\n",
       "\n",
       "  <div class=\"bk-root\" id=\"05e0be15-f93f-4a29-87ab-d0ce37291e6f\" data-root-id=\"1278\"></div>\n"
      ]
     },
     "metadata": {},
     "output_type": "display_data"
    },
    {
     "data": {
      "application/javascript": [
       "(function(root) {\n",
       "  function embed_document(root) {\n",
       "    \n",
       "  var docs_json = {\"d95e80e2-88b7-4988-8a83-ac288765e56b\":{\"roots\":{\"references\":[{\"attributes\":{\"min_border\":1,\"plot_width\":700,\"renderers\":[{\"id\":\"1306\",\"type\":\"GlyphRenderer\"}],\"title\":{\"id\":\"1279\",\"type\":\"Title\"},\"toolbar\":{\"id\":\"1295\",\"type\":\"Toolbar\"},\"x_range\":{\"id\":\"1281\",\"type\":\"DataRange1d\"},\"x_scale\":{\"id\":\"1285\",\"type\":\"LinearScale\"},\"y_range\":{\"id\":\"1283\",\"type\":\"DataRange1d\"},\"y_scale\":{\"id\":\"1287\",\"type\":\"LinearScale\"}},\"id\":\"1278\",\"subtype\":\"Figure\",\"type\":\"Plot\"},{\"attributes\":{\"callback\":null},\"id\":\"1281\",\"type\":\"DataRange1d\"},{\"attributes\":{\"source\":{\"id\":\"1302\",\"type\":\"ColumnDataSource\"}},\"id\":\"1307\",\"type\":\"CDSView\"},{\"attributes\":{\"data_source\":{\"id\":\"1302\",\"type\":\"ColumnDataSource\"},\"glyph\":{\"id\":\"1304\",\"type\":\"Scatter\"},\"hover_glyph\":null,\"muted_glyph\":null,\"nonselection_glyph\":{\"id\":\"1305\",\"type\":\"Scatter\"},\"selection_glyph\":null,\"view\":{\"id\":\"1307\",\"type\":\"CDSView\"}},\"id\":\"1306\",\"type\":\"GlyphRenderer\"},{\"attributes\":{},\"id\":\"1287\",\"type\":\"LinearScale\"},{\"attributes\":{\"fill_color\":{\"value\":\"#1f77b4\"},\"line_color\":{\"value\":\"#1f77b4\"},\"x\":{\"field\":\"x\"},\"y\":{\"field\":\"y\"}},\"id\":\"1304\",\"type\":\"Scatter\"},{\"attributes\":{},\"id\":\"1289\",\"type\":\"PanTool\"},{\"attributes\":{},\"id\":\"1290\",\"type\":\"WheelZoomTool\"},{\"attributes\":{\"overlay\":{\"id\":\"1309\",\"type\":\"BoxAnnotation\"}},\"id\":\"1291\",\"type\":\"BoxZoomTool\"},{\"attributes\":{},\"id\":\"1292\",\"type\":\"ResetTool\"},{\"attributes\":{\"active_drag\":\"auto\",\"active_inspect\":\"auto\",\"active_multi\":null,\"active_scroll\":\"auto\",\"active_tap\":\"auto\",\"tools\":[{\"id\":\"1289\",\"type\":\"PanTool\"},{\"id\":\"1290\",\"type\":\"WheelZoomTool\"},{\"id\":\"1291\",\"type\":\"BoxZoomTool\"},{\"id\":\"1292\",\"type\":\"ResetTool\"},{\"id\":\"1293\",\"type\":\"HoverTool\"},{\"id\":\"1294\",\"type\":\"SaveTool\"}]},\"id\":\"1295\",\"type\":\"Toolbar\"},{\"attributes\":{\"fill_alpha\":{\"value\":0.1},\"fill_color\":{\"value\":\"#1f77b4\"},\"line_alpha\":{\"value\":0.1},\"line_color\":{\"value\":\"#1f77b4\"},\"x\":{\"field\":\"x\"},\"y\":{\"field\":\"y\"}},\"id\":\"1305\",\"type\":\"Scatter\"},{\"attributes\":{\"callback\":null,\"tooltips\":[[\"word\",\"@words\"]]},\"id\":\"1293\",\"type\":\"HoverTool\"},{\"attributes\":{},\"id\":\"1310\",\"type\":\"Selection\"},{\"attributes\":{},\"id\":\"1294\",\"type\":\"SaveTool\"},{\"attributes\":{\"text\":\"A map of 4210 word vectors\"},\"id\":\"1279\",\"type\":\"Title\"},{\"attributes\":{\"callback\":null},\"id\":\"1283\",\"type\":\"DataRange1d\"},{\"attributes\":{\"bottom_units\":\"screen\",\"fill_alpha\":{\"value\":0.5},\"fill_color\":{\"value\":\"lightgrey\"},\"left_units\":\"screen\",\"level\":\"overlay\",\"line_alpha\":{\"value\":1.0},\"line_color\":{\"value\":\"black\"},\"line_dash\":[4,4],\"line_width\":{\"value\":2},\"render_mode\":\"css\",\"right_units\":\"screen\",\"top_units\":\"screen\"},\"id\":\"1309\",\"type\":\"BoxAnnotation\"},{\"attributes\":{},\"id\":\"1311\",\"type\":\"UnionRenderers\"},{\"attributes\":{\"callback\":null,\"data\":{\"index\":[0,1,2,3,4,5,6,7,8,9,10,11,12,13,14,15,16,17,18,19,20,21,22,23,24,25,26,27,28,29,30,31,32,33,34,35,36,37,38,39,40,41,42,43,44,45,46,47,48,49,50,51,52,53,54,55,56,57,58,59,60,61,62,63,64,65,66,67,68,69,70,71,72,73,74,75,76,77,78,79,80,81,82,83,84,85,86,87,88,89,90,91,92,93,94,95,96,97,98,99,100,101,102,103,104,105,106,107,108,109,110,111,112,113,114,115,116,117,118,119,120,121,122,123,124,125,126,127,128,129,130,131,132,133,134,135,136,137,138,139,140,141,142,143,144,145,146,147,148,149,150,151,152,153,154,155,156,157,158,159,160,161,162,163,164,165,166,167,168,169,170,171,172,173,174,175,176,177,178,179,180,181,182,183,184,185,186,187,188,189,190,191,192,193,194,195,196,197,198,199,200,201,202,203,204,205,206,207,208,209,210,211,212,213,214,215,216,217,218,219,220,221,222,223,224,225,226,227,228,229,230,231,232,233,234,235,236,237,238,239,240,241,242,243,244,245,246,247,248,249,250,251,252,253,254,255,256,257,258,259,260,261,262,263,264,265,266,267,268,269,270,271,272,273,274,275,276,277,278,279,280,281,282,283,284,285,286,287,288,289,290,291,292,293,294,295,296,297,298,299,300,301,302,303,304,305,306,307,308,309,310,311,312,313,314,315,316,317,318,319,320,321,322,323,324,325,326,327,328,329,330,331,332,333,334,335,336,337,338,339,340,341,342,343,344,345,346,347,348,349,350,351,352,353,354,355,356,357,358,359,360,361,362,363,364,365,366,367,368,369,370,371,372,373,374,375,376,377,378,379,380,381,382,383,384,385,386,387,388,389,390,391,392,393,394,395,396,397,398,399,400,401,402,403,404,405,406,407,408,409,410,411,412,413,414,415,416,417,418,419,420,421,422,423,424,425,426,427,428,429,430,431,432,433,434,435,436,437,438,439,440,441,442,443,444,445,446,447,448,449,450,451,452,453,454,455,456,457,458,459,460,461,462,463,464,465,466,467,468,469,470,471,472,473,474,475,476,477,478,479,480,481,482,483,484,485,486,487,488,489,490,491,492,493,494,495,496,497,498,499,500,501,502,503,504,505,506,507,508,509,510,511,512,513,514,515,516,517,518,519,520,521,522,523,524,525,526,527,528,529,530,531,532,533,534,535,536,537,538,539,540,541,542,543,544,545,546,547,548,549,550,551,552,553,554,555,556,557,558,559,560,561,562,563,564,565,566,567,568,569,570,571,572,573,574,575,576,577,578,579,580,581,582,583,584,585,586,587,588,589,590,591,592,593,594,595,596,597,598,599,600,601,602,603,604,605,606,607,608,609,610,611,612,613,614,615,616,617,618,619,620,621,622,623,624,625,626,627,628,629,630,631,632,633,634,635,636,637,638,639,640,641,642,643,644,645,646,647,648,649,650,651,652,653,654,655,656,657,658,659,660,661,662,663,664,665,666,667,668,669,670,671,672,673,674,675,676,677,678,679,680,681,682,683,684,685,686,687,688,689,690,691,692,693,694,695,696,697,698,699,700,701,702,703,704,705,706,707,708,709,710,711,712,713,714,715,716,717,718,719,720,721,722,723,724,725,726,727,728,729,730,731,732,733,734,735,736,737,738,739,740,741,742,743,744,745,746,747,748,749,750,751,752,753,754,755,756,757,758,759,760,761,762,763,764,765,766,767,768,769,770,771,772,773,774,775,776,777,778,779,780,781,782,783,784,785,786,787,788,789,790,791,792,793,794,795,796,797,798,799,800,801,802,803,804,805,806,807,808,809,810,811,812,813,814,815,816,817,818,819,820,821,822,823,824,825,826,827,828,829,830,831,832,833,834,835,836,837,838,839,840,841,842,843,844,845,846,847,848,849,850,851,852,853,854,855,856,857,858,859,860,861,862,863,864,865,866,867,868,869,870,871,872,873,874,875,876,877,878,879,880,881,882,883,884,885,886,887,888,889,890,891,892,893,894,895,896,897,898,899,900,901,902,903,904,905,906,907,908,909,910,911,912,913,914,915,916,917,918,919,920,921,922,923,924,925,926,927,928,929,930,931,932,933,934,935,936,937,938,939,940,941,942,943,944,945,946,947,948,949,950,951,952,953,954,955,956,957,958,959,960,961,962,963,964,965,966,967,968,969,970,971,972,973,974,975,976,977,978,979,980,981,982,983,984,985,986,987,988,989,990,991,992,993,994,995,996,997,998,999,1000,1001,1002,1003,1004,1005,1006,1007,1008,1009,1010,1011,1012,1013,1014,1015,1016,1017,1018,1019,1020,1021,1022,1023,1024,1025,1026,1027,1028,1029,1030,1031,1032,1033,1034,1035,1036,1037,1038,1039,1040,1041,1042,1043,1044,1045,1046,1047,1048,1049,1050,1051,1052,1053,1054,1055,1056,1057,1058,1059,1060,1061,1062,1063,1064,1065,1066,1067,1068,1069,1070,1071,1072,1073,1074,1075,1076,1077,1078,1079,1080,1081,1082,1083,1084,1085,1086,1087,1088,1089,1090,1091,1092,1093,1094,1095,1096,1097,1098,1099,1100,1101,1102,1103,1104,1105,1106,1107,1108,1109,1110,1111,1112,1113,1114,1115,1116,1117,1118,1119,1120,1121,1122,1123,1124,1125,1126,1127,1128,1129,1130,1131,1132,1133,1134,1135,1136,1137,1138,1139,1140,1141,1142,1143,1144,1145,1146,1147,1148,1149,1150,1151,1152,1153,1154,1155,1156,1157,1158,1159,1160,1161,1162,1163,1164,1165,1166,1167,1168,1169,1170,1171,1172,1173,1174,1175,1176,1177,1178,1179,1180,1181,1182,1183,1184,1185,1186,1187,1188,1189,1190,1191,1192,1193,1194,1195,1196,1197,1198,1199,1200,1201,1202,1203,1204,1205,1206,1207,1208,1209,1210,1211,1212,1213,1214,1215,1216,1217,1218,1219,1220,1221,1222,1223,1224,1225,1226,1227,1228,1229,1230,1231,1232,1233,1234,1235,1236,1237,1238,1239,1240,1241,1242,1243,1244,1245,1246,1247,1248,1249,1250,1251,1252,1253,1254,1255,1256,1257,1258,1259,1260,1261,1262,1263,1264,1265,1266,1267,1268,1269,1270,1271,1272,1273,1274,1275,1276,1277,1278,1279,1280,1281,1282,1283,1284,1285,1286,1287,1288,1289,1290,1291,1292,1293,1294,1295,1296,1297,1298,1299,1300,1301,1302,1303,1304,1305,1306,1307,1308,1309,1310,1311,1312,1313,1314,1315,1316,1317,1318,1319,1320,1321,1322,1323,1324,1325,1326,1327,1328,1329,1330,1331,1332,1333,1334,1335,1336,1337,1338,1339,1340,1341,1342,1343,1344,1345,1346,1347,1348,1349,1350,1351,1352,1353,1354,1355,1356,1357,1358,1359,1360,1361,1362,1363,1364,1365,1366,1367,1368,1369,1370,1371,1372,1373,1374,1375,1376,1377,1378,1379,1380,1381,1382,1383,1384,1385,1386,1387,1388,1389,1390,1391,1392,1393,1394,1395,1396,1397,1398,1399,1400,1401,1402,1403,1404,1405,1406,1407,1408,1409,1410,1411,1412,1413,1414,1415,1416,1417,1418,1419,1420,1421,1422,1423,1424,1425,1426,1427,1428,1429,1430,1431,1432,1433,1434,1435,1436,1437,1438,1439,1440,1441,1442,1443,1444,1445,1446,1447,1448,1449,1450,1451,1452,1453,1454,1455,1456,1457,1458,1459,1460,1461,1462,1463,1464,1465,1466,1467,1468,1469,1470,1471,1472,1473,1474,1475,1476,1477,1478,1479,1480,1481,1482,1483,1484,1485,1486,1487,1488,1489,1490,1491,1492,1493,1494,1495,1496,1497,1498,1499,1500,1501,1502,1503,1504,1505,1506,1507,1508,1509,1510,1511,1512,1513,1514,1515,1516,1517,1518,1519,1520,1521,1522,1523,1524,1525,1526,1527,1528,1529,1530,1531,1532,1533,1534,1535,1536,1537,1538,1539,1540,1541,1542,1543,1544,1545,1546,1547,1548,1549,1550,1551,1552,1553,1554,1555,1556,1557,1558,1559,1560,1561,1562,1563,1564,1565,1566,1567,1568,1569,1570,1571,1572,1573,1574,1575,1576,1577,1578,1579,1580,1581,1582,1583,1584,1585,1586,1587,1588,1589,1590,1591,1592,1593,1594,1595,1596,1597,1598,1599,1600,1601,1602,1603,1604,1605,1606,1607,1608,1609,1610,1611,1612,1613,1614,1615,1616,1617,1618,1619,1620,1621,1622,1623,1624,1625,1626,1627,1628,1629,1630,1631,1632,1633,1634,1635,1636,1637,1638,1639,1640,1641,1642,1643,1644,1645,1646,1647,1648,1649,1650,1651,1652,1653,1654,1655,1656,1657,1658,1659,1660,1661,1662,1663,1664,1665,1666,1667,1668,1669,1670,1671,1672,1673,1674,1675,1676,1677,1678,1679,1680,1681,1682,1683,1684,1685,1686,1687,1688,1689,1690,1691,1692,1693,1694,1695,1696,1697,1698,1699,1700,1701,1702,1703,1704,1705,1706,1707,1708,1709,1710,1711,1712,1713,1714,1715,1716,1717,1718,1719,1720,1721,1722,1723,1724,1725,1726,1727,1728,1729,1730,1731,1732,1733,1734,1735,1736,1737,1738,1739,1740,1741,1742,1743,1744,1745,1746,1747,1748,1749,1750,1751,1752,1753,1754,1755,1756,1757,1758,1759,1760,1761,1762,1763,1764,1765,1766,1767,1768,1769,1770,1771,1772,1773,1774,1775,1776,1777,1778,1779,1780,1781,1782,1783,1784,1785,1786,1787,1788,1789,1790,1791,1792,1793,1794,1795,1796,1797,1798,1799,1800,1801,1802,1803,1804,1805,1806,1807,1808,1809,1810,1811,1812,1813,1814,1815,1816,1817,1818,1819,1820,1821,1822,1823,1824,1825,1826,1827,1828,1829,1830,1831,1832,1833,1834,1835,1836,1837,1838,1839,1840,1841,1842,1843,1844,1845,1846,1847,1848,1849,1850,1851,1852,1853,1854,1855,1856,1857,1858,1859,1860,1861,1862,1863,1864,1865,1866,1867,1868,1869,1870,1871,1872,1873,1874,1875,1876,1877,1878,1879,1880,1881,1882,1883,1884,1885,1886,1887,1888,1889,1890,1891,1892,1893,1894,1895,1896,1897,1898,1899,1900,1901,1902,1903,1904,1905,1906,1907,1908,1909,1910,1911,1912,1913,1914,1915,1916,1917,1918,1919,1920,1921,1922,1923,1924,1925,1926,1927,1928,1929,1930,1931,1932,1933,1934,1935,1936,1937,1938,1939,1940,1941,1942,1943,1944,1945,1946,1947,1948,1949,1950,1951,1952,1953,1954,1955,1956,1957,1958,1959,1960,1961,1962,1963,1964,1965,1966,1967,1968,1969,1970,1971,1972,1973,1974,1975,1976,1977,1978,1979,1980,1981,1982,1983,1984,1985,1986,1987,1988,1989,1990,1991,1992,1993,1994,1995,1996,1997,1998,1999,2000,2001,2002,2003,2004,2005,2006,2007,2008,2009,2010,2011,2012,2013,2014,2015,2016,2017,2018,2019,2020,2021,2022,2023,2024,2025,2026,2027,2028,2029,2030,2031,2032,2033,2034,2035,2036,2037,2038,2039,2040,2041,2042,2043,2044,2045,2046,2047,2048,2049,2050,2051,2052,2053,2054,2055,2056,2057,2058,2059,2060,2061,2062,2063,2064,2065,2066,2067,2068,2069,2070,2071,2072,2073,2074,2075,2076,2077,2078,2079,2080,2081,2082,2083,2084,2085,2086,2087,2088,2089,2090,2091,2092,2093,2094,2095,2096,2097,2098,2099,2100,2101,2102,2103,2104,2105,2106,2107,2108,2109,2110,2111,2112,2113,2114,2115,2116,2117,2118,2119,2120,2121,2122,2123,2124,2125,2126,2127,2128,2129,2130,2131,2132,2133,2134,2135,2136,2137,2138,2139,2140,2141,2142,2143,2144,2145,2146,2147,2148,2149,2150,2151,2152,2153,2154,2155,2156,2157,2158,2159,2160,2161,2162,2163,2164,2165,2166,2167,2168,2169,2170,2171,2172,2173,2174,2175,2176,2177,2178,2179,2180,2181,2182,2183,2184,2185,2186,2187,2188,2189,2190,2191,2192,2193,2194,2195,2196,2197,2198,2199,2200,2201,2202,2203,2204,2205,2206,2207,2208,2209,2210,2211,2212,2213,2214,2215,2216,2217,2218,2219,2220,2221,2222,2223,2224,2225,2226,2227,2228,2229,2230,2231,2232,2233,2234,2235,2236,2237,2238,2239,2240,2241,2242,2243,2244,2245,2246,2247,2248,2249,2250,2251,2252,2253,2254,2255,2256,2257,2258,2259,2260,2261,2262,2263,2264,2265,2266,2267,2268,2269,2270,2271,2272,2273,2274,2275,2276,2277,2278,2279,2280,2281,2282,2283,2284,2285,2286,2287,2288,2289,2290,2291,2292,2293,2294,2295,2296,2297,2298,2299,2300,2301,2302,2303,2304,2305,2306,2307,2308,2309,2310,2311,2312,2313,2314,2315,2316,2317,2318,2319,2320,2321,2322,2323,2324,2325,2326,2327,2328,2329,2330,2331,2332,2333,2334,2335,2336,2337,2338,2339,2340,2341,2342,2343,2344,2345,2346,2347,2348,2349,2350,2351,2352,2353,2354,2355,2356,2357,2358,2359,2360,2361,2362,2363,2364,2365,2366,2367,2368,2369,2370,2371,2372,2373,2374,2375,2376,2377,2378,2379,2380,2381,2382,2383,2384,2385,2386,2387,2388,2389,2390,2391,2392,2393,2394,2395,2396,2397,2398,2399,2400,2401,2402,2403,2404,2405,2406,2407,2408,2409,2410,2411,2412,2413,2414,2415,2416,2417,2418,2419,2420,2421,2422,2423,2424,2425,2426,2427,2428,2429,2430,2431,2432,2433,2434,2435,2436,2437,2438,2439,2440,2441,2442,2443,2444,2445,2446,2447,2448,2449,2450,2451,2452,2453,2454,2455,2456,2457,2458,2459,2460,2461,2462,2463,2464,2465,2466,2467,2468,2469,2470,2471,2472,2473,2474,2475,2476,2477,2478,2479,2480,2481,2482,2483,2484,2485,2486,2487,2488,2489,2490,2491,2492,2493,2494,2495,2496,2497,2498,2499,2500,2501,2502,2503,2504,2505,2506,2507,2508,2509,2510,2511,2512,2513,2514,2515,2516,2517,2518,2519,2520,2521,2522,2523,2524,2525,2526,2527,2528,2529,2530,2531,2532,2533,2534,2535,2536,2537,2538,2539,2540,2541,2542,2543,2544,2545,2546,2547,2548,2549,2550,2551,2552,2553,2554,2555,2556,2557,2558,2559,2560,2561,2562,2563,2564,2565,2566,2567,2568,2569,2570,2571,2572,2573,2574,2575,2576,2577,2578,2579,2580,2581,2582,2583,2584,2585,2586,2587,2588,2589,2590,2591,2592,2593,2594,2595,2596,2597,2598,2599,2600,2601,2602,2603,2604,2605,2606,2607,2608,2609,2610,2611,2612,2613,2614,2615,2616,2617,2618,2619,2620,2621,2622,2623,2624,2625,2626,2627,2628,2629,2630,2631,2632,2633,2634,2635,2636,2637,2638,2639,2640,2641,2642,2643,2644,2645,2646,2647,2648,2649,2650,2651,2652,2653,2654,2655,2656,2657,2658,2659,2660,2661,2662,2663,2664,2665,2666,2667,2668,2669,2670,2671,2672,2673,2674,2675,2676,2677,2678,2679,2680,2681,2682,2683,2684,2685,2686,2687,2688,2689,2690,2691,2692,2693,2694,2695,2696,2697,2698,2699,2700,2701,2702,2703,2704,2705,2706,2707,2708,2709,2710,2711,2712,2713,2714,2715,2716,2717,2718,2719,2720,2721,2722,2723,2724,2725,2726,2727,2728,2729,2730,2731,2732,2733,2734,2735,2736,2737,2738,2739,2740,2741,2742,2743,2744,2745,2746,2747,2748,2749,2750,2751,2752,2753,2754,2755,2756,2757,2758,2759,2760,2761,2762,2763,2764,2765,2766,2767,2768,2769,2770,2771,2772,2773,2774,2775,2776,2777,2778,2779,2780,2781,2782,2783,2784,2785,2786,2787,2788,2789,2790,2791,2792,2793,2794,2795,2796,2797,2798,2799,2800,2801,2802,2803,2804,2805,2806,2807,2808,2809,2810,2811,2812,2813,2814,2815,2816,2817,2818,2819,2820,2821,2822,2823,2824,2825,2826,2827,2828,2829,2830,2831,2832,2833,2834,2835,2836,2837,2838,2839,2840,2841,2842,2843,2844,2845,2846,2847,2848,2849,2850,2851,2852,2853,2854,2855,2856,2857,2858,2859,2860,2861,2862,2863,2864,2865,2866,2867,2868,2869,2870,2871,2872,2873,2874,2875,2876,2877,2878,2879,2880,2881,2882,2883,2884,2885,2886,2887,2888,2889,2890,2891,2892,2893,2894,2895,2896,2897,2898,2899,2900,2901,2902,2903,2904,2905,2906,2907,2908,2909,2910,2911,2912,2913,2914,2915,2916,2917,2918,2919,2920,2921,2922,2923,2924,2925,2926,2927,2928,2929,2930,2931,2932,2933,2934,2935,2936,2937,2938,2939,2940,2941,2942,2943,2944,2945,2946,2947,2948,2949,2950,2951,2952,2953,2954,2955,2956,2957,2958,2959,2960,2961,2962,2963,2964,2965,2966,2967,2968,2969,2970,2971,2972,2973,2974,2975,2976,2977,2978,2979,2980,2981,2982,2983,2984,2985,2986,2987,2988,2989,2990,2991,2992,2993,2994,2995,2996,2997,2998,2999,3000,3001,3002,3003,3004,3005,3006,3007,3008,3009,3010,3011,3012,3013,3014,3015,3016,3017,3018,3019,3020,3021,3022,3023,3024,3025,3026,3027,3028,3029,3030,3031,3032,3033,3034,3035,3036,3037,3038,3039,3040,3041,3042,3043,3044,3045,3046,3047,3048,3049,3050,3051,3052,3053,3054,3055,3056,3057,3058,3059,3060,3061,3062,3063,3064,3065,3066,3067,3068,3069,3070,3071,3072,3073,3074,3075,3076,3077,3078,3079,3080,3081,3082,3083,3084,3085,3086,3087,3088,3089,3090,3091,3092,3093,3094,3095,3096,3097,3098,3099,3100,3101,3102,3103,3104,3105,3106,3107,3108,3109,3110,3111,3112,3113,3114,3115,3116,3117,3118,3119,3120,3121,3122,3123,3124,3125,3126,3127,3128,3129,3130,3131,3132,3133,3134,3135,3136,3137,3138,3139,3140,3141,3142,3143,3144,3145,3146,3147,3148,3149,3150,3151,3152,3153,3154,3155,3156,3157,3158,3159,3160,3161,3162,3163,3164,3165,3166,3167,3168,3169,3170,3171,3172,3173,3174,3175,3176,3177,3178,3179,3180,3181,3182,3183,3184,3185,3186,3187,3188,3189,3190,3191,3192,3193,3194,3195,3196,3197,3198,3199,3200,3201,3202,3203,3204,3205,3206,3207,3208,3209,3210,3211,3212,3213,3214,3215,3216,3217,3218,3219,3220,3221,3222,3223,3224,3225,3226,3227,3228,3229,3230,3231,3232,3233,3234,3235,3236,3237,3238,3239,3240,3241,3242,3243,3244,3245,3246,3247,3248,3249,3250,3251,3252,3253,3254,3255,3256,3257,3258,3259,3260,3261,3262,3263,3264,3265,3266,3267,3268,3269,3270,3271,3272,3273,3274,3275,3276,3277,3278,3279,3280,3281,3282,3283,3284,3285,3286,3287,3288,3289,3290,3291,3292,3293,3294,3295,3296,3297,3298,3299,3300,3301,3302,3303,3304,3305,3306,3307,3308,3309,3310,3311,3312,3313,3314,3315,3316,3317,3318,3319,3320,3321,3322,3323,3324,3325,3326,3327,3328,3329,3330,3331,3332,3333,3334,3335,3336,3337,3338,3339,3340,3341,3342,3343,3344,3345,3346,3347,3348,3349,3350,3351,3352,3353,3354,3355,3356,3357,3358,3359,3360,3361,3362,3363,3364,3365,3366,3367,3368,3369,3370,3371,3372,3373,3374,3375,3376,3377,3378,3379,3380,3381,3382,3383,3384,3385,3386,3387,3388,3389,3390,3391,3392,3393,3394,3395,3396,3397,3398,3399,3400,3401,3402,3403,3404,3405,3406,3407,3408,3409,3410,3411,3412,3413,3414,3415,3416,3417,3418,3419,3420,3421,3422,3423,3424,3425,3426,3427,3428,3429,3430,3431,3432,3433,3434,3435,3436,3437,3438,3439,3440,3441,3442,3443,3444,3445,3446,3447,3448,3449,3450,3451,3452,3453,3454,3455,3456,3457,3458,3459,3460,3461,3462,3463,3464,3465,3466,3467,3468,3469,3470,3471,3472,3473,3474,3475,3476,3477,3478,3479,3480,3481,3482,3483,3484,3485,3486,3487,3488,3489,3490,3491,3492,3493,3494,3495,3496,3497,3498,3499,3500,3501,3502,3503,3504,3505,3506,3507,3508,3509,3510,3511,3512,3513,3514,3515,3516,3517,3518,3519,3520,3521,3522,3523,3524,3525,3526,3527,3528,3529,3530,3531,3532,3533,3534,3535,3536,3537,3538,3539,3540,3541,3542,3543,3544,3545,3546,3547,3548,3549,3550,3551,3552,3553,3554,3555,3556,3557,3558,3559,3560,3561,3562,3563,3564,3565,3566,3567,3568,3569,3570,3571,3572,3573,3574,3575,3576,3577,3578,3579,3580,3581,3582,3583,3584,3585,3586,3587,3588,3589,3590,3591,3592,3593,3594,3595,3596,3597,3598,3599,3600,3601,3602,3603,3604,3605,3606,3607,3608,3609,3610,3611,3612,3613,3614,3615,3616,3617,3618,3619,3620,3621,3622,3623,3624,3625,3626,3627,3628,3629,3630,3631,3632,3633,3634,3635,3636,3637,3638,3639,3640,3641,3642,3643,3644,3645,3646,3647,3648,3649,3650,3651,3652,3653,3654,3655,3656,3657,3658,3659,3660,3661,3662,3663,3664,3665,3666,3667,3668,3669,3670,3671,3672,3673,3674,3675,3676,3677,3678,3679,3680,3681,3682,3683,3684,3685,3686,3687,3688,3689,3690,3691,3692,3693,3694,3695,3696,3697,3698,3699,3700,3701,3702,3703,3704,3705,3706,3707,3708,3709,3710,3711,3712,3713,3714,3715,3716,3717,3718,3719,3720,3721,3722,3723,3724,3725,3726,3727,3728,3729,3730,3731,3732,3733,3734,3735,3736,3737,3738,3739,3740,3741,3742,3743,3744,3745,3746,3747,3748,3749,3750,3751,3752,3753,3754,3755,3756,3757,3758,3759,3760,3761,3762,3763,3764,3765,3766,3767,3768,3769,3770,3771,3772,3773,3774,3775,3776,3777,3778,3779,3780,3781,3782,3783,3784,3785,3786,3787,3788,3789,3790,3791,3792,3793,3794,3795,3796,3797,3798,3799,3800,3801,3802,3803,3804,3805,3806,3807,3808,3809,3810,3811,3812,3813,3814,3815,3816,3817,3818,3819,3820,3821,3822,3823,3824,3825,3826,3827,3828,3829,3830,3831,3832,3833,3834,3835,3836,3837,3838,3839,3840,3841,3842,3843,3844,3845,3846,3847,3848,3849,3850,3851,3852,3853,3854,3855,3856,3857,3858,3859,3860,3861,3862,3863,3864,3865,3866,3867,3868,3869,3870,3871,3872,3873,3874,3875,3876,3877,3878,3879,3880,3881,3882,3883,3884,3885,3886,3887,3888,3889,3890,3891,3892,3893,3894,3895,3896,3897,3898,3899,3900,3901,3902,3903,3904,3905,3906,3907,3908,3909,3910,3911,3912,3913,3914,3915,3916,3917,3918,3919,3920,3921,3922,3923,3924,3925,3926,3927,3928,3929,3930,3931,3932,3933,3934,3935,3936,3937,3938,3939,3940,3941,3942,3943,3944,3945,3946,3947,3948,3949,3950,3951,3952,3953,3954,3955,3956,3957,3958,3959,3960,3961,3962,3963,3964,3965,3966,3967,3968,3969,3970,3971,3972,3973,3974,3975,3976,3977,3978,3979,3980,3981,3982,3983,3984,3985,3986,3987,3988,3989,3990,3991,3992,3993,3994,3995,3996,3997,3998,3999,4000,4001,4002,4003,4004,4005,4006,4007,4008,4009,4010,4011,4012,4013,4014,4015,4016,4017,4018,4019,4020,4021,4022,4023,4024,4025,4026,4027,4028,4029,4030,4031,4032,4033,4034,4035,4036,4037,4038,4039,4040,4041,4042,4043,4044,4045,4046,4047,4048,4049,4050,4051,4052,4053,4054,4055,4056,4057,4058,4059,4060,4061,4062,4063,4064,4065,4066,4067,4068,4069,4070,4071,4072,4073,4074,4075,4076,4077,4078,4079,4080,4081,4082,4083,4084,4085,4086,4087,4088,4089,4090,4091,4092,4093,4094,4095,4096,4097,4098,4099,4100,4101,4102,4103,4104,4105,4106,4107,4108,4109,4110,4111,4112,4113,4114,4115,4116,4117,4118,4119,4120,4121,4122,4123,4124,4125,4126,4127,4128,4129,4130,4131,4132,4133,4134,4135,4136,4137,4138,4139,4140,4141,4142,4143,4144,4145,4146,4147,4148,4149,4150,4151,4152,4153,4154,4155,4156,4157,4158,4159,4160,4161,4162,4163,4164,4165,4166,4167,4168,4169,4170,4171,4172,4173,4174,4175,4176,4177,4178,4179,4180,4181,4182,4183,4184,4185,4186,4187,4188,4189,4190,4191,4192,4193,4194,4195,4196,4197,4198,4199,4200,4201,4202,4203,4204,4205,4206,4207,4208,4209,4210,4211,4212,4213,4214,4215,4216,4217,4218,4219,4220,4221,4222,4223,4224,4225,4226,4227,4228,4229,4230,4231,4232,4233,4234,4235,4236,4237,4238,4239,4240,4241,4242,4243,4244,4245,4246,4247,4248,4249,4250,4251,4252,4253,4254,4255,4256,4257,4258,4259,4260,4261,4262,4263,4264,4265,4266,4267,4268,4269,4270,4271,4272,4273,4274,4275,4276,4277,4278,4279,4280,4281,4282,4283,4284,4285,4286,4287,4288,4289,4290,4291,4292,4293,4294,4295,4296,4297,4298,4299,4300,4301,4302,4303,4304,4305,4306,4307,4308,4309,4310,4311,4312,4313,4314,4315,4316,4317,4318,4319,4320,4321,4322,4323,4324,4325,4326,4327,4328,4329,4330,4331,4332,4333,4334,4335,4336,4337,4338,4339,4340,4341,4342,4343,4344,4345,4346,4347,4348,4349,4350,4351,4352,4353,4354,4355,4356,4357,4358,4359,4360,4361,4362,4363,4364,4365,4366,4367,4368,4369,4370,4371,4372,4373,4374,4375,4376,4377,4378,4379,4380,4381,4382,4383,4384,4385,4386,4387,4388,4389,4390,4391,4392,4393,4394,4395,4396,4397,4398,4399,4400,4401,4402,4403,4404,4405,4406,4407,4408,4409,4410,4411,4412,4413,4414,4415,4416,4417,4418,4419,4420,4421,4422,4423,4424,4425,4426,4427,4428,4429,4430,4431,4432,4433,4434,4435,4436,4437,4438,4439,4440,4441,4442,4443,4444,4445,4446,4447,4448,4449,4450,4451,4452,4453,4454,4455,4456,4457,4458,4459,4460,4461,4462,4463,4464,4465,4466,4467,4468,4469,4470,4471,4472,4473,4474,4475,4476,4477,4478,4479,4480,4481,4482,4483,4484,4485,4486,4487,4488,4489,4490,4491,4492,4493,4494,4495],\"words\":[\"hindu\",\"rosh\",\"nae\",\"hunda\",\"moot\",\"peeniya\",\"koda\",\"lgda\",\"veer\",\"walay\",\"salaam\",\"kalam\",\"siraa\",\"karta\",\"bro\",\"att\",\"peene\",\"he\",\"pee\",\"bus\",\"sahi\",\"song\",\"tenu\",\"support\",\"gall\",\"kahi\",\"g\",\"number\",\"gana\",\"yeh\",\"saala\",\"fuddu\",\"n\",\"kar\",\"faltu\",\"politics\",\"usney\",\"dharm\",\"dey\",\"barey\",\"mut\",\"rukhde\",\"hun\",\"lag\",\"gye\",\"ede\",\"manuvadi\",\"soch\",\"case\",\"changi\",\"raah\",\"mushkil\",\"jarur\",\"hundi\",\"jet\",\"humesha\",\"aa\",\"thoade\",\"nal\",\"warga\",\"look\",\"salea\",\"ladai\",\"karanda\",\"likh\",\"asi\",\"waba\",\"sehmat\",\"turde\",\"parcha\",\"ala\",\"wah\",\"kamaal\",\"gya\",\"haha\",\"gau\",\"peen\",\"kaum\",\"love\",\"you\",\"vr\",\"aeda\",\"bolda\",\"full\",\"krti\",\"kamli\",\"boliya\",\"is\",\"galt\",\"e\",\"hit\",\"like\",\"bc\",\"gyi\",\"ehna\",\"sarhe\",\"saare\",\"sai\",\"ha\",\"bawe\",\"shiv\",\"sena\",\"bhen\",\"lun\",\"gallan\",\"kia\",\"gaana\",\"haiga\",\"mirchi\",\"kiha\",\"no\",\"munda\",\"piya\",\"mutt\",\"bolea\",\"kauda\",\"sale\",\"bol\",\"shi\",\"bolya\",\"paji\",\"galat\",\"sunia\",\"jada\",\"teton\",\"mama\",\"baba\",\"jma\",\"ban\",\"ge\",\"dekhde\",\"kida\",\"corona\",\"right\",\"kuta\",\"sala\",\"writer\",\"bhai\",\"kuch\",\"kiya\",\"khre\",\"thanks\",\"u\",\"ganna\",\"ona\",\"samaaj\",\"onda\",\"change\",\"anpad\",\"gaya\",\"nice\",\"bharat\",\"gl\",\"hoya\",\"ee\",\"khya\",\"c\",\"j\",\"maa\",\"chir\",\"jana\",\"ya\",\"hon\",\"lagada\",\"tanu\",\"h\",\"rhega\",\"dunia\",\"halaat\",\"such\",\"ae\",\"mittar\",\"end\",\"bandar\",\"karne\",\"sher\",\"dar\",\"bat\",\"saccha\",\"hii\",\"gayea\",\"suna\",\"himat\",\"muh\",\"chak\",\"jnde\",\"gll\",\"saara\",\"pakhandi\",\"dhrm\",\"aur\",\"suri\",\"ba\",\"pata\",\"bahaut\",\"vadhia\",\"gla\",\"khraab\",\"mantri\",\"saab\",\"k\",\"aya\",\"lan\",\"naa\",\"yaar\",\"bhut\",\"vadhiya\",\"songs\",\"va\",\"una\",\"sport\",\"dilo\",\"thk\",\"thak\",\"jor\",\"lenda\",\"kora\",\"all\",\"mardi\",\"kaha\",\"dislike\",\"ohna\",\"daa\",\"vir\",\"kehnde\",\"maaf\",\"mang\",\"jail\",\"sikha\",\"vari\",\"li\",\"ok\",\"aw\",\"glt\",\"ahe\",\"pehla\",\"vera\",\"khi\",\"insaaniyat\",\"khatm\",\"jinna\",\"be\",\"positive\",\"inj\",\"gussa\",\"karo\",\"i\",\"will\",\"dhram\",\"karlo\",\"krna\",\"lao\",\"frr\",\"pk\",\"omg\",\"film\",\"bi\",\"cahida\",\"kato\",\"famous\",\"vasta\",\"oh\",\"yaa\",\"jehdaa\",\"reya\",\"yellow\",\"shirt\",\"vala\",\"ehh\",\"honaa\",\"kus\",\"sirf\",\"rola\",\"pai\",\"dinaa\",\"sb\",\"theek\",\"pine\",\"jaat\",\"bava\",\"nya\",\"sira\",\"line\",\"means\",\"jis\",\"re\",\"o\",\"mar\",\"jao\",\"acha\",\"samjan\",\"bajrang\",\"dal\",\"bander\",\"pehne\",\"sun\",\"ju\",\"cheej\",\"gaane\",\"os\",\"ote\",\"hone\",\"ehde\",\"kya\",\"keep\",\"it\",\"up\",\"hamesa\",\"kadwa\",\"bund\",\"gi\",\"kug\",\"ohe\",\"riha\",\"am\",\"jyada\",\"mahaan\",\"banan\",\"eve\",\"bakwaas\",\"kri\",\"bhagwaan\",\"keti\",\"bhnchoda\",\"kha\",\"sch\",\"kehaa\",\"dimag\",\"vad\",\"jede\",\"bhindrawale\",\"bnde\",\"follow\",\"sannu\",\"karna\",\"chahiye\",\"ave\",\"seh\",\"tahi\",\"ane\",\"bu\",\"tension\",\"che\",\"sir\",\"p\",\"labour\",\"bhukhi\",\"ajj\",\"ro\",\"aye\",\"sand\",\"karda\",\"may\",\"lo\",\"samajh\",\"aundi\",\"ctain\",\"majdoor\",\"chngaa\",\"kehre\",\"daily\",\"kr\",\"baare\",\"chlo\",\"nihang\",\"jdo\",\"ghr\",\"ene\",\"jaane\",\"sabji\",\"lean\",\"saand\",\"bahar\",\"aaje\",\"dekhla\",\"gareeb\",\"marda\",\"peya\",\"eda\",\"waqt\",\"vch\",\"tarakiyan\",\"kde\",\"sakda\",\"des\",\"challenge\",\"pind\",\"shop\",\"khol\",\"deo\",\"krke\",\"har\",\"bchave\",\"gahr\",\"rehan\",\"nd\",\"jgh\",\"kam\",\"hospital\",\"middle\",\"class\",\"ghar\",\"baith\",\"nikal\",\"laye\",\"vaddi\",\"moka\",\"please\",\"agge\",\"aun\",\"dita\",\"jawe\",\"isi\",\"tid\",\"home\",\"guard\",\"waal\",\"diyaan\",\"doo\",\"ehi\",\"haal\",\"sarkar\",\"tah\",\"virus\",\"jauga\",\"inne\",\"kdd\",\"cm\",\"in\",\"pb\",\"ghara\",\"kehna\",\"baithe\",\"roti\",\"ditta\",\"??\",\"dass\",\"?\",\"ludhiana\",\"dc\",\"rea\",\"ohvi\",\"hazoor\",\"sahaab\",\"test\",\"chaida\",\"waste\",\"rasta\",\"arrange\",\"\\u0089\\u00fb?\",\"faisla\",\"hoke\",\"kyu\",\"marn\",\"bas\",\"bacho\",\"thonu\",\"insaan\",\"jindagi\",\"kine\",\"dukh\",\"bimari\",\"faida\",\"rat\",\"mitti\",\"great\",\"sahib\",\"jindabad\",\"jai\",\"hind\",\"congress\",\"bure\",\"curfew\",\"relaxation\",\"shops\",\"rush\",\"rahey\",\"smaan\",\"sakhti\",\"good\",\"band\",\"khud\",\"jung\",\"lead\",\"kre\",\"sadi\",\"bethe\",\"jehe\",\"dekhi\",\"ni\",\"state\",\"barbad\",\"deve\",\"wa\",\"ja\",\"meraa\",\"yrr\",\"so\",\"much\",\"help\",\"fer\",\"avde\",\"ustaad\",\"work\",\"kro\",\"rehndi\",\"khan\",\"we\",\"problem\",\"garib\",\"kch\",\"paaji\",\"kanak\",\"laya\",\"astaad\",\"down\",\"earth\",\"moose\",\"wala\",\"hoi\",\"moosewala\",\"badi\",\"jata\",\"kero\",\"gaye\",\"mandi\",\"ander\",\"gayi\",\"banode\",\"god\",\"bless\",\"allah\",\"pak\",\"khush\",\"r\",\"abad\",\"rakhi\",\"dill\",\"maada\",\"jatt\",\"khushi\",\"aali\",\"saada\",\"karti\",\"gane\",\"ora\",\"lena\",\"dena\",\"brah\",\"hega\",\"reply\",\"ghaint\",\"y\",\"chk\",\"rakho\",\"agla\",\"ganaa\",\"friends\",\"ty\",\"jaroor\",\"navi\",\"kado\",\"kadna\",\"worker\",\"krr\",\"kut\",\"khadi\",\"party\",\"le\",\"jehre\",\"bande\",\"public\",\"thu\",\"m\",\"lockdown\",\"haar\",\"jaiye\",\"kanjar\",\"baitha\",\"new\",\"ayea\",\"tri\",\"vja\",\"nl\",\"hath\",\"raas\",\"giya\",\"promotion\",\"bete\",\"job\",\"milao\",\"babe\",\"kirpa\",\"muda\",\"ahi\",\"bss\",\"bukhe\",\"rhy\",\"ghra\",\"government\",\"sabto\",\"ghatia\",\"tuhanu\",\"akal\",\"ghat\",\"vote\",\"lae\",\"paae\",\"see\",\"kee\",\"gea\",\"dao\",\"btt\",\"vichare\",\"ney\",\"mehnat\",\"kiti\",\"ohnu\",\"deyo\",\"gand\",\"bre\",\"b\",\"loo\",\"vehle\",\"harjeet\",\"jang\",\"das\",\"manu\",\"beta\",\"police\",\"officer\",\"bna\",\"dek\",\"aena\",\"sad\",\"tek\",\"ction\",\"janta\",\"wal\",\"dyaan\",\"dvo\",\"paisa\",\"jane\",\"oo\",\"wasda\",\"baccha\",\"cute\",\"kaash\",\"baarey\",\"taan\",\"pyaara\",\"ct\",\"request\",\"yaatra\",\"aaye\",\"and\",\"quarantine\",\"them\",\"its\",\"too\",\"punjabi\",\"krla\",\"wda\",\"banya\",\"bchya\",\"school\",\"bnd\",\"amarinder\",\"saade\",\"paise\",\"paye\",\"kdo\",\"mil\",\"haale\",\"tk\",\"america\",\"english\",\"speech\",\"share\",\"beti\",\"rajasthan\",\"sri\",\"d\",\"sehat\",\"jaroori\",\"bhenchod\",\"mari\",\"pyi\",\"aao\",\"saath\",\"layi\",\"shukriya\",\"sadke\",\"kota\",\"aanda\",\"nikama\",\"modi\",\"eithe\",\"sudar\",\"karan\",\"toh\",\"babbu\",\"maan\",\"fan\",\"dubai\",\"tak\",\"dhak\",\"sakht\",\"cases\",\"free\",\"covid\",\"pa\",\"benti\",\"chalda\",\"thora\",\"dhyan\",\"malik\",\"strict\",\"raho\",\"action\",\"chahide\",\"medical\",\"jihi\",\"den\",\"greeb\",\"jod\",\"parivaar\",\"ve\",\"mini\",\"busa\",\"labourer\",\"cova\",\"karvaya\",\"uh\",\"ration\",\"bad\",\"jan\",\"krea\",\"lga\",\"ghata\",\"fikr\",\"salute\",\"report\",\"not\",\"mubarak\",\"industry\",\"phone\",\"bich\",\"kafi\",\"guru\",\"maharaj\",\"badd\",\"as\",\"roz\",\"maran\",\"waheguru\",\"meher\",\"respected\",\"barnala\",\"district\",\"mukt\",\"ethey\",\"total\",\"death\",\"negative\",\"ehdi\",\"balachaur\",\"dist\",\"nagar\",\"lakad\",\"bot\",\"pareshan\",\"mndee\",\"kmm\",\"ditti\",\"gud\",\"paunde\",\"grib\",\"tang\",\"baad\",\"card\",\"halka\",\"mla\",\"shre\",\"paal\",\"sarpanch\",\"nake\",\"last\",\"days\",\"wheat\",\"moisture\",\"farmers\",\"kharab\",\"gae\",\"kehde\",\"tay\",\"center\",\"uprala\",\"saholat\",\"jann\",\"aam\",\"karn\",\"related\",\"rh\",\"bags\",\"provide\",\"patiala\",\"nabha\",\"road\",\"rhi\",\"pass\",\"karvao\",\"kindly\",\"give\",\"leader\",\"dekho\",\"baki\",\"city\",\"the\",\"govt\",\"doing\",\"khajana\",\"khali\",\"chad\",\"pade\",\"bijli\",\"bill\",\"department\",\"guide\",\"riya\",\"call\",\"cut\",\"jehde\",\"jhut\",\"bolde\",\"kol\",\"aisa\",\"kanoon\",\"court\",\"jaye\",\"crore\",\"rakhea\",\"ovi\",\"greeba\",\"bando\",\"month\",\"chla\",\"lock\",\"madad\",\"tade\",\"jere\",\"rashan\",\"krao\",\"majboor\",\"bar\",\"serious\",\"jaan\",\"rehi\",\"saari\",\"open\",\"phir\",\"crona\",\"come\",\"ghate\",\"ce\",\"very\",\"decision\",\"family\",\"kay\",\"lay\",\"aah\",\"fees\",\"ka\",\"milk\",\"tra\",\"firde\",\"bahr\",\"group\",\"khd\",\"jande\",\"galiya\",\"khed\",\"care\",\"baj\",\"vd\",\"oda\",\"jalandhar\",\"tight\",\"bura\",\"jagah\",\"normal\",\"ghum\",\"power\",\"control\",\"vh\",\"saal\",\"sewa\",\"aai\",\"kete\",\"boycot\",\"keta\",\"-\",\"against\",\"bada\",\"han\",\"delhi\",\"randhawe\",\"naam\",\"manjeet\",\"ilaj\",\"vaisakhi\",\"diyan\",\"tandrusti\",\"ardaas\",\"koti\",\"jaldi\",\"pure\",\"vasda\",\"dsna\",\"mulajam\",\"level\",\"khas\",\"hpy\",\"baisakhi\",\"pita\",\"parmatma\",\"kripa\",\"bani\",\"mukh\",\"chahida\",\"path\",\"granth\",\"uper\",\"juraban\",\"jayida\",\"sikhi\",\"kive\",\"ral\",\"world\",\"cha\",\"matha\",\"rakhe\",\"nakli\",\"ghatiya\",\"post\",\"ku\",\"jisne\",\"gutka\",\"soh\",\"chuki\",\"sarea\",\"sahmne\",\"banda\",\"dear\",\"should\",\"have\",\"remove\",\"your\",\"socks\",\"because\",\"nang\",\"pair\",\"paave\",\"jayo\",\"dona\",\"kolo\",\"whole\",\"jeda\",\"badal\",\"rab\",\"pakke\",\"repeat\",\"patshah\",\"sanskaar\",\"beanti\",\"prat\",\"karni\",\"ute\",\"samna\",\"kursi\",\"sariya\",\"safai\",\"kisan\",\"ganne\",\"payment\",\"kardo\",\"gurudwaara\",\"jyda\",\"nll\",\"rai\",\"dhan\",\"dev\",\"tati\",\"thale\",\"beth\",\"sharam\",\"tekda\",\"pya\",\"private\",\"kajj\",\"fee\",\"kithe\",\"denge\",\"staff\",\"khaa\",\"kedi\",\"vadi\",\"plzz\",\"duje\",\"multi\",\"purposes\",\"health\",\"bharti\",\"khatme\",\"ground\",\"education\",\"diti\",\"sake\",\"complaint\",\"pspcl\",\"thekedaar\",\"leke\",\"duty\",\"salam\",\"sharab\",\"sham\",\"roj\",\"ram\",\"rub\",\"ko\",\"hy\",\"hamesha\",\"chardikala\",\"rakhan\",\"sar\",\"aka\",\"shabad\",\"kaise\",\"ada\",\"karu\",\"tarkkiyaan\",\"rabba\",\"pyaar\",\"baniya\",\"kash\",\"ppe\",\"idda\",\"dard\",\"khushiyan\",\"bakshan\",\"sarre\",\"sath\",\"dene\",\"\\\"\",\"khalsa\",\"officera\",\"puche\",\"chl\",\"satnam\",\"var\",\"kran\",\"gee\",\"lala\",\"tune\",\"chunda\",\"per\",\"sat\",\"dera\",\"chardi\",\"kala\",\"bakshe\",\"man\",\"dil\",\"photo\",\"kare\",\"ghare\",\"ninda\",\"ase\",\"red\",\"hisaab\",\"karwati\",\"meet\",\"nuksan\",\"kholn\",\"kidr\",\"jange\",\"kich\",\"paya\",\"ini\",\"buri\",\"rakhya\",\"nale\",\"thik\",\"hoju\",\"dso\",\"mehman\",\"khe\",\"real\",\"mask\",\"bolo\",\"varga\",\"jra\",\"makaan\",\"lain\",\"bil\",\"bhra\",\"bhul\",\"next\",\"bcz\",\"bandea\",\"ena\",\"pe\",\"jawa\",\"comments\",\"read\",\"hunde\",\"honge\",\"jaa\",\"parbhand\",\"sanitizer\",\"pahela\",\"baardana\",\"available\",\"kall\",\"kidan\",\"khatam\",\"hoyea\",\"jahe\",\"ssa\",\"relatives\",\"clear\",\"sangat\",\"aithe\",\"safe\",\"gy\",\"election\",\"vang\",\"press\",\"byaan\",\"ria\",\"hje\",\"bhr\",\"rhae\",\"market\",\"round\",\"rojgar\",\"khange\",\"dary\",\"dukaan\",\"chj\",\"dy\",\"property\",\"maar\",\"deya\",\"haye\",\"yaah\",\"khana\",\"sa\",\"dhari\",\"ray\",\"t\",\"haa\",\"l\",\"lvo\",\"bara\",\"comment\",\"kon\",\"raha\",\"tibbayan\",\"fans\",\"rha\",\"karao\",\"pinda\",\"pasand\",\"samjh\",\"ske\",\"rok\",\"lau\",\"dariyavan\",\"nehran\",\"hohi\",\"lahore\",\"big\",\"pakistan\",\"trending\",\"dekhna\",\"chaonda\",\"here\",\"views\",\"kese\",\"ale\",\"aale\",\"lata\",\"baai\",\"kis\",\"soniyo\",\"dekhn\",\"baar\",\"hlo\",\"vda\",\"beda\",\"gark\",\"aujla\",\"jake\",\"banu\",\"putt\",\"youth\",\"thoada\",\"dj\",\"bajda\",\"vaang\",\"bnayi\",\"haigi\",\"ate\",\"nibha\",\"dikhae\",\"aje\",\"bachea\",\"satkar\",\"jog\",\"ose\",\"lod\",\"bina\",\"aram\",\"prblm\",\"families\",\"ortan\",\"madarchod\",\"kisi\",\"person\",\"awe\",\"bank\",\"bheed\",\"there\",\"one\",\"question\",\"muft\",\"mill\",\"ameer\",\"vaise\",\"tell\",\"what\",\"about\",\"upar\",\"lower\",\"any\",\"this\",\"category\",\"than\",\"of\",\"their\",\"business\",\"unka\",\"hoga\",\"kehte\",\"kaam\",\"guzara\",\"pej\",\"dwo\",\"khai\",\"shoti\",\"sarda\",\"asin\",\"ine\",\"poora\",\"kma\",\"kharcha\",\"deke\",\"majak\",\"chalo\",\"jimedari\",\"doctor\",\"paramedical\",\"kits\",\"karva\",\"devo\",\"profession\",\"are\",\"soldiers\",\"now\",\"how\",\"can\",\"without\",\"contract\",\"security\",\"salary\",\"pvaya\",\"ilawa\",\"wand\",\"kyuki\",\"hrek\",\"ghre\",\"phuch\",\"shakti\",\"women\",\"deko\",\"jene\",\"afeem\",\"kini\",\"der\",\"gharo\",\"java\",\"phar\",\"val\",\"kaho\",\"moti\",\"tankhah\",\"college\",\"haan\",\"kadn\",\"dinde\",\"fayda\",\"bn\",\"rya\",\"dya\",\"yaara\",\"specially\",\"amritsar\",\"nursa\",\"patients\",\"bhar\",\"rupaiya\",\"pay\",\"farmer\",\"rs\",\"gor\",\"kho\",\"tainu\",\"daso\",\"opd\",\"children\",\"gurdaspur\",\"cebel\",\"tar\",\"gher\",\"mag\",\"se\",\"en\",\"jay\",\"puchda\",\"corruption\",\"go\",\"back\",\"kanjara\",\"tou\",\"bekaar\",\"gar\",\"ambulance\",\"service\",\"hal\",\"bhout\",\"chote\",\"saram\",\"marjo\",\"sakal\",\"bnda\",\"cheez\",\"bht\",\"gujara\",\"aan\",\"daughter\",\"sera\",\"off\",\"nanak\",\"asr\",\"ehda\",\"timepass\",\"date\",\"bhene\",\"rah\",\"jehi\",\"taraki\",\"dina\",\"chalane\",\"uhna\",\"paas\",\"jaroorat\",\"dasso\",\"kaffi\",\"truck\",\"driver\",\"nasamaj\",\"selfish\",\"bhane\",\"satguru\",\"koorha\",\"kehn\",\"dea\",\"kahe\",\"im\",\"agree\",\"with\",\"spot\",\"himmat\",\"aawe\",\"mach\",\"kutaa\",\"kuz\",\"hoeaa\",\"my\",\"movie\",\"dudh\",\"gala\",\"tiya\",\"chor\",\"bond\",\"pati\",\"only\",\"kiu\",\"pinde\",\"kaljug\",\"jnda\",\"bave\",\"boln\",\"true\",\"karaye\",\"tatto\",\"pio\",\"raaj\",\"ohde\",\"parche\",\"krva\",\"hna\",\"badhiya\",\"kitna\",\"reason\",\"sukh\",\"ajkal\",\"yug\",\"kea\",\"saaleyo\",\"dimaag\",\"ana\",\"paagal\",\"dharmik\",\"kehda\",\"dharam\",\"desh\",\"constitution\",\"manda\",\"samajda\",\"drj\",\"gurudev\",\"bhaiji\",\"karwayi\",\"vand\",\"khaas\",\"rang\",\"paun\",\"galla\",\"thoudi\",\"dr\",\"bandiya\",\"gaea\",\"kio\",\"pathar\",\"ga\",\"kahda\",\"hn\",\"krlo\",\"aahi\",\"vrr\",\"carry\",\"on\",\"daraj\",\"galti\",\"badiya\",\"tareekh\",\"special\",\"traaekh\",\"dialogue\",\"yaad\",\"gaa\",\"thess\",\"gaaya\",\"kutt\",\"kehra\",\"kasur\",\"teek\",\"boli\",\"juth\",\"eitho\",\"kinna\",\"pkka\",\"dekhyo\",\"bhrava\",\"thek\",\"khiya\",\"bahi\",\"thes\",\"pahunch\",\"ode\",\"geeta\",\"tho\",\"vadde\",\"lavel\",\"karvai\",\"soori\",\"sambea\",\"thade\",\"isda\",\"olna\",\"mha\",\"chnga\",\"magar\",\"ali\",\"q\",\"jinu\",\"changa\",\"suni\",\"javo\",\"muk\",\"media\",\"dud\",\"mu\",\"pao\",\"litre\",\"target\",\"une\",\"ehnu\",\"dasa\",\"kehan\",\"best\",\"lokk\",\"name\",\"lite\",\"jihre\",\"lg\",\"tik\",\"sehna\",\"aukha\",\"chut\",\"vae\",\"haga\",\"labda\",\"kharda\",\"jatpat\",\"banai\",\"bola\",\"langar\",\"kdi\",\"mandir\",\"de\",\"chahidi\",\"bhavnawa\",\"zinda\",\"dae\",\"sahai\",\"kase\",\"bhot\",\"ponchh\",\"bhavnava\",\"hindua\",\"chkya\",\"jutt\",\"bole\",\"bhim\",\"ryt\",\"sub\",\"music\",\"baave\",\"baaki\",\"odo\",\"taa\",\"character\",\"yar\",\"gatre\",\"sarya\",\"vaare\",\"aage\",\"darj\",\"bde\",\"dharma\",\"salio\",\"piyo\",\"agg\",\"jandi\",\"daru\",\"purja\",\"jihna\",\"kayia\",\"made\",\"jamya\",\"kabhi\",\"ungal\",\"leya\",\"takleef\",\"pela\",\"nafrat\",\"ly\",\"javi\",\"saboot\",\"kehnda\",\"bhukhe\",\"payo\",\"dushman\",\"chubda\",\"admi\",\"iss\",\"heni\",\"prr\",\"jya\",\"glti\",\"daseya\",\"vadd\",\"tey\",\"kadam\",\"dhud\",\"khich\",\"ver\",\"thokda\",\"lii\",\"umar\",\"beet\",\"jani\",\"jedi\",\"vekh\",\"houga\",\"enu\",\"matt\",\"dhrma\",\"vangu\",\"charda\",\"hajam\",\"takat\",\"drm\",\"hindi\",\"nee\",\"chln\",\"dee\",\"hoo\",\"vv\",\"yo\",\"dekhda\",\"edi\",\"evi\",\"ladki\",\"sal\",\"agle\",\"sehi\",\"gyea\",\"hegi\",\"jat\",\"nich\",\"kute\",\"social\",\"distance\",\"banao\",\"lafaz\",\"nasha\",\"jerhe\",\"pooja\",\"valia\",\"lavo\",\"same\",\"glla\",\"cc\",\"akl\",\"bjae\",\"nia\",\"shan\",\"gurdassman\",\"mann\",\"bunda\",\"had\",\"already\",\"lost\",\"his\",\"following\",\"abroad\",\"soon\",\"people\",\"forget\",\"joke\",\"mandeep\",\"taut\",\"member\",\"parliament\",\"bhalda\",\"eedalla\",\"hes\",\"chumcha\",\"those\",\"who\",\"get\",\"hands\",\"armslegs\",\"broken\",\"skill\",\"cracked\",\"by\",\"arms\",\"beaten\",\"when\",\"they\",\"into\",\"peoples\",\"homes\",\"warrants\",\"beat\",\"fun\",\"totally\",\"corrupt\",\"anyone\",\"gadar\",\"umeed\",\"an\",\"inspiration\",\"object\",\"entertain\",\"&\",\"vikau\",\"maal\",\"opinion\",\"lor\",\"were\",\"raised\",\"wear\",\"jhanjhar\",\"sing\",\"dance\",\"stay\",\"limits\",\"stupid\",\"entertainment\",\"piece\",\"slave\",\"gill\",\"spoon\",\"dhundali\",\"blurry\",\"rishi\",\"koor\",\"bitaye\",\"sarovar\",\"taran\",\"dum\",\"saaf\",\"punjabiyat\",\"mulaqaat\",\"kehey\",\"shandar\",\"gurdass\",\"vadhaiyan\",\"kardhey\",\"peri\",\"penaa\",\"actor\",\"aatma\",\"shanti\",\"bania\",\"kalakar\",\"jagdi\",\"jamir\",\"hoon\",\"hoiga\",\"words\",\"nek\",\"ey\",\"takdeya\",\"rehana\",\"ibadat\",\"takney\",\"esa\",\"asar\",\"marr\",\"dhundli\",\"maana\",\"chauhan\",\"waleya\",\"nimaani\",\"koshish\",\"sehyog\",\"talent\",\"adakaari\",\"misaal\",\"kayam\",\"-rab\",\"pehchan\",\"klakaar\",\"bollywood\",\"hollywood\",\"unna\",\"atma\",\"minu\",\"ykin\",\"acche\",\"jldi\",\"tur\",\"jaande\",\"achi\",\"jaana\",\"bhuat\",\"gul\",\"hey\",\"pavitar\",\"charana\",\"niwa\",\"jee\",\"changean\",\"praba\",\"anja\",\"baari\",\"bajii\",\"sabna\",\"jaad\",\"aande\",\"-dushman\",\"karie\",\"sajna\",\"-shikhran\",\"mohammad\",\"aakhir\",\"dub\",\"raunak\",\"mele\",\"vaas\",\"aavey-\",\"tandrust\",\"sure\",\"oho\",\"aawo\",\"darveshi\",\"stop\",\"using\",\"fukra?\",\"thali\",\"khada\",\"shek\",\"bachpan\",\"supna\",\"treh\",\"hamesh\",\"rana\",\"from\",\"miss\",\"every\",\"karina\",\"anda\",\"seal\",\"balkey\",\"sohna\",\"awaaj\",\"favourite\",\"armaan\",\"drshan\",\"aane\",\"joga\",\"shsakta\",\"sakta\",\"aki\",\"lambo\",\"bakshay\",\"tarah\",\"chadhti\",\"rakhen\",\"kahiyan\",\"aagiyan\",\"grur\",\"kahna\",\"khahna\",\"dojey\",\"nima\",\"dasdey\",\"kud\",\"gora\",\"dujay\",\"jankari\",\"direction\",\"mary\",\"ijajat\",\"baat\",\"hunner\",\"gbu\",\"album\",\"kadhun\",\"khoaesh\",\"jabe\",\"jaisa\",\"jag\",\"baksha\",\"gannea\",\"vada\",\"kande\",\"khde\",\"greet\",\"tuhde\",\"jgah\",\"sangeet\",\"asani\",\"taar\",\"jud\",\"ruhani\",\"bakhsheesh\",\"tvanu\",\"rach\",\"zehan\",\"galaa\",\"jhuk\",\"murid\",\"ru\",\"chaunda\",\"gauna\",\"vichar\",\"agar\",\"shuruat\",\"chhallee\",\"kragaa\",\"sandesh\",\"tyan\",\"taiyar\",\"jinanu\",\"di\",\"darkar\",\"son\",\"soil\",\"dukhi\",\"living\",\"legend\",\"many\",\"came\",\"ever\",\"able\",\"match\",\"saiji\",\"lakh\",\"halatan\",\"gharey\",\"behtey\",\"dillon\",\"darbaar\",\"hazri\",\"jaavey-\",\"sevadar\",\"haazri\",\"kabool\",\"mereya\",\"saiya\",\"masta\",\"gadi\",\"meya\",\"gos\",\"shah\",\"murad\",\"gulam\",\"sangut\",\"data\",\"jholi\",\"bhre\",\"nak\",\"murda\",\"roo\",\"darshan\",\"jeounde\",\"dila\",\"parnam\",\"saarea\",\"hoje\",\"jwe\",\"dii\",\"aaj\",\"jug\",\"jeeve\",\"kdhde\",\"jio\",\"male\",\"rakhana\",\"bhala\",\"uhda\",\"khrab\",\"bnu\",\"long\",\"tukde\",\"kathe\",\"let\",\"peace\",\"unity\",\"shaan\",\"vakhri\",\"sister\",\"ravo\",\"chandi\",\"faisalabad\",\"bari\",\"feelings\",\"andi\",\"across\",\"borders\",\"countries\",\"daye\",\"aika\",\"saadaa\",\"husno\",\"raani\",\"kidhar\",\"lane\",\"punjabiwasda\",\"rehway\",\"culture\",\"worldculture\",\"lionslove\",\"ohhoo\",\"cheta\",\"jeende\",\"energy\",\"passion\",\"diljit\",\"naalo\",\"alg\",\"thand\",\"bismillah\",\"jugni\",\"buzarga\",\"klam\",\"ich\",\"taseer\",\"jdon\",\"ounda\",\"roh\",\"taza\",\"chhaddo\",\"chaahidan\",\"jwab\",\"kamal\",\"manna\",\"rakha\",\"lanti\",\"janaab\",\"zeonde\",\"khiddhe\",\"hasde\",\"muskuraunde\",\"duwara\",\"aana\",\"risa\",\"qismat\",\"ehhe\",\"bhenchood\",\"naas\",\"auto\",\"haini\",\"tarsya\",\"karoge\",\"jeeta\",\"mahey\",\"dsda\",\"gaalan\",\"kd\",\"mukaam\",\"aadha\",\"hege\",\"rees\",\"honna\",\"vrga\",\"enna\",\"aaoni\",\"anna\",\"chaar\",\"panjvi\",\"vaari\",\"laanat\",\"bhejo\",\"inpe\",\"harek\",\"ishq\",\"ihaq\",\"geetan\",\"jamna\",\"bhaji\",\"reporter\",\"ohda\",\"ud\",\"expression\",\"gurd\\u0088s\",\"horan\",\"gumreh\",\"lavi\",\"marditey\",\"tokaa\",\"jiuandya\",\"hanji\",\"kps\",\"sathi\",\"sarover\",\"jaida\",\"labb\",\"vichode\",\"paoy\",\"shna\",\"asan\",\"naeasi\",\"bche\",\"atte\",\"gali\",\"pheria\",\"samjoo\",\"mamla\",\"garbar\",\"motiya\",\"soota\",\"mud\",\"satye\",\"biba\",\"rumal\",\"kaia\",\"insaf\",\"sweet\",\"janu\",\"srab\",\"tarha\",\"kadey\",\"furset\",\"pala\",\"tarey\",\"uchi\",\"faqir\",\"mail\",\"rubru\",\"kudrat\",\"nihalsaaf\",\"hoian\",\"nadianpanchhi\",\"waihde\",\"kalolan\",\"electronic\",\"rhythm\",\"sarbansdaniya\",\"edit\",\"behtr\",\"antra\",\"sikho\",\"leeha\",\"kothe\",\"dheh\",\"jinha\",\"kachiya\",\"rey\",\"neeha\",\"simran\",\"dittiya\",\"tarjeeha\",\"disuga\",\"gura\",\"chehra\",\"purane\",\"ganea\",\"shokeen\",\"pag\",\"army\",\"kehndi\",\"kareeda\",\"pakistani\",\"was\",\"heart\",\"hello\",\"etho\",\"theatre\",\"enjoy\",\"karee\",\"sargoda\",\"pakki\",\"saali\",\"swaad\",\"chahe\",\"haters\",\"jab\",\"masjid\",\"dete\",\"ham\",\"julm\",\"duja\",\"badnaam\",\"hum\",\"tana\",\"wadi\",\"hamla\",\"mgr\",\"waah\",\"dia\",\"bhaiyo\",\"bolli\",\"jaanda\",\"onu\",\"kjh\",\"jhde\",\"devi\",\"bhole\",\"darbar\",\"ikko\",\"mannan\",\"roop\",\"jihne\",\"daata\",\"lukeya\",\"sunda\",\"muslim\",\"mr\",\"jna\",\"gaal\",\"kaddi\",\"peer\",\"nakodar\",\"baabe\",\"fukra\",\"feel\",\"aunde\",\"anjaan\",\"shardhaalu\",\"jehna\",\"buses\",\"akali\",\"bibi\",\"charna\",\"bed\",\"howe\",\"shayd\",\"haram\",\"kanjra\",\"shiromini\",\"hay\",\"dan\",\"always\",\"jhooth\",\"sunea\",\"puta\",\"paresh\",\"rawal\",\"shivling\",\"hoeya\",\"alea\",\"insaaf\",\"tee\",\"karwa\",\"honda\",\"hei\",\"dio\",\"ghoosa\",\"ida\",\"aune\",\"dhi\",\"marji\",\"bohat\",\"dikha\",\"morning\",\"saf\",\"keu\",\"sona\",\"launde\",\"itna\",\"vo\",\"sedh\",\"unhe\",\"khus\",\"eni\",\"darz\",\"ehje\",\"chngi\",\"rss\",\"sangi\",\"esi\",\"tesi\",\"bolia\",\"kil\",\"sharma\",\"shad\",\"dekhea\",\"jagg\",\"johny\",\"marzi\",\"majja\",\"nele\",\"cmnt\",\"udo\",\"kog\",\"answer\",\"die\",\"interveiw\",\"nila\",\"hogi\",\"patarkaar\",\"msa\",\"rakhda\",\"khaya\",\"suno\",\"mryada\",\"tuo\",\"maryada\",\"gobind\",\"pase\",\"tibbe\",\"saman\",\"khnda\",\"gpi\",\"khande\",\"dakho\",\"dhakkan\",\"chuko\",\"eeh\",\"joni\",\"s\",\"khanda\",\"ladka\",\"krdaa\",\"ande\",\"jony\",\"chup\",\"bhenchoda\",\"pea\",\"boss\",\"ayo\",\"trend\",\"jonny\",\"kali\",\"goli\",\"prove\",\"chhad\",\"laun\",\"rondi\",\"raat\",\"darm\",\"maza\",\"bhoran\",\"chaz\",\"karla\",\"munh\",\"dadi\",\"lyo\",\"wadda\",\"amli\",\"ih\",\"iho\",\"promote\",\"bana\",\"ditte\",\"ehe\",\"kenda\",\"besharm\",\"harami\",\"current\",\"shada\",\"picha\",\"karuga\",\"rukh\",\"naggni\",\"kaim\",\"original\",\"rop\",\"pon\",\"deep\",\"yes\",\"babeya\",\"wad\",\"babaji\",\"neela\",\"hukum\",\"sant\",\"ganda\",\"gurbani\",\"aala\",\"mal\",\"sorry\",\"style\",\"chitar\",\"nasheya\",\"side\",\"effect\",\"jehne\",\"dekhe\",\"mitha\",\"neele\",\"ahh\",\"geyaa\",\"university\",\"kidi\",\"mn\",\"tamasha\",\"dekhan\",\"sukhe\",\"feeling\",\"use\",\"gia\",\"ci\",\"hukm\",\"war\",\"karamat\",\"babaa\",\"anu\",\"karle\",\"juti\",\"nahi\",\"puch\",\"jawab\",\"hat\",\"dakhan\",\"bnna\",\"jonni\",\"wekh\",\"hassa\",\"jannda\",\"saadh\",\"bach\",\"sukha\",\"bhang\",\"pake\",\"face\",\"afgaani\",\"kumar\",\"firda\",\"show\",\"green\",\"tea\",\"bni\",\"channel\",\"funny\",\"sampark\",\"mall\",\"balle\",\"sarsa\",\"babu\",\"comedy\",\"aunda\",\"choti\",\"kitab\",\"mind\",\"kamla\",\"gay\",\"pant\",\"akaal\",\"dere\",\"seemat\",\"hori\",\"dinda\",\"mazak\",\"mood\",\"tampu\",\"bhonki\",\"deyaa\",\"girl\",\"bade\",\"hasse\",\"jayada\",\"bhain\",\"marna\",\"keeta\",\"commenta\",\"najara\",\"bhrawa\",\"confidence\",\"noo\",\"dasda\",\"sirraa\",\"ruk\",\"babba\",\"edda\",\"babbe\",\"fatte\",\"nzare\",\"landu\",\"gpe\",\"jawaab\",\"keo\",\"laugh\",\"comedian\",\"dsea\",\"aga\",\"seana\",\"mehar\",\"shakal\",\"hairani\",\"hassi\",\"jaloos\",\"kada\",\"akla\",\"mara\",\"contact\",\"mobile\",\"paen\",\"patandar\",\"paase\",\"chle\",\"jandaa\",\"mra\",\"hasha\",\"peta\",\"a\",\"bda\",\"chawal\",\"lea\",\"rhnda\",\"denda\",\"lie\",\"mania\",\"lola\",\"rakheya\",\"rukwa\",\"fasla\",\"bja\",\"jda\",\"version\",\"ikala\",\"tarak\",\"aee\",\"asli\",\"chaki\",\"rubi\",\"jhonny\",\"sin\",\"kera\",\"jutiya\",\"acting\",\"pena\",\"simarnjot\",\"jado\",\"jutiyan\",\"scene\",\"kda\",\"kito\",\"peela\",\"ehne\",\"kende\",\"beh\",\"chaj\",\"dede\",\"pani\",\"betha\",\"chida\",\"aja\",\"tari\",\"haii\",\"sawal\",\"bewakoof\",\"bhaj\",\"kale\",\"vah\",\"vaala\",\"deean\",\"dhyaan\",\"sune\",\"has\",\"boldi\",\"ago\",\"ans\",\"dende\",\"hdd\",\"gadwai\",\"tarmadol\",\"khade\",\"alag\",\"vichari\",\"huni\",\"svalo\",\"honsla\",\"bikau\",\"juttiya\",\"sidh\",\"pursh\",\"dfa\",\"inu\",\"cartoon\",\"shakya\",\"over\",\"taramadol\",\"fuck\",\"cra\",\"mahurakh\",\"protect\",\"chalu\",\"ea\",\"pardhan\",\"aina\",\"bejti\",\"gyaa\",\"kahnda\",\"dumb\",\"really\",\"high\",\"behen\",\"udhar\",\"sidhe\",\"jwaab\",\"vishwaas\",\"kahuga\",\"jyaada\",\"hou\",\"bhej\",\"kihre\",\"tor\",\"pora\",\"boy\",\"mano\",\"dasega\",\"push\",\"vee\",\"juldi\",\"kahani\",\"maam\",\"ghrdeya\",\"chnge\",\"bacha\",\"ayi\",\"bache\",\"ran\",\"jehdi\",\"bale\",\"ti\",\"super\",\"vaar\",\"kla\",\"blessed\",\"bhago\",\"jaari\",\"jit\",\"uu\",\"message\",\"everyone\",\"respect\",\"life\",\"didi\",\"story\",\"strong\",\"bane\",\"asl\",\"tare\",\"krata\",\"paine\",\"proud\",\"bohot\",\"brave\",\"bnan\",\"motivation\",\"dilon\",\"gande\",\"hakk\",\"rho\",\"bahut\",\"gnda\",\"isdi\",\"aurat\",\"usto\",\"ht\",\"hats\",\"bakhse\",\"luck\",\"bhaine\",\"bhan\",\"gandu\",\"gund\",\"ur\",\"woman\",\"honsle\",\"hye\",\"menu\",\"bhave\",\"way\",\"haige\",\"savidhan\",\"batt\",\"thok\",\"hoea\",\"saamne\",\"bd\",\"kaur\",\"mehra\",\"rishtedaar\",\"behne\",\"khilaaf\",\"kamine\",\"jazbe\",\"layak\",\"aesi\",\"ght\",\"kurban\",\"dewe\",\"sakti\",\"vajah\",\"try\",\"siaani\",\"jigre\",\"samaj\",\"darna\",\"bharya\",\"lant\",\"khani\",\"boys\",\"girls\",\"past\",\"future\",\"farak\",\"uss\",\"bhull\",\"experience\",\"jae\",\"hag\",\"bhagat\",\"shaadi\",\"samaan\",\"haq\",\"gg\",\"put\",\"bhli\",\"adda\",\"throw\",\"karega\",\"satshriakaal\",\"ewe\",\"krk\",\"bahadur\",\"hosla\",\"jii\",\"kroo\",\"haramjaade\",\"bdi\",\"faad\",\"yaari\",\"kakh\",\"rwe\",\"dhokha\",\"supne\",\"handle\",\"amrit\",\"pan\",\"hatts\",\"chuk\",\"tahanu\",\"chahinda\",\"ese\",\"well\",\"done\",\"ang\",\"sang\",\"thdi\",\"shram\",\"rishta\",\"partner\",\"jass\",\"chana\",\"mom\",\"dalle\",\"uhde\",\"gllan\",\"safar\",\"khuda\",\"roi\",\"rona\",\"mashur\",\"sali\",\"send\",\"sode\",\"beas\",\"years\",\"osdi\",\"rekhi\",\"sda\",\"grate\",\"darn\",\"madhi\",\"lady\",\"stress\",\"koch\",\"belong\",\"kitaa\",\"aag\",\"ache\",\"karange\",\"kameene\",\"successful\",\"bee\",\"chota\",\"margeya\",\"year\",\"viah\",\"bacchi\",\"rakhey\",\"hota\",\"aisi\",\"ghatna\",\"aata\",\"tab\",\"ye\",\"dad\",\"diyo\",\"keve\",\"snd\",\"kyi\",\"soo\",\"chaundi\",\"abuse\",\"khilaf\",\"say\",\"yha\",\"dost\",\"rovo\",\"punishment\",\"deni\",\"chadi\",\"ikalle\",\"izzat\",\"jivo\",\"dusreya\",\"dont\",\"worry\",\"ghalt\",\"behan\",\"howa\",\"betiyan\",\"ameen\",\"ati\",\"bhaina\",\"josh\",\"kahan\",\"sunke\",\"khoon\",\"choda\",\"yahi\",\"yah\",\"ako\",\"balki\",\"chalta\",\"dindi\",\"jurat\",\"our\",\"society\",\"karay\",\"aia\",\"bachi\",\"ehve\",\"dve\",\"bnke\",\"dob\",\"bhali\",\"tun\",\"jigra\",\"hovega\",\"bhaut\",\"hamsha\",\"simranjeet\",\"marriage\",\"aavde\",\"paida\",\"system\",\"beautiful\",\"sall\",\"pury\",\"shd\",\"soda\",\"bala\",\"glat\",\"tara\",\"europe\",\"facebook\",\"page\",\"dhee\",\"situation\",\"bachian\",\"murder\",\"jaman\",\"simi\",\"chakk\",\"word\",\"gandi\",\"virginity\",\"barabar\",\"osnu\",\"vadea\",\"baksy\",\"thought\",\"jeon\",\"ki\",\"bhari\",\"hora\",\"hunn\",\"hak\",\"galaan\",\"bnaun\",\"pyari\",\"dhakka\",\"dsdo\",\"dkh\",\"darda\",\"trust\",\"dekhia\",\"putar\",\"said\",\"badhia\",\"thing\",\"want\",\"thinking\",\"lahanat\",\"nana\",\"age\",\"reho\",\"parshashan\",\"fail\",\"key\",\"yog\",\"galan\",\"mother\",\"unique\",\"soni\",\"jitt\",\"aise\",\"murkh\",\"sanjha\",\"jisnu\",\"ijjat\",\"bhri\",\"sutt\",\"saabit\",\"yakeen\",\"dsya\",\"duya\",\"ladie\",\"saanu\",\"baani\",\"diye\",\"bachiye\",\"tc\",\"ani\",\"svad\",\"eko\",\"jhe\",\"aha\",\"bniya\",\"firdiya\",\"taur\",\"wo\",\"sakh\",\"tuanu\",\"fb\",\"ron\",\"day\",\"jinne\",\"mul\",\"think\",\"jrur\",\"bhawe\",\"sau\",\"just\",\"bhuth\",\"kriye\",\"body\",\"language\",\"copy\",\"jeonde\",\"jabardast\",\"aulaad\",\"move\",\"hoge\",\"anmol\",\"ahlla\",\"tomhare\",\"vry\",\"passa\",\"ganga\",\"jall\",\"mna\",\"naseeb\",\"jini\",\"kariye\",\"jeen\",\"tahadi\",\"khra\",\"jameer\",\"afsra\",\"ihna\",\"gwaya\",\"khda\",\"mod\",\"saja\",\"dawayi\",\"vaad\",\"deta\",\"rakda\",\"radha\",\"swami\",\"never\",\"anything\",\"khane\",\"humare\",\"hme\",\"sadh\",\"far\",\"knowledge\",\"dangerous\",\"madat\",\"rssb\",\"bitha\",\"marli\",\"lta\",\"dyo\",\"tha\",\"sharm\",\"bhokda\",\"bhok\",\"aas\",\"hoti\",\"soami\",\"proof\",\"niva\",\"mat\",\"rakhni\",\"pakhand\",\"kdde\",\"trh\",\"toon\",\"bagwas\",\"marde\",\"inda\",\"rhim\",\"filma\",\"satsang\",\"bolan\",\"kamina\",\"khach\",\"aadhi\",\"radhasoami\",\"jea\",\"jayega\",\"baksh\",\"ponkde\",\"chutha\",\"marje\",\"dakhal\",\"jar\",\"solve\",\"panga\",\"pounda\",\"maut\",\"akh\",\"shak\",\"shrab\",\"inna\",\"burai\",\"aadat\",\"bhaav\",\"bdl\",\"daan\",\"bakhsho\",\"gurinder\",\"chukde\",\"haramio\",\"picture\",\"lawan\",\"haak\",\"dro\",\"salaye\",\"danga\",\"wakhra\",\"hanna\",\"hova\",\"dam\",\"st\",\"ferna\",\"manji\",\"rahim\",\"dangar\",\"bhonkde\",\"statements\",\"chore\",\"kat\",\"dunga\",\"dara\",\"bakvas\",\"sabe\",\"mout\",\"baldev\",\"hogiya\",\"keda\",\"jamma\",\"once\",\"kaka\",\"jeh\",\"bhonk\",\"kbja\",\"mamana\",\"jameen\",\"jnab\",\"hee\",\"panje\",\"braber\",\"thi\",\"shameful\",\"pane\",\"kardey\",\"pahad\",\"vali\",\"jamin\",\"makhu\",\"jal\",\"marta\",\"mafi\",\"dedo\",\"sukhmani\",\"tute\",\"eha\",\"subscribe\",\"jena\",\"maha\",\"moorkh\",\"auni\",\"svarag\",\"javage\",\"pauga\",\"sumat\",\"bkhshan\",\"innu\",\"gurmat\",\"virod\",\"sabnu\",\"bhog\",\"lake\",\"vartao\",\"neh\",\"shukar\",\"tuna\",\"avi\",\"jaoge\",\"saliyo\",\"chaheda\",\"sunde\",\"logic\",\"gyii\",\"pohchon\",\"arrest\",\"chanela\",\"bnai\",\"hoyi\",\"mata\",\"ghato\",\"jehda\",\"tain\",\"jihe\",\"char\",\"mahine\",\"chutiya\",\"haramde\",\"chlon\",\"ak\",\"net\",\"pack\",\"gaandu\",\"akay\",\"history\",\"hawa\",\"kalank\",\"singing\",\"mankirat\",\"behnchod\",\"aulakh\",\"kiok\",\"pori\",\"farda\",\"nva\",\"kattar\",\"tod\",\"aukaat\",\"byrd\",\"malton\",\"bnaunde\",\"khnde\",\"innocent\",\"dove\",\"ganeya\",\"paunda\",\"waar\",\"gaaneya\",\"dye\",\"dono\",\"jihde\",\"bnon\",\"ego\",\"gaala\",\"kadd\",\"fame\",\"leak\",\"gaand\",\"utto\",\"ghuse\",\"bnaya\",\"game\",\"ponde\",\"jne\",\"bb\",\"laa\",\"publicity\",\"jwa\",\"duji\",\"vdo\",\"upload\",\"teaser\",\"lon\",\"bolke\",\"dikh\",\"sunny\",\"also\",\"tempu\",\"akhaa\",\"kholo\",\"dooje\",\"khar\",\"takkar\",\"pishe\",\"avain\",\"mrda\",\"renda\",\"bomb\",\"byg\",\"bird\",\"rva\",\"aujle\",\"jandu\",\"kanwar\",\"canada\",\"brown\",\"latt\",\"sympathy\",\"londa\",\"straight\",\"forward\",\"kusse\",\"chat\",\"ghoose\",\"ignore\",\"waiting\",\"track\",\"vicky\",\"kahlon\",\"rhu\",\"chodo\",\"ladh\",\"jandey\",\"editing\",\"hatheyar\",\"hero\",\"brother\",\"nika\",\"guruya\",\"aaunde\",\"fad\",\"bnao\",\"jorde\",\"itihaas\",\"wela\",\"dekhlo\",\"coronavirus\",\"verka\",\"ehni\",\"ghatt\",\"paat\",\"verke\",\"sukhdev\",\"bne\",\"dei\",\"rehnda\",\"khaan\",\"badmaash\",\"plot\",\"jinde\",\"offer\",\"dite\",\"jabardasti\",\"kabja\",\"mrje\",\"karen\",\"yara\",\"keyon\",\"sama\",\"sago\",\"ikathe\",\"nirmal\",\"bhoot\",\"koj\",\"suchi\",\"cow\",\"mot\",\"kanjaro\",\"jassi\",\"chundi\",\"kanjari\",\"bachya\",\"theke\",\"firdi\",\"tae\",\"chado\",\"harpreet\",\"niklya\",\"vivad\",\"harnek\",\"neke\",\"jutya\",\"akhouti\",\"taksaal\",\"paani\",\"enni\",\"sgpc\",\"badlan\",\"bass\",\"doctora\",\"hospita\",\"bhara\",\"ulta\",\"doctors\",\"khand\",\"uska\",\"buchi\",\"saray\",\"humari\",\"tujhe\",\"jiss\",\"sunna\",\"lull\",\"jatta\",\"jattaa\",\"dhume\",\"jathedar\",\"jihda\",\"krai\",\"mauka\",\"rahandi\",\"kuu\",\"nle\",\"chadayi\",\"kadii\",\"skip\",\"lol\",\"elly\",\"rami\",\"ware\",\"sidha\",\"hale\",\"jide\",\"misunderstanding\",\"dur\",\"mure\",\"shuru\",\"bolleyo\",\"aandi\",\"daddy\",\"tube\",\"iko\",\"garry\",\"sandhu\",\"hoe\",\"py\",\"woh\",\"khabar\",\"dave\",\"galbat\",\"top\",\"jando\",\"jeonda\",\"kalan\",\"jehra\",\"kanda\",\"bhe\",\"jnaneya\",\"jinda\",\"uhh\",\"tabhi\",\"bondu\",\"banke\",\"aayi\",\"bhencho\",\"ghusu\",\"bhindranwala\",\"dasna\",\"aaya\",\"century\",\"dm\",\"asal\",\"medicine\",\"treatment\",\"burra\",\"sajish\",\"usda\",\"rahiye\",\"aone\",\"intubation\",\"ot\",\"operation\",\"record\",\"check\",\"hoa\",\"murti\",\"ds\",\"kehne\",\"poojde\",\"book\",\"star\",\"ay\",\"aawaz\",\"insult\",\"dalla\",\"esnu\",\"ker\",\"dadri\",\"kutarka\",\"haijo\",\"auna\",\"cpar\",\"pad\",\"stage\",\"science\",\"kamma\",\"kutarki\",\"student\",\"gyan\",\"rakhde\",\"singha\",\"gunda\",\"charcha\",\"avaara\",\"aine\",\"dogla\",\"paan\",\"saying\",\"jido\",\"kesa\",\"bhonkda\",\"harpal\",\"nasal\",\"ous\",\"jamen\",\"virodi\",\"bhukha\",\"hall\",\"jassie\",\"sachh\",\"country\",\"shud\",\"nii\",\"joo\",\"wd\",\"sachiya\",\"harkat\",\"mull\",\"kayi\",\"religion\",\"khudh\",\"peye\",\"mng\",\"bhukhya\",\"kaura\",\"kahnde\",\"byan\",\"bo\",\"laal\",\"challi\",\"tinka\",\"kheri\",\"keya\",\"dekha\",\"hude\",\"mahadev\",\"rehe\",\"besharmi\",\"bachna\",\"chakan\",\"nothing\",\"wrong\",\"poor\",\"ghaata\",\"chall\",\"raazi\",\"parties\",\"kehri\",\"dhadrian\",\"paaltu\",\"sawala\",\"sariyan\",\"kaih\",\"darde\",\"doshi\",\"akhir\",\"jaange\",\"katha\",\"jo\",\"shako\",\"keeti\",\"neend\",\"dhumme\",\"ekk\",\"bandia\",\"toka\",\"diwaan\",\"mooh\",\"german\",\"pesh\",\"gurbaani\",\"colour\",\"laan\",\"subedaar\",\"chamcha\",\"hondi\",\"jine\",\"first\",\"rule\",\"load\",\"know\",\"make\",\"dhoka\",\"ihne\",\"dushmani\",\"bndi\",\"niho\",\"khichi\",\"chll\",\"stunt\",\"gang\",\"halat\",\"kaa\",\"maarna\",\"isne\",\"siga\",\"shai\",\"sy\",\"wari\",\"rahy\",\"dakh\",\"kerda\",\"gonder\",\"natija\",\"kati\",\"suru\",\"ramdas\",\"aayio\",\"dokha\",\"jammen\",\"panchayat\",\"sirsa\",\"jadon\",\"hamare\",\"dusre\",\"raagi\",\"shamshan\",\"shaheeda\",\"kanth\",\"unha\",\"kul\",\"saria\",\"condition\",\"darr\",\"jga\",\"tyar\",\"chance\",\"yaadgaar\",\"dse\",\"blame\",\"sabut\",\"sbdi\",\"aajo\",\"act\",\"kum\",\"valya\",\"mrde\",\"ilaaj\",\"kit\",\"result\",\"father\",\"if\",\"treat\",\"why\",\"study\",\"hasti\",\"antim\",\"saza\",\"rakhta\",\"rip\",\"istamal\",\"maaran\",\"vitamin\",\"sabat\",\"chaunde\",\"golak\",\"bin\",\"vaje\",\"nri\",\"geh\",\"channels\",\"rakhwali\",\"ussi\",\"chalde\",\"fake\",\"hogeya\",\"javega\",\"jaanch\",\"dawai\",\"tarike\",\"galati\",\"parents\",\"dassi\",\"pilao\",\"jaega\",\"beadbi\",\"wi\",\"jesus\",\"kirtan\",\"dsn\",\"peyda\",\"eytu\",\"kady\",\"bary\",\"gdaar\",\"eyfer\",\"eyguru\",\"ensan\",\"ess\",\"hoeyak\",\"guman\",\"mehnga\",\"laifer\",\"ajji\",\"hari\",\"mandar\",\"emarta\",\"parmeshar\",\"dawar\",\"emart\",\"prakash\",\"matlabi\",\"ennia\",\"kama\",\"england\",\"harraam\",\"dhang\",\"saar\",\"hadd\",\"kahde\",\"hle\",\"baithi\",\"wahe\",\"sambaal\",\"civil\",\"kamm\",\"chuka\",\"kismat\",\"teeka\",\"darpok\",\"ult\",\"isnu\",\"bhenji\",\"nath\",\"pave\",\"dramebaaj\",\"sawaal\",\"dhaddri\",\"jroori\",\"khusra\",\"maafi\",\"mngde\",\"mint\",\"aaju\",\"aukaad\",\"bestie\",\"chaal\",\"kutta\",\"hwa\",\"dine\",\"aaundi\",\"aaunda\",\"laalo\",\"thane\",\"rada\",\"phate\",\"vasi\",\"khota\",\"lal\",\"padam\",\"shiri\",\"jia\",\"waise\",\"khad\",\"unlike\",\"lul\",\"counsellor\",\"tale\",\"dassa\",\"yll\",\"aaisa\",\"manta\",\"hu\",\"tino\",\"rahoge\",\"kalesh\",\"wahi\",\"jaise\",\"dale\",\"bakvaas\",\"nikli\",\"parivar\",\"agee\",\"gugu\",\"bhana\",\"doosra\",\"maskeen\",\"masala\",\"samajdar\",\"chalna\",\"hankar\",\"du\",\"thad\",\"personal\",\"matter\",\"chlda\",\"team\",\"wadia\",\"studio\",\"jaag\",\"upset\",\"vall\",\"doojea\",\"onli\",\"dash\",\"jehri\",\"erkha\",\"deha\",\"jaga\",\"kisne\",\"ditaa\",\"bnne\",\"baut\",\"liy\",\"unhi\",\"taki\",\"heera\",\"preciate\",\"trah\",\"gey\",\"dhadri\",\"gaiki\",\"chitta\",\"gava\",\"raheya\",\"dhen\",\"chenal\",\"najr\",\"golka\",\"wakh\",\"bndya\",\"hatha\",\"fuda\",\"hadsa\",\"chahi\",\"saude\",\"weheguru\",\"shabash\",\"gudi\",\"khalistan\",\"hogya\",\"kiniya\",\"krte\",\"singg\",\"pukhe\",\"kehta\",\"babbal\",\"babal\",\"toeh\",\"blood\",\"pump\",\"important\",\"kith\",\"kihna\",\"chakkar\",\"maarda\",\"janne\",\"yaarian\",\"hikk\",\"gasti\",\"brd\",\"accept\",\"shoot\",\"mahaul\",\"kehi\",\"dasi\",\"baja\",\"ser\",\"bnaye\",\"naal\",\"bnaao\",\"baby\",\"chlde\",\"both\",\"lets\",\"shrm\",\"jitho\",\"director\",\"bullshit\",\"dsde\",\"khenda\",\"awde\",\"sukhae\",\"dafa\",\"glaan\",\"nara\",\"rakhia\",\"darge\",\"lutt\",\"tuhi\",\"bhonke\",\"oe\",\"gandh\",\"marya\",\"banaya\",\"challen\",\"youtube\",\"fat\",\"khor\",\"dasta\",\"anaa\",\"surat\",\"set\",\"usi\",\"dubb\",\"hutiya\",\"bahana\",\"bnake\",\"ghante\",\"wang\",\"haramjade\",\"maraya\",\"ohh\",\"sii\",\"lwo\",\"vere\",\"lot\",\"personality\",\"bohemia\",\"jaata\",\"spain\",\"bandaa\",\"drug\",\"idhar\",\"reo\",\"shair\",\"nei\",\"kehni\",\"chona\",\"harman\",\"bhonkan\",\"at\",\"landi\",\"badla\",\"wango\",\"dand\",\"kidra\",\"bal\",\"cheema\",\"sidhuu\",\"jagha\",\"tehna\",\"bulaya\",\"zaroor\",\"listening\",\"ehnna\",\"niki\",\"anti\",\"chotti\",\"juu\",\"shmnee\",\"sidho\",\"king\",\"bhag\",\"mujhe\",\"bhosdi\",\"bolte\",\"huga\",\"pasisa\",\"pasa\",\"uno\",\"truth\",\"jeet\",\"pange\",\"hill\",\"galbaat\",\"derey\",\"saktey\",\"banana\",\"gaddi\",\"drama\",\"aati\",\"gurugobind\",\"dakha\",\"dah\",\"parchaar\",\"hairaan\",\"jroor\",\"personally\",\"mike\",\"asa\",\"dog\",\"takk\",\"kaddan\",\"vla\",\"syana\",\"kole\",\"pana\",\"gun\",\"derea\",\"bhn\",\"chod\",\"wow\",\"pike\",\"kardi\",\"feem\",\"barbadi\",\"wr\",\"bolti\",\"khuj\",\"horr\",\"philosophy\",\"vre\",\"hankari\",\"lachan\",\"lip\",\"hoy\",\"bhucho\",\"jore\",\"dai\",\"jva\",\"babay\",\"modern\",\"bndea\",\"tu\",\"tv\",\"janna\",\"saroop\",\"gandhi\",\"jaya\",\"prime\",\"trp\",\"ph\",\"joony\",\"friend\",\"balatkar\",\"jjob\",\"jhera\",\"gmai\",\"sada\",\"pde\",\"nature\",\"park\",\"dimere\",\"th\",\"jitha\",\"cheeja\",\"parvah\",\"zakham\",\"malam\",\"her\",\"that\",\"she\",\"feels\",\"mazloom\",\"darrdd\",\"bhulnae\",\"ohka\",\"ohdae\",\"llb\",\"semester\",\"clg\",\"shdd\",\"keoki\",\"khndi\",\"ajja\",\"badh\",\"borrhh\",\"role\",\"model\",\"generation\",\"talk\",\"aksar\",\"lawer\",\"dekhdi\",\"housla\",\"enne\",\"masla\",\"hnji\",\"sachio\",\"bcchi\",\"awy\",\"bnanna\",\"sehrni\",\"duke\",\"kuhsi\",\"dukhia\",\"maddad\",\"prem\",\"hakla\",\"peda\",\"jazbaat\",\"aaw\",\"bhoog\",\"congrats\",\"waji\",\"dos\",\"lekhan\",\"dekya\",\"ketaa\",\"fell\",\"hanndnt\",\"hojusute\",\"gutsrabb\",\"rakhay\",\"saalaa\",\"waheguruji\",\"jiojio\",\"sahara\",\"bitya\",\"sangarsh\",\"rakheo\",\"charde\",\"noki\",\"trutti\",\"beqadran\",\"bhla\",\"lar\",\"nerion\",\"chutta\",\"guzri\",\"edan\",\"childhood\",\"manya\",\"dhhee\",\"bettisunh\",\"complaints\",\"bhoat\",\"hua\",\"ghatyia\",\"sth\",\"slam\",\"harna\",\"kabi\",\"inspired\",\"worried\",\"vse\",\"kharku\",\"jeondy\",\"basdi\",\"tarif\",\"bekdra\",\"jante\",\"gurjant\",\"suraj\",\"chakki\",\"dekheya\",\"jau\",\"banni\",\"wadd\",\"peenda\",\"santokh\",\"sonam\",\"bajwa\",\"okaat\",\"hijre\",\"nojawan\",\"chukki\",\"vech\",\"zaroorat\",\"buthi\",\"self\",\"nashedi\",\"badia\",\"puthi\",\"beathe\",\"sooraj\",\"bati\",\"avdi\",\"kalgiya\",\"ieh\",\"huge\",\"honn\",\"olaad\",\"slya\",\"udu\",\"kharuku\",\"bndiya\",\"saah\",\"sardar\",\"mayi\",\"kirdaar\",\"bondua\",\"kalla\",\"unfollow\",\"id\",\"gurjanta\",\"drame\",\"bezati\",\"gaun\",\"gadha\",\"kartootan\",\"saaliya\",\"hatyara\",\"gaunda\",\"ullta\",\"baijti\",\"sarm\",\"win\",\"jathe\",\"haje\",\"doggy\",\"paaye\",\"mel\",\"hune\",\"saheli\",\"sallaa\",\"fire\",\"hanju\",\"karma\",\"maava\",\"channi\",\"nattan\",\"showoff\",\"khadku\",\"janam\",\"jihri\",\"nanu\",\"parnaam\",\"kalle\",\"gaddar\",\"voice\",\"sipahi\",\"kii\",\"sunni\",\"chale\",\"sutti\",\"jagauni\",\"laike\",\"out\",\"akhan\",\"kalm\",\"akha\",\"ruh\",\"bakhshan\",\"sary\",\"langda\",\"hitt\",\"after\",\"shoq\",\"bnaayi\",\"mane\",\"bhagwant\",\"bjp\",\"fate\",\"astifa\",\"doge\",\"jattan\",\"mp\",\"poem\",\"aalyo\",\"shame\",\"shrabi\",\"dibang\",\"bolne\",\"odha\",\"viro\",\"darru\",\"dekhiya\",\"vare\",\"shoni\",\"tameez\",\"taya\",\"tutak\",\"enane\",\"liberal\",\"cheeza\",\"chalao\",\"khulan\",\"yaraa\",\"ctn\",\"rakhti\",\"pareshani\",\"simple\",\"moment\",\"head\",\"cover\",\"gurpurab\",\"awesome\",\"killer\",\"akkad\",\"bhrawo\",\"behno\",\"singge\",\"baichara\",\"aww\",\"andaaz\",\"desi\",\"attitude\",\"akad\",\"cool\",\"bhenjodaa\",\"su\",\"chajj\",\"poti\",\"bengan\",\"chutia\",\"host\",\"imran\",\"editor\",\"pakora\",\"pne\",\"background\",\"buzzers\",\"telling\",\"artist\",\"chukkan\",\"foreigner\",\"guy\",\"maare\",\"sense\",\"rhya\",\"effects\",\"tahira\",\"babar\",\"honey\",\"guest\",\"fresh\",\"honest\",\"awaajan\",\"ehnaa\",\"yeii\",\"lyrics\",\"bki\",\"faan\",\"wis\",\"arrogant\",\"saalya\",\"aondi\",\"jutti\",\"wle\",\"dua\",\"barbaad\",\"jye\",\"lindi\",\"lucky\",\"khoti\",\"ghusa\",\"khasam\",\"basti\",\"pehlwan\",\"stuff\",\"amplifier\",\"fitte\",\"ure\",\"brain\",\"kake\",\"dubara\",\"bnonde\",\"bolta\",\"avaj\",\"gangster\",\"dilpreet\",\"goliya\",\"dkha\",\"mone\",\"parmish\",\"jaake\",\"parmesh\",\"fade\",\"kattarta\",\"spna\",\"kerna\",\"smile\",\"pistal\",\"singaa\",\"asla\",\"episode\",\"border\",\"jaugi\",\"singhe\",\"badmashi\",\"anni\",\"mahilpur\",\"hni\",\"romantic\",\"karaa\",\"velly\",\"pubg\",\"aona\",\"jago\",\"rajputa\",\"dikki\",\"nave\",\"hik\",\"gundagardi\",\"danda\",\"shlaaru\",\"pablo\",\"anne\",\"dabban\",\"kdey\",\"kliya\",\"galtfemi\",\"raaz\",\"toll\",\"plaza\",\"soorma\",\"diggi\",\"size\",\"khen\",\"bagan\",\"pau\",\"dkhaa\",\"illuminati\",\"marke\",\"najaayej\",\"else\",\"car\",\"jiha\",\"gaint\",\"jaea\",\"clip\",\"chwla\",\"jawak\",\"tin\",\"swag\",\"pande\",\"script\",\"these\",\"brothers\",\"idiots\",\"hajoor\",\"theives\",\"aaja\",\"would\",\"knows\",\"better\",\"chaddo\",\"old\",\"tabbar\",\"slami\",\"till\",\"hpen\",\"young\",\"definitely\",\"wash\",\"kisina\",\"karja\",\"kami\",\"sakan\",\"lwange\",\"loan\",\"admission\",\"khyaal\",\"halle\",\"minister\",\"lidra\",\"fase\",\"pm\",\"dna\",\"ress\",\"tye\",\"kaar\",\"seen\",\"wife\",\"tars\",\"aounda\",\"rulde\",\"andro\",\"kahdi\",\"krre\",\"lawrence\",\"bishnoi\",\"suthri\",\"kids\",\"hurt\",\"yaadwinder\",\"jaggu\",\"encounter\",\"chora\",\"patta\",\"chori\",\"sayo\",\"bechari\",\"honni\",\"jwani\",\"gangastar\",\"najaij\",\"khatir\",\"nishana\",\"bnandi\",\"paina\",\"khuban\",\"jagu\",\"jarr\",\"aasi\",\"gardi\",\"complete\",\"then\",\"tue\",\"chon\",\"darad\",\"shena\",\"bakse\",\"save\",\"jabab\",\"parts\",\"prince\",\"rye\",\"vdeo\",\"doven\",\"dovan\",\"janty\",\"yehi\",\"forgiveness\",\"gnd\",\"ainu\",\"bhoos\",\"soun\",\"ohte\",\"own\",\"asked\",\"worse\",\"facilities\",\"money\",\"responsibilty\",\"uniform\",\"program\",\"valea\",\"rocky\",\"issue\",\"recording\",\"pakka\",\"kiddan\",\"privaar\",\"flight\",\"dramebaj\",\"wadhiya\",\"anusar\",\"giyan\",\"amritdhari\",\"panj\",\"piyarea\",\"daat\",\"patsha\",\"vadyia\",\"sikhism\",\"gurudwarea\",\"vaddiya\",\"duniyaa\",\"karnge\",\"verkas\",\"rahega\",\"krnge\",\"bujh\",\"deh\",\"sareer\",\"saaray\",\"gunday\",\"gadaars\",\"zeadaa\",\"musalmaana\",\"dilan\",\"diyoo\",\"nivas\",\"roda\",\"attack\",\"sabar\",\"theories\",\"kdon\",\"recoding\",\"privar\",\"kareyo\",\"parvar\",\"priwar\",\"manan\",\"infection\",\"homeopathic\",\"kirtaniye\",\"harr\",\"lekha\",\"bithon\",\"lohe\",\"peena\",\"dawa\",\"ohdon\",\"ehhi\",\"khendi\",\"pedda\",\"pathhar\",\"caste\",\"christian\",\"sunoh\",\"bharam\",\"jiker\",\"daoo\",\"chupke\",\"besharam\",\"thekedar\",\"kiyu\",\"pesse\",\"kalankat\",\"verky\",\"kainda\",\"possitive\",\"swerg\",\"lutta\"],\"x\":{\"__ndarray__\":\"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\",\"dtype\":\"float32\",\"shape\":[4496]},\"y\":{\"__ndarray__\":\"qmQnwgLxLcK6BDnCUI4fwqkL2cFCmjzCxkllwfBULMI+O41Bwp8uwq1FIkHKqA7BcTQ1QdpPv8Gi8YpBZOdzQdB/U0I+Bey/163MweKbu8HUuxvCKdyMPxJbtcBQH3ZBU9Ywwji06sHuRHFB+Rh2QCaF7MGuLEBA9kIrwsNmNsJuVQHBNMIHwileo0G+Z0jBLE1KwRtd7sEr6L5BIXyuwFJ1hEGiM13C0O02wl5c/cH8wfvBcRZswcTsYMFxPWDBH0QfwgFsj8Fk5y5BOVKTP/rwJ0H1ByDCQbZAwijKOcF0h+XBVv08QWF9J8LT2q3B8fYhQPxOM8I757HBcXMrwnya0cGNYujBbJunQd5+REI60WhCoUsYwsIqWb9DKG7AvUEowZZ2sMHUwaHBrls+QLOieEIHXw3BXuuVQbsJlkFvNT5BeHVTwkxRE8IEZHNBt8rHwK5snUEPcj/CdriYv76IHMJH3zTCPRqBwdQxTEGDS+zB+US0wdNXN8LsUAPBxKzGwfiICkFkKs1AA5EXwlJOr8AgShNCmqoFwtb/2MHBRiPCvqD2QbmW/8CG/ie/BHgQwl66F8K7XClBjGQKwgzqAkLRq2BC8x0QwsWdnEF00TbCtI4owek8nMFee7rBieEQQe6mNcJqIAvBxfAAwi6kZELrqIDB6awdQUznw8CB79nBoVaDwFXrGkFLJxvC5y0swnWhfL9lWDTCs241wnV9vEDfCR9BXyYywgHrgMEHbYpAIfjcQD4AlkHDODxCaaqUweEnGcIeRF5B7qMBwlGxEsFZi4PBzit5QRMgS8JVIh3CzqiuwfVimcHxvEbBoSE3wpCoLMIGZn/BbP9nQqgp3cFcgQ/Cig8TwujLJ8KESXrAHLiDwSnhYcLTthfBmcBjQoLVhr9gMxLBDAsoQmEyzz65lQfC5LcrQo9zQEGUK7/B3/WvQQI2Uj+XP11CK8oHwglRj8F7TX4/3nEHwieyIsHN6N3BV8qbwIcoskGJppHB6vc3waJq6MA8SUjCI+NXwX/VOMJxRHpBlwtQQfiDAcDtWxBCb8CxwZ35FEHjszTCsrW9wVMn1sHZp6TBOAccwqvrU0Ftl9o/7HviwDvfvcGvoV/BFtPwQCIUBkFq+ILBjyurQXlTjcEK0JLB6WsXQuCocEFTfZjAGbwHQkZpokAKpjbCj00KwVfLsEFTRN/BV/vewVudXsBwIglBJwH9wb3QakIgW77B8/O4wfFhSsDhbh7Czjt1wV8cGMK47IY/wZX7wNvJycFRRzPCR04FwHoE2UCroXVCwbmPwLGlDMFvg57AiEqNQa2aA0FSNXRCIL8zwnGQC8IhYIbBfQLHQIv2W0I9cKxAt5howX52CsGlcm9CugpGwiBcDcK3vqbB9tcywtKGMsEezjpBHbl3QuYCAEDEuCdCggsSwnElE8IEhxxAw60MwU+8A8I8SZjA0tc0wRSh9cEMJx/Bmhe+wMDB8MBuP03BB/UswSLIHsGGdS7Am12HwfnXTcHz9OXB5yP/wRydncFLrSjCWHWrwdEBKEJoIwjCaRR0QlrzJEF61EJClc7AQTbv6z9/fatBbG1gwckgtsEw1yHCk3jOwVoFj8EqF+jB8sSGwWrBr0HMBk5BFIYlQarXD8LMu7HB/m/Kwd+gakDZITXBcn0TwpybssHsnxRBqkebwTWtbkBcGDBCY0/rwXcqm8EKdwzBjZEkwc8QrUGMk1FBsHvbwWop+sHv26pBWupZwYdStMDSb0vBy2ckwp49IMLfhXJCapaJwbvtF8HUYOHAJoOtv0YPPMG0pWbB8hPUwb0eKME2N8/B7OyOQRc24EAZd8/AZkdzQjfDm0HIzd7BorXnwEKjz8FomRPCV6sDwtyswUGM+DbB1ygjwgkz28HnqPfBhcwmQSckPsJ95iDA8LInQbJTNMJQmK/BJsUOwWNyQUEYHA/CLxACwqMKosEQ6Py+oV5AQZePPUJdCIvAm+0FwpiPFEIoShTCTM3Fwciq2MGqdglC5F2vwX3TPMIjmyHAbOowQuly3cGJITPCo0I5wWKqgkJuWjTCJGLzwN2FZEKEEO7AD8cHws+Nk8EIg99BS7FZQlOVfcH1dBjBeGelQfa9MMJkJfbBHl6BwVLpbsGOmwDCxFK1wTsh8MF6c8bBdSMFwXnCuj99Z9lAlpkkwUWC6kEM6vvA/F+NwVy2AUKpVFvC8HOUwQCwU8LltEDAWB4DQqn+IELYsAzCOHDhwRWvM8GuGgLCYETAwR+wAsLEvUdCIXq/QUjtmUA81CJB1D9BwosZEkKoHvTBYNh8QBWsCsKKfgbC2j+Twd/HKMERN3rB/GMbwN+VdELFxUfBcG19QrL700EtQn/ATnLBwbvVA8LIC6fB2vu3QC3eKEL84GHCGbi1wTKJSkIZ3S/C2g0Hwv+3xsE6xlVCXcE0wYB2LsERdXbAZf7KwRXBYb/Yp/TBMYBcwO5IF0GQy6xBlWFnQVbvt0D+yYJByioIQdqWRMIuKXTANLgswYXZi8GID51BDssQQDtjW8JICkxCvG+JwTqI3MGIiIpBWl8Hwqjir8GtCCVCCuIvwnZRIUHEkgvBojfvQADSrcFni5nBcRkGwo3qq8EBzslAzrcAwaUey8GpLzjC+qswQQLZMEJr1XdBluCzQW/9hsF0HyvCwbxxQUIfgEF/uL5ByYKvwblQcMHWjKPB8J5DQQUJOMEhYk5BzDA/QmDAyUEjHi1BGt42wTrrykGl+BtCVh0Fwg3hykCtGy7ADOFLwRyAlkBhUeJB4zicQdfszsHtjVbBxGFrwL6ffEDIDFXBasS5wCDulUF1BZZBiNEMQLKpBEDEGCdBSld4QeOHJ0Io6QRASS3Zv1BiH8F1QKW+LuIyQaUVhcGnbnBAoginwFgHYMFBXP3AsBKEwVhN7sGmGUpBcrgQQJWTVr8+nhZBi/MgQTnLTMJjCX7Bzlk+Qu2aTT+TD0TCjrtcQNgjk8D7ZS/BEH9ZQqlCJkFoxBJCjf4cwX4+wMGXOxpCb7c0wT/hLMLC0UlBCMEywj9bWUL6zjTCxLvQQBC9pME1v4PBBhkUwi4sgsE3f2xADC24wHymSML/KE/CPeLMwVowtMFnvMPAEbEBwiLbgsGEKCzCJ6jRQUlpbMAwEdzB7Ol0wa25HEGjSNPBSbOpQeVRm8BflcXBNW9CQg/eVcJKDRnBeomnwIuBNMGSpjRBMM0VwnmJBcGLJEpAKTkBPbWLUELXcEzAPGCDQHNhSsETwAFAhIY/QnbfnkCFo6jB/vPTwUAnJsJKOyPC4GKzPx7/wsH+4kpCLh4bwibQE0I02chB/vdMwnYbLELQT/rBkYUywCTDRUHyORHC7WBvQvQ9GcIemi5C8aGowGxZLkDgR6G+wnUvQJiFgcFidFzBt8dfQtAHTML8FgfC4XfUwVyumsFHvTbC9DWYQHhKSEJRW9JBcoxowiWXpMEj+wxBCcwqQqDtacDTvfZBFLLyQfM6hUF9YjfCJAIbQjdbEkEaqWjBteB9wetDfcDUq+hBGJEmQsBCxMFh82DBVMBAwUUrXML3IZjAnPUywtf/3sEYlDtAyEhSwVIQn0HAQszBDzYUQnNbgD8An0VCJb5uQhY6PUFzNyvCnqTOwBGY0MGkPCpCIQJhQk2gGcJmEOHBjvCGQTvNRUC0EfrAwM+UwXmil0H+tvPB7nESwsw1a0IGPo3A2S7NwUI/Z8E0ScTBo8+gwKIFI8EawBFBV9sUQb6BYkEHj6VA03QPwkARLsKWXWjBB5FlQqr/icFxGKfBpGCLwSQfEMEwuX/BHWljwK3lN0JV1KvA/JhSwmi2kkDzUHFC+XlDQQeG40GPp0xCp1OqwbmXIMGSEV/CG3O+wFAYBMGkSCfCDIfawQkpQMKLp6LBJrlTwlz2tEGoQ3VCMqjVwTMLscEWiTDCJIAKwqZtPMJGzaZB2syFQagXysCbEQZBDAacQS2XD8DClXXBlzqfQIlBO0JALYDACLDCwP1UREHLVwFB9BkyQoJgtUElKG5BDjxuQVw04EEi4snBYwKoQWG+b0EqwJlB3MY2wu1KnMEeaj1BDHlhwRdlz0Gew49BaQv5QY6qdEI2q0DBpCpBwQvEdEKl9EDBkLoyQDQzgEDcjAhCfnRsQlzPUkIeCRDCh+UZQfnLJUL9asJB7vm0wNLGEcCxKFPCE/I4wky9J8EafUzCf0s7wt2PzsHKM5jAOsp3wb/eIEHO+ghB2MJlwQiaC8JAwiRCYreUwe1WlkEeoMXBM6a0wDAMskHgktxASNrKwAMbZEFamXtCBnYzQuWUSkHW477BnypAQv5ubMFfyj7CuZw6wtOzkMGzLhfC7VoVwasMJUFrv2ZBxofBwZtos0FvBjHCS8LvQZF+oMD0qdDBrAZyQff8FkGiMzhCvUIMwgJ/R0L/vqjA/yYFQVIoysE7dQVBewYKwqYFC8JvGxnB8cLuQS/bTkLZDYFB8PKWQYjoa0L/Zp7BJl3YwV+pUMEl8EVCL1UiQmJ4CULXPo9BSW4YweCb60Gt9MbBgdB7QkSYr8FCbd7AYu/nwZYUAkEJEv/ByZlQwR90oEBpJwbCTtqIwdYDNEGDLw1A4zGRQZb8ikGW8C5CKTsrwHUjlMA/YTY/LHzVwW8tYUKTGK8/a7lpQiCmE8HcHsHB9xtXQZ/uUEDv1FrCuwInwoqAnsEdmr4/jdbrQYhQ7MGQh6vBn1/CwXwcqUEQEGfBDLjNwbsK4MFjQT5CEsaZQaJlQ0JMB1xCFi3QQUAGyMFIyALCYAUAwKnta8JV81TCuHKKwR3wJUKRrl/AsarPQNbD7cBXR8o/LaHNwQPlA8LMUShCg05fQgPqE8LkGy3Bkf4KQs1hZUAZjj7BrFYrwVKUycCovj9B+E50Qi1wqUHBHl/Bv9FfQmfRP0FJYI/BcA2DwKcAP0Ee1jXCfBPYwWWXDMIIQRDCohN0QJKEncDWWr8+J19MwierFMJ1Ug/C9DcbwtJ+dEIlng/BfW7NwWLSs0BYVi1BwgOqQTXqhcEfzBVCi5o5wb0XEcJNxCVCp4fDv3buxUHaDcHBC8hvwPhIIsKQciZBKY3MQZ0W/ECKgSjB02lyQWCe7MH+aq9Bhj1+wGUw6kEpii5CJdDhwQfbVUK0XIHBgCZxQTn0PEL+h+zBctsdQdlqCULOj0jCbZN2QRNC/8H7dDfCmeaMQLvmf8FGwczBq1qVwb08N8JrajRCFo9YQvYsyUBeL47BfNmCwUZuNEGBqPzBhz9ewTev2EGrcl5CdQ6SwPvFxMC0lJFABuF5Qk/zT0IyaRDCpFIjwssHSsFHtqRBejZXQWd0aELgICvCq0daQnPVfUIqlAZBMvlFwmM3MEIbNVLAdwflwTsKXEKr3tFB6UWHwfWbMkIWistBDe5vQk17HcGjvB/CKEwuQTB7QkHwql5CL/LVwe79Q8HD9QjAvzWKwLzQ2UFdF2FCGZ0awTfn4MGSvRhBRQPowPpVw0BLLS9BYJOJQBihOEErty5CIVtoQqlasEH2Z2dC6zcowA+Vk0Hppi1CWWeVQd5nCEGWPY1AzdqsQWO1W0Jj+gZCNcpWwRj8DsKCHZlBvgVRQkNziMG5NffBwKKuQY8fG0E0NSrClmO7wW3H88BM1C9C2PXbwXk8PkKgzIPBGXVjwncgmsHH1BjC89AbwqSxMkKtyKPBn9GeQeucK0EXVB1ByU1HwdcLFkExCXvBoOltQZ+geELaYvI/2R66v9pgYEDXC4/Btf1wQjzQ7UHC1kZBldRuQmTzbMEWT91BXmhdQk/J4sGqRVpCi067wUNX60AkWwTCRGtmQNCS98EcigfCYvqowRAdk0GLlGxBY+eTQR0jGMEA4HHBbD5MQhrF78GoBcPBB+sIwo+SNkLaeAvCPXlkQl6OvkDT9AHCxKYIwvWXmcC0tkzCEg60wQVASEIZYAvCHdhUQuA2j8Ht2ZfBBJk8Qt2gDMI+D+VBNBrBQbW5SkIjy4nBPDOvwbrQKEB8Tk3BgfBBws3pvkHmGxFCBsZ5wVs1+0G10itC9+G9QR+N68EseChCA+hcQlz0c0IjyO5B6Fn9QeFydEKKY3xCZbUXwo9kikHtDFhBG8A3wvJ4pcH9ug7CsVtHQiJbCcCR71jCFmTVwQXJacGJK3BBuY9dQna7s8DHqUxCSVyhQEJtJULSYIzBZUGGQDo0RMIiWHRC2zZ3QmfK5MHhrP7B/EHTwXhcMMLj8BA/dsVswfMtdb8DgO9AnqOMPlH9s8FxeUPBbdrXwXkLM0JELltCbRZLwiEyE8Jms7tBem0RPpcEOEEeyiZCdGFPwQh/j0Gn7AnCr/aJwYYTkr+pXKPBC/a3wQtMU8JiY5TBmfLSwb1nL0LBn1JAmN2+wU1lxUG0F1vBR+oWQvIDLkKNk0fBgI0SQp7+gEGzOS7AeFIewbATJUGHpDnCGhUrvzURlMHbvntCU0YrQljTbkIQxQzCqW4zwmJkPsErOiHCd+AvQiduvEFxs51BAKS8wcZFIcLSFx3BzsLHwGhZw0E2m0rCTy9cQjGXDcIGlh0/v4eWQEQTTUJdaOjB35feQXGk4UDyVajBTlsXwrB+J0I1O1xBKtf8QfxkXUJcbRFBuFsnQYDe3sGhqeFBoJfEwYvYA0FlogbCzwFEwtLci0EGVcy/tRxNwR/nQUE0VThBYydDwlw3OMFWeu1ANJp3QrLw3EEEUu5BCQOTwaFtwUBYV6PBsMEcQlAiQsEeKmZCQLBuQmImbUKIXt7BRzeswBrLjcHrVI7Bg8R/wUKdNEKA3iRCvzDbQUZKNkLLDYtBpXz5wVa5v0GMn05CFcFWQlD8MkKY2lzCO4ViQpBQWkLPe99Bvp8vQosacEILRQHCuTYiwiC9XUE5X1VCRvnBP1lHDkDfSx/AhHdKQQdr3sF7EAXCHAdfQbX+4cEYRldC9/ggwampAEFA+kHBbieqQc9S6MFdid3AR6WMwd7/XcG9CyHCsKeQP2fdusDPfeVAXHlKwT66GUIkrzhBsCsTwbqDWUKtoHZCF91RQIDgM8Ee7FlCK46BQC3rUcA8e9rA+7nAweuEAMH28VlCqM/4wajFMkI4H1BC1pJOwsha7EH64SRC+QrZQcYNScHmkGJCfGtAwtLKFMLOT2DC69hfQn9pZkKpow7C/h0EQkKtf0KicfxB6+JewQ1RJcB/yQNAeQ+Mv/ZCPcLRjtG+bNIawol2SUKe2hvCkUUtwXb2MUBTVnbBiCoCwaUfFUEWpQnC4iQiQYbNnMB6IkZCQCALwq1VocFNAjtCaDOkQWOVFsBga37A6s/HQQdLw0FVSdXB9xVqwGZ7JkL2bcXB0gh9QREXZUEf8q3BecFEQs192sFLuZdBsY0zQhwdLUJEIlpCaiZzwb2Ns8FYw3pB9ucVQVKjgcGMNWxBk20zQlURI0HiE5BAtiSXQQbWEsEiBhrBFjuywKTed0GIu+s+MGMNwrCN1sF6WBDCt3sJwoPDNTxc4W9CCwMBwHfjcULDd2pCCDEFwEfRRMECNGtBfeWkwKnaHEI/BdTBSwJsQjIce0KbOoTBpzAkwrDZzkHmjU7CTCVwQrNPAsLtxvdBe0fbv+4JN0KJtAtCWPNXQuxDGMHIrppBS8OSP+gxs8GXG13BMbqdQSGvAsK8kyXCKR2NwVyqG8JW7OPB4HeQwYl+u8FGAaVBzV9VwnRs9cE0JE1CGxdPQjr9OEKJ9lLBFR8SwgLXKsHKkLJAPBg3Qf/6V8LzbhjCeTrSwcdnbEBfwetBhvcEQuwU5sDqpiVCJdajQZYxEkGZxSxB4tA5wp7fCcKKO3JCc81MQGDsZEKAHDjCH1w/QhcC0MCp03zB5tzgwWASTMKAcFJAkcMJwVa+e0LuC8vBxhfJwe+gvEEpNO7BEZjDwQleK8LS0t3Bqx8cwjD+PEK5J7lAvq7YQbukNkLCOJBBj/r6wbr0IcLDoT1CyHvbwDc4TsKIr7pBcqFzQvw/ucFlKyxC5m4fwo6LBcLnPGPCzHOdwScqa0I4GIjBu53Nv0j4ocFosw7CZj4pQaECfULibBFANYkKwlAhjEA4kzdCIAIewf9eUsIdyFrBBF9TwoCTGcIbNmJC2atswaP1EUEbqJa/P9q1wB2p58AYReRBMujMwcRKBkLCABdCFxsdwVqcaMLc77/AroN8Qmi9Z7+zyv1BhHJrPWEuwUE69uxA41TlQHHvAMJ1lIpBv1hgQvIO18HbJNPBfJx6QbqHkkBboC7Ct1mswYHCGz9K7IvBB9NoQhQ5BkLQyADCj66PwTNMxUBfxErCQOcrwal+t0GOssHBxrHzwfSa08Fqw8zBGcKqwCuhdEKhMJfAOtspQt2CV8JYY+lBSMFrQpQLDcLdKS29bUhNQdctXsJx6c7BEei7wST7ysGmFN9BbARoQFWDs8Gwc0XC2sycQCCxOsLy+yFCtxnPP3e9bME6jybB+vo5Qu5gK8FPdgBCXbtkwkwqb8GAIhnCN2adQY4LPMI3wmFAAQZhQAJxl0H2Sv/BJ8/5QdGqm8FUY0dCoGsXQuZaXMIhi1BCKHAavxUKY8J//5HBVx0sQVrGLkEYgznBl+tawJzJZEElu0dCqmIaQh2J0UGcdOzBecLZQU4GZsHqixNCk45zwCMwEELSwCbCKaA5wGMlJkFl5cTBD59Mv4ZzksGxVVJBP73mvs8LfcDyK+ZBtV4ewI+NlMDzJzJBfwcKwr9efcFwYEhCKYWvwEajPsJeBMfAtxdtQBAlw0GKrdBB6rlewsw4CkJdcQ/CGJFFQtPCXEJPIzZB72YUwkzGI0KsIK7AuJSLwWanA8Bng5vBXm+5wWuk+z82DVRBoZYEQRDxQUEkroXAqpMrQW3VV0KV8VFCNStJQqTGWUL+hsdB47KvQTqpBELdDVNC3m4XQfLbUEJSJZ9B0dTzwfxBB0EC1D3C1IgnwiJ/+MGY0Y3BH7+NwbUlE8Lf2ElCBiIJQawWOEHqihNCgYcMQjTLD0JIWlBCq09SQnPWBkGborxBf7bzQXzGsEELvxlC1W2KQS5MC0JNHWBBOYQFQh4N+UEWTABCQxdSQsmT1kFCeVNC5b9LQl0qO0EI503AbFMZQT6tfcEBqE1CxnxNQsVPoUHCD5dAwjb7QRStrMAMqyxCbn0sQphfp0HCewFC2nU7QltCMkKJMtJB3m4EQt8/Q0KRZG9CUDX5wdvTSkEfmjxB8DaKQZV0LcJn8RnCThIJwJI2/EEANAFCPi/NQEIrzsFZU1JCVeS9wS2mNkKAAvdBHaThQUJxaMFYiPBBeROawIZNR8BADG5BNc0eQYNbCMC27FA/jLHbQMV17UGU+W9CMBUAQu2O/8Fqh2pCnveXwS2/JcIE2VVCvDegwWzghsGKX1XASMdIwqH24cGGGGZCw/YlQiFAsMGULJDBU81Pv1uHscFR7BbCX2cdwrN7g8Et1M/Bbn0kwXnTMcKvE6dBz0YLwnNFysGi6jlCkuGoQOFz90FSpvhAmMbewd89aEJr32VCmimjwYK3lUHzZMlB+sc5Qvlu0EH5MzhC4lxbQgEza0JeSWLASzdNQoV20kHOTebBk27NwCOJBT91Mx7ClAQbwVPI18DH9J5BpGDUQdB42EDU+e1BR1ZgQp+/DULAMaJBArvNQUWngkG6jmNCheD2QX3bLEKImCXCdIYIwKcCH0IiFQfCK3nsQZoGSUJIoIfBhzV1Qbj6aULEtgPCp+tQweP4kj9Td25C0C+rwP3gysHRghhCV3Q4woVtdMFcoABBH6XFQe9lgkF15YZB3BouQgMuLkIOGEtC5j+kQRFd8sG63B5BQMTwv2m/rkEQgE9BZksgQWN0HULI7+BBEL72QFT1cEJbnTjAnjLgQNTFm0H1QgZAvCmSwZ3AksFAWk/CgWNFwct8BEIT4pnBokb5Qc3m90HamgBCswc5QqKI00GHLj9CHyWQQeePH0IISItAOxvlwdvCVUKNwIHAbIwYwouETkJARG9CPiYfwq6/iMGa6OXBiySOQZfHd0GpmhXBHMgJwhXLdsD9tSHBW1lfQZyGLcKckwTAZKQFQfRTkkHHaCnCaM0FwuTcukHiSDBCfsIpQtCQrUEqBghCTNWvQWKj4kHrOkxCtmXOQB1OEsLsyjBCtM+YQdX8T8AhCIPB91TUwaG+SMKPcOnBm9AQQlcVHMKEPndCxWlQwtQzrUG8EZnBVWW7QSC/NsLHA7K/w4RsQqIDiMClYTpB99pWQndrOkJP3y3CmyXvwXuAZUHy15/Bj+CVwea7YcIcbeXBoM1YQonoUUFKBkXAr6bXQJn+NUIqF7JAJQtfwd6uakBH1m9BCdPhP5TKZkFDz2pBhEVqQUET7z8Q84hBIGVZQWN3X0Gt9r6/a/DNQRztXUF12Q9CFBaVQeElsMA3eZNAMsM8wnRs/sAm6mNCg5pSQqIazECZTmjBSomfv2UkBcB9fBZC8hNTwu6dP8INv6pBJI7AwfpE4EFEew5AokZFwapUXMG8cYPBpy03QviegkFYOU5C8eBgQWspH0IhmA5C7gKSQbGwbkJRUYlBybMNQbhr2EGhNkrCM+/eQaY93j8NogFC4B5MwYnkA8KncSZCfcRiwb/pHsJRi6FBNheFQCPiCEK1rhvCB5NowiejF8J8PjbC+DUWwvU/vsELbjDCjmRJQUPDaEFSPKpBBJDqQaYRRsJeY8NBsxPJwe8Hc8BTnHNCX9L+wfIe48BEMz5B6xaLQR29l0EImm9ChBm7QbFUhMATzGVCywYgwrDYXcK48u3AohBEQSt67kEgVylCgt2jQSZiFcKXPNXBmrpdQSHJx0CwrWLBu8sMwqZNNcF9siDBckktweSYD0DXYVbC1TpKwrZzG0EKj63BoKIBQosk50HUh1lC2n8xwnBq2UBOxgBCK95BQTKTC8HtzHnB0a3UQC9ePUJCD4PBCEHiQXhrgMHJ65fB5KUxwqM0IUKhhKRBX+g5wS/ATUKfcChBpAsmwjb5pr69K6NB5uoXwjC5lsFJlAzBxTqVQVupIULt57nB0XcKwp0vB8Ks4DpALVAOQQUojEAlWdU9aI4VQi15UMLTVxfCDmOmQS+UO8GJWTzCkfM0QtK3CUHiLlE/LFq3wVQtN8I9DtLBn1BewWoKrUEkw7vBMe8vQeUmvEAChoDBj4LcwSzDMcIU66XBGluQPo6YIMLrdL7B2tncwFO/scGhrJ28r84TwOSiYsJ9iKu/ApKKwX+Ro0GLX1TAcrZYQjmfSUJMGrxBmjrmQZBWMMJQK1XA/SOPwX1nlMB4wxg+vVBuQlL2Q8J1Gu/BSlQZwogDBsK5c43ByYudwR53N8Je1GdCifUEQvkar8CIT91Af3C2wD871MBYJG5CKbSeQXVfVkJ/4DBCVfqzQcfAyUHFV4FB5uIrQr16B0KJ64dAZTFLwmi7T8KJqjdCO9ENQjQaIkJKxBNCggpPQkISLMEOc9y/Hui+QYg2VkFItiBC4xHvQUy2RkLq1hrCcq1IQbsmL0IVpzbCtKEsQXnHZEIn9G3AteYxwWvkKsKEZmFCd+N8wK0oOEHank9Cq9t7QvHpoEF+UxLCFyVhQmYQZkLpAXpCmnsewkzxFUAmrlvByo+GwfDVCMLgjUI/lH0+wbyDmMATkAJCHCVEQhV8pEFfvWxCvgOjQJ8bR8KdwT9CjN+5wZZSmj8A/rnBe9wtQrvO3cA0+pfBdkvjQd2oUUIj5zTBSrQOQkm8LELJUFhC+LNTQr8MKcIcJwBBSgwVwszSo0FV5wlBUmBkQsp+U8IUzZVATy8DQrNgh8CSQDNBtTydQKAym0Fi6uDAFHtoQQk5M0IgIvJBG+hiQgXUPEEBCBXCiQ18QmsrNMBBH2RCD7hiQvPYUkLsPBHBKtywQPrrUkJtsB1CqMxBQoblur+4u5+/PczPwcMrIsJgR8TBoj48QtSPiT9laLXBSpfvQFobs8EdglXCbWJSwRSVPEEjgitCnh0vQkZMGEK2Q9W/Xwp3wREvF8J0xK5AhcBKwdZnSsIy1jjCG46/wX8CkkEQShbCooMCwjzKFcKTokDCUCLuQXRkjEAQe0zBgYAcQW+bX8EWEbbAaQdXQh9Ah8F+HatALQGLwL/zusGX6mDCSvEawC4aS0IODiXC6sGkv8IeUkL7OJNAbUpLwooul0EoHehBFvKEwYo5f8GrB2hC3aBdwfqt/0B0m5nBWg4Aws2OD8EFZj1CSZ5HwmRpwcC54ejBDmwuQQVo8EAUEZhB4RkuP7DBu8BBbzpCbx7EQM0NdUHDGjZBs+meQDUFBcJdRJDAOLKRQUoZE0JCRxRC2V2gQM9sWUBzQFHCs3SJwXGgS0IDwGY/Fd+Xwdx1q0GyGBJCay5ZwrioTUKXPwDCaPZNwq27dEKUd+VAemBcwdUzXkJqKlLB6WDlQUwmjMHZ9nHBfNFrQeNgbsGBzrpBkulwwSDmU0IBrAZCtbrVwPqOBsI/141B0uQRwt3j5EEQvJhA6ld/Qd8sUkJ44FjCJbnjQf+ycEKXOKvAhyxNQuOFtUH+dAtBvvIzQmknVkLQN8/BBgcFwYzi18FF16nBevw5wkfXWkLlL0HAcH4nQjuDoEGuhHFCnH2EQS3L+MF+WwdC8gs5QgdHRsGK2HNCTvADwia708EsX2hCxMgkwvKDrUGs+59A6KhOQlmJDr8cgYHAOUPIweWEQj9XSBhCMyHewZsBWMEAP4FCp9I5QVMQv8ErbqrBFtVUwnBedcH1Zk9CACoiwZokaEIFrtPBWpw1wkiaaMJBa0DC2NkZQrfWW8Ig7KbAqan4QPHfTUGgFHo/NmN+QrPJvMF1ZUFBJytZwuLVjsHr+AbCXrGhQWqLYMJM2R1Cm/EowhTtqsEEhdBA2J1VwiYTKUK4cRlCwWjnQR9z9EFHU9/Bt/McQvU/3UEH3aFBNNQ7wrSuSkJrIdxBf20KQFlmuMCMXAHCDM6hwdOeAMJcL8fBbvYNQbBKgcHgpiZCnkO/wGlIZEF+RsdBJGy8wQhqzsCcvJ1A/juWwLhFOsGeXM/BeQ0oQpOrdUIVPmNCgS/Ywc7M6cDnVndBsKlJQb1dvEH2LxpCbkDcwUB6TMLTfLnBp6kLwsaGXML0haDBmpFFQn6SN8F2H6BB2v9GwU9oUsGY4xLCp60kQT3fRELMp9dBX7EIQpJzQcFeay7BvOt4QB90EMDO7iZB6JUcQlrK68F7f7bBEJV9Qg9gY0JfHGhC4AqEwecRF8Jq/WRAqHqzQD43ucH4kWZBB5KdwcMok0Dni0pC420APtNBJsLzUEvCq/qdP+fner9kngvCXAL7wbTqdUKwdpJB4K3JwRM0jz+xKEBCXyQbQimJTUIKzlrC0FmkwYcXGcA38hZC9qfrQbXyUsI1dj7CmOpEwis/2MGWuxbCvD2RQbViZMKdM0nCa4NEwnQql8E8U8dBuYTNwWg9GUKsm4BCzNmFP2X838DAKutBcKtzQhX0KkKMqVHBp0ZMQSJWmkAMqFRC8sH7QRI8VEIf+Y5BbsUaQD2aekK0PUpCG/AhQnKXTML9KWJCSuyLQIQoA8LKD1vAlaDTwb0ktUFsbiVBG1Y/wKfVakLtythB3nGlwa3dJEEHwQdBLg00wnNWCcIoiF7B0PZYwqxenUEOTqZBlB1ZwigUUULisNDBNZGLwQg598HQayhCuZ2RQRM2ZUKqDTJB32fEQBOYLkKrxVFCyGtGwmDsC0Ly/qvB1kKxQQWxQMJSC0dC9IgYQjEGokGT6MVBnno8wQ1wPkEMdhhCQiwOwk4aQsI+T6w8fc3jwHnaOEJhhVJCQwYUwtjgQ8EQoVNC4aDtQXefI8K6o1jC1+kgQQYdN8Getl5C9pqiQAx4i8GDV5jBXUtPQo7sPUIQw8NAfoQEQDj8VkKqTsPBg70twnz+HcHd/JzAq0H+wdfJtUFZ6CdCJhckwe/eUEIvA+pAkQkiQRLiQkE5quxAxBkXQccwcUK4Z1DCWhIDQmjUNMKttS1CfXdxQYEKnEGqZ4VBttocQhSkz0EfYiFCh/DCQRBuT0Lb1LVBRhtxQZw4SkIel0TC5xMlQn6ATUIYGFTC3eJKQryYNsK2zzFB6e2TwQ6yOULlSunB7mBFwvY/REHVdunBfezrwVFgZEKjHHRCXLEvQqNLKL9aVALAxDaOQeljmMDxZwdCcDPCwcSqE0IUwl7CLuFsQQHHB0E89BzCCdthQD0w38A8pqNBRCAEQQTsUMKhAXbBixtaQq0RcsFwRg7CqqwhQlHVEULF8NnA30C0QFRAUkJ/0GVAG4JlQjVVN8LrphhBnoNBwIJEXkK3vMBAbBZcQgoHjEHI4Jg/vby7wPrEakLuAkjCjd9LwgD5KsGp6G5CF8RFQrh8XsI9SwhBhcA/QreZxkDpjg1BZEJLQqZUU0JXz45BYzdgwkr+PEL75r/BgV8MQsmCvT8I+SlBm8hrQCUlFME7HXlCPP6gwUuMicF+IjdCPslNwd1cPcLqqh3C+NhWQmRC2MChQElCTFu6QOwThcBB9GBCNJ9bwT/CMUKoLbVB/LUtQmagsUFIx4vBHrvbPig9aUJzKI1B/wRVQpAwjcHTk9zAgqkUQT2FtUFhuF9CaPpWQilFocEyn6BBY0I0QiH4F0HnVsDA/dHGwRF3FEEmDh3CvQzBwSiOj0Dh41JCDsdYwdfcqEH7YjFBpa4nwtkiOMKp3k1CRyQnwhvI5D+cjxXC9Ux7QsyV8EG/jEPCUTFiQVGYKMJ787TBb4NEwhG8TELnGHpCYr+8wfHDxcFoMB/CKHWAQBLDU0IDDRtC/lkcwt1C1sG4CytCaRnLwY3YJ8LUPi9CtG4YwmUzEcI75Q9C7kL7QaA9OcJ1bULCa1OHQdGwHUIbPFZCgehUQvAE8D8Bzx3CPMUdwcfswkFDV7vBcG6KQS0OKEG0uYbBGhgsQa84KkI4YgNCMORAQo8lA8IvPxtClQXxwZ0/rcBs7j/BXEbBQYvDHMI7J13BKlkwwM9Pa0LJM0fCnsneQUOpSEKTuvo/GGwZQUt45z9vZSxCwAbKQeDnBcJuVsLBze5WQlMxNUE7TAbCSv06wl6nY8IGkknCPsC4QTvEK0KsthxCI13nQb9QakGgziFCvvO7QJLRpEGTLlfCqba9waAqysFe9gDCE/5iQm/3M8IeDBFB3w1+wRkEMULgMBPCl9JcQAB+FUF778DByLw6wQz0nEEfjIdB1sWxQXL5ZEFndilC82GEQe7NTcJS2idCiFKXwU/bosDQqpzBiXsUwuFLUUJ0I2BB+E/avmhoDcIxhtZBVlZTwomRWUGbFeJAZlQ9QUSfOcI3yC1CHQ9Awoako0G48rFB2QJEwiZnTkLW6wdBcQd8QlVOakEY/UTCa7qNwbQVqkBG/R5CbgciQukOo8FqdUJC1m6JwHOdisHs01RCEt4uwZqCOsAaclJCpxUfQqsoIkJ6XCtCeJBOQr6BgcFd4MtBxmdvQgjpNsCpB21CfZT0QMZfE8JPxBZCUUy3wP46mkFej/1BRoQcwmggakJbAOZBhB9FwtvkUMFrsY1BeJkgQtBrw8HPikFBgsrgQWF0fEKl+/9BNChPwmWGQUFoJBbCrc5DwSaOWMLJ/E9CdlpXQgchXEISis7BDTDvQew8aEJtoKxB9ogJQc1Gc8At3CVC8iNXQi8C5UFJb1DCOqAmQo8xeEJWWtFBOcUbQjVw9cHNq/bBbxJ9wVrOKkGwCEJC7BgEQZGnekAWoiDCsMJhQsXXBcI2kg7CEeaXwamzJkJtAwVCWhw6whX3XcJCvChB6sBFwqzp7UHN5UDCKB1twP6Y8MH+dE3Ai/ZTwl2ZKcHf+aTBMPBNQrH0gUKNM8/BPXE+QRqWIkGRqiLCTpTEwfkMbEJ6e1lBW6JAwuEG6EEYOx1BXg55Qm9rLEJryEjCOBtTQrZJQMKtmW1CxiSowf2ZBMHDK3bB2SW3wa3HBMKLgPLAWa8LwSrCKEFGBCtBKl4YwolockLwUO/A8tMiwkfCMcE+GyXCQi4nQqcbBsKuo/bB/kp1QXtTGEJXOk7C+AINwsNHX0I/BQrCLlKaQOwGkMEbXCrCAL1lQqe6LkK1n/jBgngVwrLYU0Fy2v3AiPztQTSYU8LUvCTAtOZ4QrwF8kC8EWBCjGAOwse5CEFaFTTCIlsBwnk16cDAbbVBl51VwqMeO8KlVEzCiVouQtJQOMKWkdZByepUwigqccHnNVDCWRAxwnaXQMJDDtvBlgKtwSrsTEJ2PyzBSbjmwA45UUK5GJHB9iWOQcsRL8C4svHBByxqQvrsysDzs5FBe7kUQqBgQsHbREBCsXv5wQQFM0ISS3FCIshpQk7KoUHTNlnCJPAiwTLeDsKR3O/BPyauQAwUe0IbnyVCqUFzQtFCUcIGa6zBSZQGwjxb6ECiY2bBcBPMwW/zW8E5VG9Bl3icQA7LL8K9wf3BQe1VwtZ7k0FUgifCSIQ8QDr8/kE5bZ5Bb2QuQtU78UAY4JHBSVFjQn7CaELd5ypCIDlxwbs5gz+shZRB7EePwWa11MC2du9BQwgfQRDKK0J6/zjCQm5ZQZwpMMIhampC0alSwjoOz0EOwKvAQjUDQqHZlMEhMAJC+9IhwVk1rMEUSohB6Qtgwnwue0BsKqxAxAVgQo1/iMH2wl/CJq1Hwh47WsJ4Gdo+ME9kwS5GkMCo/hvCqB4LwprWAL/NdtlB0FrcQIewwUEdRgrCMsSEwZCfh8Ds/H5CySZHwh1cF8LrwLpB+Pj2QfywXcIb+K1B6bI2wVdjdr4wJuHBxa4awFVIY0Gk+s1BEolewqMfRcIaj2DCZq4lwiJX5UGIhNzB9RG1QdCqaULgAdVAoSVHQmNHwb86LR5BY0aswYb7msHG8Ao/sy2Wv+OfVULLkNjBiPhgQUERQ8HzcXdCpKIqwoeVJULrZ8fBLY4KwjVbVUHMNfhB0Fj7wdlXjMCjGmhCAvNAwsRY50FoYuLAH4fKwfe7tcG9LFzChfKdQYOqZkI4/mlCacFPQiy8CUG097vBRVk5wgwSvEHp5ElCLv14QoW4TcK7+QpCIIbUwMrzwUAo0CRCMwmfwZJ42EHys+nAklXEv4c0s0A9HUlCdYNVQoD3WMKbZnZCO04oQc+pIsFGpVjBTE3gwCX9K0L7WVnCQhbrwCVq8cERnS7Cjrs9QZVid0LgisnBKbESwlA2QcFaozzCC8nEwDYg3UEd6lFCYR4aQsF1SMJbjl7A4+CnQWeuPkEDOF9CpocxQS7LL0JYIVFCs/1YwiqcZUBhtjFBi41gwIizPcHW2iDB66Y8QiN208HvJS/CSujBQQoPdUJIrYlB80QBwrfX/0DZdQdCDwJaQk+4XUHjZ3xCWUE6we8mR8E9EUtCM1jawP2Z3kAhbG1CdQAoQhp+EcH7rcfBzMZMQu8KVsCOYkbCrps1QqgPBUJspqPAkxcZQmKj48FUsStCXUyWwcuxgkKWQB7Cq6EeQibzhkBqyZPBrBMPwmSJXcJfjmXCryv8wVmpJMJHxVxCpc6SQU9mbULuglhCNbkDQuqGa0HHDce/U9BzQIf7RkFZjnNCjkVqQtd7CsInfJjBIoV0Qrjk1cEYnhzCUDoDQmZXSkA13UnCqgPJQWXQTsHDfbLB6xmdQRWuvEHa6MTAHmBsQmoyI8KOXbRBzGWlPciTy8EZSV5CQX5gQnR06cFpuTHC2Rh/QaZKakKw9tw/Zt4HwTze+MH9r2HCWT4vQX6zjUF9nwjC0ZxOQgukekK15evBzQEYQuOOMUGeqzdBaCjEQZNmvsEspoLArF52QtJAg8F7z0BCjXjHQHGQKMGMdiVCASyMwet8JEIv9mVCZtnSP4dy8sEdKPY+PBYOQpziisEaePTBd1F2QmxCnEFCoTtCMTNyQocZyECwK0O/zyBwQUzSAUFhS3hC+pKYQahDf0LHmnBCXovGwdRbQ8JKa4ZBRUCPv2XZBsCJnJTB3WRFwQvyYEJqmANC2tOawdeeT0KmofhB81uUQTyFw8EYku/BF4pqQR84wMBTpUtC9eofQrtDUMKQw1dCexKMQZl4H8Ii42XAsTiGQH1aFkLWpqZBx8IZwiVbCUJqHSDCDoX4QDXENcG7+CNCUCalQZmJ5D+iZ0vCc+2CwZbsNMHIlTxCD/jeQFstKsC6wxlC1PUcQGVsF8CNORlCfK+GQWx5cUILCzzCz3+SvzHwHMKVXXpCnhVgQna+M8I6qVhCAfFcwuI2JsIhZVdClwL/wblneUJ0M5jBt/5SwpNjHELWXN6/ajwzQq7uAUHBynFCAuGCwTMgCcEizuTBngyGwVmjMUKWwpFBy/Y7Qpj0xEH/2FpCeNk3Qdj+H8JWFPxBOyJUwoMqrkEIfVvCh9JGwT4B80ASBVxCv4xdQd41VMLh3VTCTtggQqbYMEI+g7pBB+2xwObmBMKA4GrB5s+gwYaclMGMkkxC/6wHQXvbykFLpG/Bz67/wZNnR0GMXVrC4WKUv/IUAkEMAl3CX3jiwEAUbMD6sQrCsGhoQgrtg0AABhrCC8xawnC9R0IhvvHBRVcAwc6/LUJ5iklCeXIrwVPhNEHXjNrBbYDkwIEg6MF6KSRBzadCwqbHS0LxZQnCjOU/wv2dV8I8c5JBWhqKwdrJMMKN2trATVJwQqnVAMJEk6jBH2QYQepuQcJKF2XCnilnwscjtMGGalJCtREjwnhh0UE0Lx7CfzwwwsJrK0ILLPw/Y4OiQTqwhMGchgpCinzFQQtk3z++CNNAoRLxQJhuVEE2OS/Cz6JWwns9aUIo9lm9kRemwVpUTMJ450g/ITlEwjy2TsE1mwXAbFYUQgjdkkA6ZFHCwH1RwmKs3EHIaL7BTklSQnz34r9ai+/B5YTVQIA2pUGlCflBSmM9QrvAT0Jn61HApiIZQtcybkJ4UXRClR6SQHeUcEIMMFTCQh0PQN/8R8Jv4qjBrNenQWhdcUJhXGRBm8+XQV9RIsIQ5x/CBzt6wX1WNkLPggRCO481QH/PlEE2GR5CkbFyQqJg3EGgkVbCpKzGwOyml0CBYFZC6HQHwtewDELoAjJCgnGWQVFuHkH0bWi/YUgXQHwO8MDtLzHCW/8+wkIjg8EMt/nB7h6kvm7pHcJsD2vCDiGSwURqCMIQCCDCrAAlwtZDTEJBr7bBMvQvwsSiQkIc7sxBQRpFQlDhmMGjDR5C+HrWwZj0QMIv0UPCuYWXwVrEQkJDMSLCaX7RwWdvNMFvYN/BLABhQLPKxMHFJXdAztxqQnRUtMF6yHBCfzcuwWxnmj6LvRTCAHIDwsCla8HqAkFC8MHBwA7YO0J0n0jCLosrQayiaEFocYu8pxY3wm925MEkfd9BkFEGQsoT3sEO6gpCBQeZQa97AkIbODPCMv76wN+cW0H8/mdCeAK2wSz+qcGEfVvCTmFUwsI420A2dVrBVD80wBthi8H9MVrC3RLIQahmXsKBBTPCcGz2wR4/v8G+wTTBaDEwwrstCsFEO4lB4rUwwlX0nsE9+xhCM5CtwQ4kPkJrjCXCmM1Ywi1zVcIqaUXBl05CQcdOL8Fp+RTBoiLIwWKSEkKyGSnAe9jUQaeX80HGAqxB/BuLwTf4DsFrflDCqwcxQD7THMJRnjXCxucWQUK8N8A+ba689zBMQmKsp8Gy4lDCfB0FwucpIsHR+WXCSUylwVOOC8JHeGnBuI8twDfOLcIcpNtBRFI8wsDU0kFZuHtCiVe9weuKSkJNHJ7A9xsPQt/OhT7nH4dBtYUFwNwJfEFGZVRC3ypXwj/mLcG/cffAPGw5wuccv8Gpm7JBzyrlQDIlfsEL0bFBWXpBwobr78BVLnFBJV84QaeDOsLRi8NBWqQqwm6tJsLGUh/AIRPYwchnPULwOy3COgogQibBSkI/zTPCUCGbwf47lcGP2EDC6WXMwXvzL8FSAE3CUQBnwVTRV8Jli7PBoXNvQq/Qa8GB9G5BHgKnQSODPsIDOQHC2dVswd4YAUIA1iFBsBpGQuxxNUKKUxJCSAtaQhBJiEGQM1/CU7sWwUTTn8EliX/BZuVWwq0xQsIZ5VlAFdhFQaKK7b+d+bTBXMNCwgMnrUEIMhFB470ywQd1RsIBq6TBwtAIwhmnX8Ic0J1BS/WQQb2CacIVS2pCJ8t/QtL+U0FBauJBueobwti6bUGaQ/fBSWokwrLODsJyxxfCj3RrQtw23sD9ezJBusgtP6IzLMB37j5C6M6owTvyBUGmdiPCcI1Twq8Pg0Cz2J5Bz+4Av9PqBUG0BmNCXLwSwkvSJMLJyrXBneQ2QpHsS0LcU7nBcaCuQblm1sAS3g3CL2xbwgksDkLNkhRC8cQkQv6BIcI75gpCn3OrQcwGfUIssSTCvvicQQzOEsJZxi5CWFklwnPOX0KRtKrB+0Mjwrwbw0E4mi3CQDkswiUDMUKZ4phBr7cWwmm4LMLjuTTCRipDwnBm6sEDtUvC7wxNQmGFUUIxTUHC4R6tQD62/8FVKTbCDt4jwpiKbEHGzpBAgagqQtCrAUIVaDRCM3pJwmMWUEK9JSlC7AgmwhkDjsGlDM/BVSzFQO68pcFvEV5BBUf/QWt1XkJAkYTB4efDPspNbMFBXIVBsx4oQjlZCsFHaVVB0AhuQhv3LcHdnazBLZxhwqDZ5sF0pl9CTFy4QLKBckJTilZC++BiQVcWdkL0f4RBcSBBQmw30T8mXzrCr3kNQpL4zMGeIU3C2KBEP96Sy8Ciq1hCUIwPQuJYM8LAFMNBKQg2Qh/ISsG0zHBCvslOwt75MMGgWEJBq77kP3XbOkE5/LS+vZcwQrwjfEK3fmpCCCaBwXmWOELD4pnBgNI3wtTNasIE+YzBg6xqQk9SysHXCx5CMMftwXNQR0I5ClTC2eJ9Qiq2RkE2VClB6AJOwjXRVMIvs/pBlq09wolK3j+7JSrBr3Ybwh4vIkEr/YrBS592QuQ2lcHlzdTBrbVDwrSn5cADxI9BxqJCQsM/VcLJ21BCop0gwRpnpUFs9YLBIWvQQX0uWUHUkT3CYESnQbj8QEJa32tB3vadQdE9xL82kW5CP8NrQqMcZcFMc8XA174fQFhjL0EDa0xCphCMQUhXz0DradfBcbY3wIowWkJA99RBMIIqvo+kfEHrMW1C/vyRQb8rOz8YMYFCbEQYQp/Rq0Ao8tPByHbjQQAfWcISWFdC2jVKQlXlTkKYFSZCErrdQVN/3EGbLxJCgHXrwRmXR8G9sAfC80gSwUVkUsDXR/DBWfy1QXJdMcGaUeLAnw2IQPxmgj+D/BrCDhlXwUFuQcLBXF7BVlD+wWzDD8JFo/TBhrb/wV5jlcG4VxnBptlQwS8VOcFIBxzCPH8pwui61cHyEjvC4iUnQswKoEHOSqlBRhuhQVqHPT+QO/LBJCUXwroYf8ElskzBJDEuQQaQYcLPNlDBcyEzQnXaZkI5z25BSREVwuPEF8J6fKJBuiIXQqrhREFTV+jBOP4KwpoaIsJ5rnBC3lJSQvM538CsaNs//WnmQINzMcHZdw5C50L5wQ7YcsHPM0zCUOBBwjIO7MH3NuvB9s/twX5YjUGx5adBhee8wT3ul8BFi2XCBmiOwQnH+sF+oZ6/KRVMwiSqWUKriv1Bhc5FQXgjuEF93C7B9JqywaavMkFJaVbBsQskwDJBLsIurpi+1VmrQLY9X0K8vhDCR/s7QWI79sHUMMlBYchhwlfE8cGpijLCxyJNQvRX2cCE841AdUo9QlMMUkKCPyHBWBlWQAlIuL/fMklBu1JCwaXB3MEBlGNBfzFkwrtT/UHOoFzC69UWwZsH5EA3YJW/fbSgP01r9sCRAJ5B6/eTQVKaoME+n/pBtlYaQntFwkHY7nlCGBnmQJDyKUEjXFZC5YKMQKPjpUEQw8PBhMRRwnYNisGFZH3B4QCwQaC/WkI8Y2lBgrhewSsOaUJHLa5BmgjGQfTaYMIrjvhBou8yQgiDKcH8zhBCBTo+wORrqcFq6bLADSghwoWaF8JbpWVCxtqqwL+gNbwp6zvCWHiuwXBAx0AhqJrBHh5iQkfR28Eb5DFClCMSQtfoU0LVt1dCvAw8wsa4S8LiVPDBIk4TwogEOkGa03xBqEO4wOYXZcFLYrNANjF0QkTkuMGRm1XC+fEXQpGBV8JK7PHBhkcNQSRFXMEcgz5B9GFJwvnHGEJ/z9vBoWpGwV/PusGNAzxBwUZ+QaTuqUGRWRVCZpLzQUdKAUKFWEfC+4P7QfniQMLaOpHBM2uuwXdlKMJOgTrCr1UUwiI1UkIT0yrCHS46wr1VTL/S6tLBlCwqQsupy8EVr5hAo41XwrRHLkI7QAFBpqlqwFkTbUBxaLlAoxMtwkvQLsCoKUtCtE8swgrSor/L9LdA2R7+wSpABkIs2IPBVkdnQZXL6UEsZKPBuV1zwU7RmkF4uHtCcXo1QtE1U0C3VzxC1lc2wV6mC0FO1TFBAmpfwqGEN0Ljf3lCkk1CwgRoNcKzqiPAh5+svxiNusGT26lB37yJwSrf3sEoLlrC34Y0wh4aP8L49mZCPpgeQqa1P8LJChzAoTNDwd87HcKtLjbCN82yQIG1U0K2gj/CGUJCQjr6R8E1tX6/5zZvQutMOcI6oodBdLt8QgZqaEFRNyfBtNmiwKCkc0E47rlBzJyvQXJcjEE0OxnBhBTrPpYvY0JRTN1Brbe2wQKZDMLwAUTC8o6owPbvtUD6ezPCqndMQpx8CsL3ckDCPnyfwQSqysF4qVZCP8GIQbDQlkE4mEDAdM/4wUsdakL9FEtC7XR7QhBNNEIejTxCK49sQsqDNsKfJ+TB7qoJwlJCSsHjJaBA8L99QRAmpMAbRBJCKXJVQt1DpUEZqUXC5I86wlyZBsLI+VlBujeYwTj3D8LJ/Y7BDBlfwq1U/MHjVXVCe81gQbKyFkIJUwFBVH50wY718cFsuV/Coz5vQv7PAcIulKBBgTIawlRfPMKr0j/CfyBbwuMP2cFBiE7Cp3hXwhsgVELBy+fBgbu5P7+8m8Hod07Cmbs1wc8Q/8H02UnCbW0iwlnaG8HbuEhCdsVDwhQmLMKPAj4/xOY1wlJGMsGkecHBcPvHQQjwc0G5lj7CtyfOQOswEsI1FnpCVtaCwZFES8LSNTzCmaELwRcDgsHSLufBh62vwZ0eb0L4CTPCZQMcwlsErcDcCofBOVPkwYeu8cH/6mjCdbF5QtHmYMLMZglCQ8tLwrqC4EGGohPCQ8VeQisIB0JqIjBB0H0uwa5ESMKvn/zBYrpQwg9ra0K0OmK/qH1TwljpgsHd3Ys/0+5pwR2nYsLESa5AfvyCwXOXgMCFbBHCEqzUwbGmAcK1MlhCJWtPwhqZIkL2i4vB73DdwfG/yr37WxdCKAhcwtMdpcEBlwTCPps2whwCB8HWujDBC32iQNIhrcGwjnRBx1yoQZGGkUHVjWtCybRCQpqDFEKSpnFBFzA7woCK4EEJ5d3BPPv5QNzXRMLJrP/B5JAoQhK0DcBMqRBC/OTAwZ8DKECFqxfCfuJXwmVOUML8qrfADdLxwcraxkHjgiPCjch1wWcEA8L3dVVCrEc8whxv8EBqOBTC/HY8wVmZREKQxPzB1QMqwtQ4K0JbgwTCFZOXwYqdZ8E8Q+XBZQ2OQXOHDUGL/ufBQY/LwXa2TcInN+i/SL5TwNwMF8GLP8fB4I65Qd7LCkHMFgdBnf0VwCoZIsK+oWzBIA0Twj3QQMDkTEHCblb5wWCI5cEJxjdCak03Qa4pvsHz1jXBht8FwI2+FEK+rs7B2zTjwXAiL8KAE5JAK1UcwrAuZ8EMmuPBwzOUv9JVTkFNoQvBGugwwjpUZEHHeKpB6lobwqVJgkK0FwzCXmepPkoJfMCxQgjB+LTEwaZf88EgVXrBjM8QwsKjWMJSL4O7DAeXwUix9r/Ffg3CswMDQgeDS0Gdg4nBZ/RBwtAOwkFt8PfB2wAKwuH5UMJ6Hz/C8UYdwpAFJMKqMy3C+DEiwiYweEFU+aLBnnVUwBIMJ78=\",\"dtype\":\"float32\",\"shape\":[4496]}},\"selected\":{\"id\":\"1310\",\"type\":\"Selection\"},\"selection_policy\":{\"id\":\"1311\",\"type\":\"UnionRenderers\"}},\"id\":\"1302\",\"type\":\"ColumnDataSource\"},{\"attributes\":{},\"id\":\"1285\",\"type\":\"LinearScale\"}],\"root_ids\":[\"1278\"]},\"title\":\"Bokeh Application\",\"version\":\"1.4.0\"}};\n",
       "  var render_items = [{\"docid\":\"d95e80e2-88b7-4988-8a83-ac288765e56b\",\"roots\":{\"1278\":\"05e0be15-f93f-4a29-87ab-d0ce37291e6f\"}}];\n",
       "  root.Bokeh.embed.embed_items_notebook(docs_json, render_items);\n",
       "\n",
       "  }\n",
       "  if (root.Bokeh !== undefined) {\n",
       "    embed_document(root);\n",
       "  } else {\n",
       "    var attempts = 0;\n",
       "    var timer = setInterval(function(root) {\n",
       "      if (root.Bokeh !== undefined) {\n",
       "        clearInterval(timer);\n",
       "        embed_document(root);\n",
       "      } else {\n",
       "        attempts++;\n",
       "        if (attempts > 100) {\n",
       "          clearInterval(timer);\n",
       "          console.log(\"Bokeh: ERROR: Unable to run BokehJS code because BokehJS library is missing\");\n",
       "        }\n",
       "      }\n",
       "    }, 10, root)\n",
       "  }\n",
       "})(window);"
      ],
      "application/vnd.bokehjs_exec.v0+json": ""
     },
     "metadata": {
      "application/vnd.bokehjs_exec.v0+json": {
       "id": "1278"
      }
     },
     "output_type": "display_data"
    }
   ],
   "source": [
    "plot_tfidf.scatter(x='x', y='y', source=tsne_df)\n",
    "hover = plot_tfidf.select(dict(type=HoverTool))\n",
    "hover.tooltips={\"word\": \"@words\"}\n",
    "show(plot_tfidf)"
   ]
  },
  {
   "cell_type": "code",
   "execution_count": 156,
   "metadata": {},
   "outputs": [
    {
     "name": "stdout",
     "output_type": "stream",
     "text": [
      "building tf-idf matrix ...\n",
      "vocab size : 48\n"
     ]
    }
   ],
   "source": [
    "print ('building tf-idf matrix ...')\n",
    "vectorizer = TfidfVectorizer(analyzer=lambda x: x, min_df=2)\n",
    "matrix = vectorizer.fit_transform([x.words for x in X_train])\n",
    "tfidf = dict(zip(vectorizer.get_feature_names(), vectorizer.idf_))\n",
    "print ('vocab size :', len(tfidf))"
   ]
  },
  {
   "cell_type": "code",
   "execution_count": 157,
   "metadata": {},
   "outputs": [],
   "source": [
    "def buildWordVector(tokens, size):\n",
    "    vec = np.zeros(size).reshape((1, size))\n",
    "#     count = 0.\n",
    "    count = 1\n",
    "    for word in tokens:\n",
    "        try:\n",
    "            vec += model_w2v[word].reshape((1, size)) * tfidf[word]\n",
    "#             count += 1.\n",
    "        except KeyError: # handling the case where the token is not\n",
    "                         # in the corpus. useful for testing.\n",
    "            continue\n",
    "    if count != 0:\n",
    "        vec /= count\n",
    "    return vec"
   ]
  },
  {
   "cell_type": "code",
   "execution_count": 158,
   "metadata": {},
   "outputs": [
    {
     "name": "stderr",
     "output_type": "stream",
     "text": [
      "C:\\Users\\konark\\anaconda3\\lib\\site-packages\\ipykernel_launcher.py:7: DeprecationWarning: Call to deprecated `__getitem__` (Method will be removed in 4.0.0, use self.wv.__getitem__() instead).\n",
      "  import sys\n",
      "C:\\Users\\konark\\anaconda3\\lib\\site-packages\\ipykernel_launcher.py:7: DeprecationWarning: Call to deprecated `__getitem__` (Method will be removed in 4.0.0, use self.wv.__getitem__() instead).\n",
      "  import sys\n"
     ]
    }
   ],
   "source": [
    "train_vecs_w2v = np.concatenate([buildWordVector(z, 100) for z in map(lambda x: x.words, X_train)])\n",
    "train_vecs_w2v = scale(train_vecs_w2v)\n",
    "\n",
    "test_vecs_w2v = np.concatenate([buildWordVector(z, 100) for z in map(lambda x: x.words, X_test)])\n",
    "test_vecs_w2v = scale(test_vecs_w2v)"
   ]
  },
  {
   "cell_type": "code",
   "execution_count": 159,
   "metadata": {},
   "outputs": [],
   "source": [
    "model = Sequential()\n",
    "model.add(Dense(64, activation='relu', input_dim=100))\n",
    "model.add(Dense(32, activation='sigmoid'))\n",
    "model.add(Dense(32, activation = 'relu'))\n",
    "model.add(Dense(32, activation = 'relu'))\n",
    "model.add(Dense(1, activation='sigmoid'))\n",
    "model.compile(optimizer='rmsprop',\n",
    "              loss='binary_crossentropy',\n",
    "              metrics=['accuracy'])"
   ]
  },
  {
   "cell_type": "code",
   "execution_count": 160,
   "metadata": {},
   "outputs": [
    {
     "name": "stdout",
     "output_type": "stream",
     "text": [
      "Epoch 1/100\n",
      " - 1s - loss: 0.1781 - accuracy: 0.2234\n",
      "Epoch 2/100\n",
      " - 0s - loss: 0.0955 - accuracy: 0.2219\n",
      "Epoch 3/100\n",
      " - 0s - loss: 0.0325 - accuracy: 0.2268\n",
      "Epoch 4/100\n",
      " - 0s - loss: -5.8128e-02 - accuracy: 0.2279\n",
      "Epoch 5/100\n",
      " - 0s - loss: -1.2793e-01 - accuracy: 0.2258\n",
      "Epoch 6/100\n",
      " - 0s - loss: -1.2912e-01 - accuracy: 0.2289\n",
      "Epoch 7/100\n",
      " - 0s - loss: -1.7227e-01 - accuracy: 0.2255\n",
      "Epoch 8/100\n",
      " - 0s - loss: -1.2591e-01 - accuracy: 0.2250\n",
      "Epoch 9/100\n",
      " - 0s - loss: -1.3836e-01 - accuracy: 0.2177\n",
      "Epoch 10/100\n",
      " - 0s - loss: -1.7525e-01 - accuracy: 0.2195\n",
      "Epoch 11/100\n",
      " - 0s - loss: -1.6281e-01 - accuracy: 0.2201\n",
      "Epoch 12/100\n",
      " - 0s - loss: -1.7555e-01 - accuracy: 0.2206\n",
      "Epoch 13/100\n",
      " - 0s - loss: -1.9448e-01 - accuracy: 0.2247\n",
      "Epoch 14/100\n",
      " - 0s - loss: -2.1583e-01 - accuracy: 0.2245\n",
      "Epoch 15/100\n",
      " - 0s - loss: -2.0660e-01 - accuracy: 0.2284\n",
      "Epoch 16/100\n",
      " - 0s - loss: -2.7929e-01 - accuracy: 0.2333\n",
      "Epoch 17/100\n",
      " - 0s - loss: -3.0401e-01 - accuracy: 0.2292\n",
      "Epoch 18/100\n",
      " - 0s - loss: -3.5774e-01 - accuracy: 0.2304\n",
      "Epoch 19/100\n",
      " - 0s - loss: -2.9143e-01 - accuracy: 0.2302\n",
      "Epoch 20/100\n",
      " - 0s - loss: -4.0100e-01 - accuracy: 0.2346\n",
      "Epoch 21/100\n",
      " - 0s - loss: -4.2575e-01 - accuracy: 0.2421\n",
      "Epoch 22/100\n",
      " - 0s - loss: -4.5406e-01 - accuracy: 0.2442\n",
      "Epoch 23/100\n",
      " - 0s - loss: -4.6331e-01 - accuracy: 0.2411\n",
      "Epoch 24/100\n",
      " - 0s - loss: -4.5610e-01 - accuracy: 0.2380\n",
      "Epoch 25/100\n",
      " - 0s - loss: -4.5697e-01 - accuracy: 0.2406\n",
      "Epoch 26/100\n",
      " - 0s - loss: -3.8597e-01 - accuracy: 0.2419\n",
      "Epoch 27/100\n",
      " - 0s - loss: -4.7176e-01 - accuracy: 0.2367\n",
      "Epoch 28/100\n",
      " - 0s - loss: -4.6383e-01 - accuracy: 0.2289\n",
      "Epoch 29/100\n",
      " - 0s - loss: -6.1673e-01 - accuracy: 0.2375\n",
      "Epoch 30/100\n",
      " - 0s - loss: -5.6621e-01 - accuracy: 0.2336\n",
      "Epoch 31/100\n",
      " - 0s - loss: -5.4401e-01 - accuracy: 0.2403\n",
      "Epoch 32/100\n",
      " - 0s - loss: -6.9757e-01 - accuracy: 0.2349\n",
      "Epoch 33/100\n",
      " - 0s - loss: -6.3439e-01 - accuracy: 0.2359\n",
      "Epoch 34/100\n",
      " - 0s - loss: -6.1119e-01 - accuracy: 0.2385\n",
      "Epoch 35/100\n",
      " - 0s - loss: -6.0497e-01 - accuracy: 0.2382\n",
      "Epoch 36/100\n",
      " - 0s - loss: -6.1294e-01 - accuracy: 0.2440\n",
      "Epoch 37/100\n",
      " - 0s - loss: -6.8102e-01 - accuracy: 0.2367\n",
      "Epoch 38/100\n",
      " - 0s - loss: -5.9877e-01 - accuracy: 0.2429\n",
      "Epoch 39/100\n",
      " - 0s - loss: -4.6208e-01 - accuracy: 0.2297\n",
      "Epoch 40/100\n",
      " - 0s - loss: -6.3300e-01 - accuracy: 0.2385\n",
      "Epoch 41/100\n",
      " - 0s - loss: -7.0394e-01 - accuracy: 0.2395\n",
      "Epoch 42/100\n",
      " - 0s - loss: -6.1403e-01 - accuracy: 0.2416\n",
      "Epoch 43/100\n",
      " - 0s - loss: -6.0167e-01 - accuracy: 0.2382\n",
      "Epoch 44/100\n",
      " - 0s - loss: -6.8999e-01 - accuracy: 0.2466\n",
      "Epoch 45/100\n",
      " - 0s - loss: -5.2324e-01 - accuracy: 0.2375\n",
      "Epoch 46/100\n",
      " - 0s - loss: -6.6832e-01 - accuracy: 0.2429\n",
      "Epoch 47/100\n",
      " - 0s - loss: -7.8062e-01 - accuracy: 0.2406\n",
      "Epoch 48/100\n",
      " - 0s - loss: -7.1982e-01 - accuracy: 0.2411\n",
      "Epoch 49/100\n",
      " - 0s - loss: -6.5811e-01 - accuracy: 0.2440\n",
      "Epoch 50/100\n",
      " - 0s - loss: -6.8490e-01 - accuracy: 0.2380\n",
      "Epoch 51/100\n",
      " - 0s - loss: -6.3839e-01 - accuracy: 0.2362\n",
      "Epoch 52/100\n",
      " - 0s - loss: -7.8197e-01 - accuracy: 0.2499\n",
      "Epoch 53/100\n",
      " - 0s - loss: -7.5335e-01 - accuracy: 0.2385\n",
      "Epoch 54/100\n",
      " - 0s - loss: -7.0232e-01 - accuracy: 0.2450\n",
      "Epoch 55/100\n",
      " - 0s - loss: -8.0310e-01 - accuracy: 0.2434\n",
      "Epoch 56/100\n",
      " - 0s - loss: -6.5143e-01 - accuracy: 0.2398\n",
      "Epoch 57/100\n",
      " - 0s - loss: -6.8737e-01 - accuracy: 0.2419\n",
      "Epoch 58/100\n",
      " - 0s - loss: -4.7432e-01 - accuracy: 0.2421\n",
      "Epoch 59/100\n",
      " - 0s - loss: -6.0564e-01 - accuracy: 0.2416\n",
      "Epoch 60/100\n",
      " - 0s - loss: -7.2177e-01 - accuracy: 0.2479\n",
      "Epoch 61/100\n",
      " - 0s - loss: -5.4659e-01 - accuracy: 0.2393\n",
      "Epoch 62/100\n",
      " - 0s - loss: -7.8384e-01 - accuracy: 0.2497\n",
      "Epoch 63/100\n",
      " - 0s - loss: -7.4117e-01 - accuracy: 0.2424\n",
      "Epoch 64/100\n",
      " - 0s - loss: -6.0589e-01 - accuracy: 0.2429\n",
      "Epoch 65/100\n",
      " - 0s - loss: -7.0837e-01 - accuracy: 0.2447\n",
      "Epoch 66/100\n",
      " - 0s - loss: -7.1960e-01 - accuracy: 0.2486\n",
      "Epoch 67/100\n",
      " - 0s - loss: -7.5582e-01 - accuracy: 0.2453\n",
      "Epoch 68/100\n",
      " - 0s - loss: -6.9481e-01 - accuracy: 0.2528\n",
      "Epoch 69/100\n",
      " - 0s - loss: -8.3277e-01 - accuracy: 0.2536\n",
      "Epoch 70/100\n",
      " - 0s - loss: -7.3073e-01 - accuracy: 0.2437\n",
      "Epoch 71/100\n",
      " - 0s - loss: -5.1430e-01 - accuracy: 0.2492\n",
      "Epoch 72/100\n",
      " - 0s - loss: -7.2300e-01 - accuracy: 0.2484\n",
      "Epoch 73/100\n",
      " - 0s - loss: -7.6710e-01 - accuracy: 0.2468\n",
      "Epoch 74/100\n",
      " - 0s - loss: -8.3045e-01 - accuracy: 0.2497\n",
      "Epoch 75/100\n",
      " - 0s - loss: -8.0112e-01 - accuracy: 0.2481\n",
      "Epoch 76/100\n",
      " - 0s - loss: -6.7340e-01 - accuracy: 0.2575\n",
      "Epoch 77/100\n",
      " - 0s - loss: -4.9254e-01 - accuracy: 0.2421\n",
      "Epoch 78/100\n",
      " - 0s - loss: -7.8433e-01 - accuracy: 0.2544\n",
      "Epoch 79/100\n",
      " - 0s - loss: -7.8521e-01 - accuracy: 0.2515\n",
      "Epoch 80/100\n",
      " - 0s - loss: -7.8842e-01 - accuracy: 0.2458\n",
      "Epoch 81/100\n",
      " - 0s - loss: -8.6363e-01 - accuracy: 0.2463\n",
      "Epoch 82/100\n",
      " - 0s - loss: -6.4775e-01 - accuracy: 0.2447\n",
      "Epoch 83/100\n",
      " - 0s - loss: -8.6488e-01 - accuracy: 0.2442\n",
      "Epoch 84/100\n",
      " - 0s - loss: -8.7580e-01 - accuracy: 0.2515\n",
      "Epoch 85/100\n",
      " - 0s - loss: -7.9014e-01 - accuracy: 0.2473\n",
      "Epoch 86/100\n",
      " - 0s - loss: -9.1143e-01 - accuracy: 0.2595\n",
      "Epoch 87/100\n",
      " - 0s - loss: -8.2254e-01 - accuracy: 0.2544\n",
      "Epoch 88/100\n",
      " - 0s - loss: -7.0728e-01 - accuracy: 0.2515\n",
      "Epoch 89/100\n",
      " - 0s - loss: -7.4850e-01 - accuracy: 0.2440\n",
      "Epoch 90/100\n",
      " - 0s - loss: -6.7089e-01 - accuracy: 0.2471\n",
      "Epoch 91/100\n",
      " - 0s - loss: -8.0668e-01 - accuracy: 0.2502\n",
      "Epoch 92/100\n",
      " - 0s - loss: -5.9106e-01 - accuracy: 0.2499\n",
      "Epoch 93/100\n",
      " - 0s - loss: -9.1780e-01 - accuracy: 0.2546\n",
      "Epoch 94/100\n",
      " - 0s - loss: -7.7484e-01 - accuracy: 0.2499\n",
      "Epoch 95/100\n",
      " - 0s - loss: -8.0205e-01 - accuracy: 0.2515\n",
      "Epoch 96/100\n",
      " - 0s - loss: -7.1725e-01 - accuracy: 0.2486\n",
      "Epoch 97/100\n",
      " - 0s - loss: -8.1178e-01 - accuracy: 0.2518\n",
      "Epoch 98/100\n",
      " - 0s - loss: -7.0156e-01 - accuracy: 0.2510\n",
      "Epoch 99/100\n",
      " - 0s - loss: -6.2124e-01 - accuracy: 0.2455\n",
      "Epoch 100/100\n",
      " - 0s - loss: -7.3025e-01 - accuracy: 0.2473\n"
     ]
    },
    {
     "data": {
      "text/plain": [
       "<keras.callbacks.callbacks.History at 0x1333502f988>"
      ]
     },
     "execution_count": 160,
     "metadata": {},
     "output_type": "execute_result"
    }
   ],
   "source": [
    "model.fit(train_vecs_w2v, y_train, epochs=100, batch_size=32, verbose=2)"
   ]
  },
  {
   "cell_type": "code",
   "execution_count": 161,
   "metadata": {},
   "outputs": [],
   "source": [
    "score = model.evaluate(test_vecs_w2v, y_test, batch_size=128, verbose=2)"
   ]
  },
  {
   "cell_type": "code",
   "execution_count": 162,
   "metadata": {},
   "outputs": [
    {
     "name": "stdout",
     "output_type": "stream",
     "text": [
      "Accuracy 25.33748745918274 %\n"
     ]
    }
   ],
   "source": [
    "print ('Accuracy', score[1]*100,'%')"
   ]
  },
  {
   "cell_type": "code",
   "execution_count": 1,
   "metadata": {},
   "outputs": [
    {
     "name": "stderr",
     "output_type": "stream",
     "text": [
      "Using TensorFlow backend.\n"
     ]
    }
   ],
   "source": [
    "###############################BI-DIRECTIONAL LSTM##########################################\n",
    "import os\n",
    "import time\n",
    "import numpy as np # linear algebra\n",
    "import pandas as pd # data processing, CSV file I/O (e.g. pd.read_csv)\n",
    "from tqdm import tqdm\n",
    "import math\n",
    "from sklearn.model_selection import train_test_split\n",
    "from sklearn import metrics\n",
    "\n",
    "from keras.preprocessing.text import Tokenizer\n",
    "from keras.preprocessing.sequence import pad_sequences\n",
    "from keras.layers import Dense, Input, CuDNNLSTM, Embedding, Dropout, Activation, CuDNNGRU, Conv1D\n",
    "from keras.layers import Bidirectional, GlobalMaxPool1D, GlobalMaxPooling1D, GlobalAveragePooling1D\n",
    "from keras.layers import Input, Embedding, Dense, Conv2D, MaxPool2D, concatenate\n",
    "from keras.layers import Reshape, Flatten, Concatenate, Dropout, SpatialDropout1D\n",
    "from keras.optimizers import Adam\n",
    "from keras.models import Model\n",
    "from keras import backend as K\n",
    "from keras.engine.topology import Layer\n",
    "from keras import initializers, regularizers, constraints, optimizers, layers\n",
    "\n",
    "\n",
    "from keras.layers import *\n",
    "from keras.models import *\n",
    "from keras import initializers, regularizers, constraints, optimizers, layers\n",
    "from keras.initializers import *\n",
    "from keras.optimizers import *\n",
    "import keras.backend as K\n",
    "from keras.callbacks import *\n",
    "import tensorflow as tf\n",
    "import os\n",
    "import time\n",
    "import gc\n",
    "import re\n",
    "import glob"
   ]
  },
  {
   "cell_type": "code",
   "execution_count": 4,
   "metadata": {},
   "outputs": [],
   "source": [
    "# Define some Global Variables\n",
    "max_features = 100000 # Maximum Number of words we want to include in our dictionary\n",
    "maxlen = 72 # No of words in question we want to create a sequence with\n",
    "embed_size = 300# Size of word to vec embedding we are using"
   ]
  },
  {
   "cell_type": "code",
   "execution_count": 3,
   "metadata": {},
   "outputs": [
    {
     "name": "stderr",
     "output_type": "stream",
     "text": [
      "C:\\Users\\User\\Anaconda3\\lib\\site-packages\\ipykernel_launcher.py:27: SettingWithCopyWarning: \n",
      "A value is trying to be set on a copy of a slice from a DataFrame\n",
      "\n",
      "See the caveats in the documentation: https://pandas.pydata.org/pandas-docs/stable/user_guide/indexing.html#returning-a-view-versus-a-copy\n"
     ]
    }
   ],
   "source": [
    "data = pd.read_csv(r\"C:\\Users\\User\\Eng-Pun_report\\punjabi_data_v2.csv\", encoding='latin-1', engine='python' )\n",
    "data['Text'] = data['Text'].str.lower()\n",
    "\n",
    "vocabulary = pd.read_csv(r\"C:\\Users\\User\\Eng-Pun_report\\generalised_spellings.csv\")\n",
    "vocabulary['Words'] = vocabulary['Words'].str.lower()\n",
    "vocabulary['Generalised Spelling'] = vocabulary['Generalised Spelling'].str.lower()\n",
    "voc_to_be_used = dict(zip(vocabulary['Words'], vocabulary['Generalised Spelling']))\n",
    "\n",
    "replacement_dict = {r'(\\b){}(\\b)'.format(k):r'\\1{}\\2'.format(v) for k,v in voc_to_be_used.items()}\n",
    "data['Text'] = data['Text'].replace(replacement_dict, regex=True)\n",
    "\n",
    "stopwords = [\"100ch\", \"march\", \"april\", \"21\", \"2018\", \"april\", \"20\", \"1st\", \"19\", \"15\", \"urs\", \"14\", \"11\", \"108\", \"100\", '10' ,\"ch\", \"di\", \"aa\",\"wich\",\"bai\",\"meri\",\"v\",\"isa\",\"jisa\",\"vica\",\"taka\",\"vi\",\"othon\",\"nahim\",\"bhi\",\"valom\",\"iha \",\"iha \",\"jadom\",\"kai\",\"tada\",\"andar\",\"utte\",\"sabuta\",\"kadi\",\"nem\",\"ji\",\"kise\",\"pūra\",\"ne\",\"hove\",\"jekar\",\"de\",\"jehara\",\"baada\",\"sara\",\"cho\",\"kade\",\"sab\",\"tan\",\"ki\",\"na\",\"huna\",\"jinam\",\"nala\",\"cahe\",\"kisa \",\"pichom\",\"edhara\",\"nu\",\"ajihe\",\"hi\",\"ke\",\"hain\",\"bahuta\",\"kaafi\",\"huṇe\",\"lai\",\"ki\",\"magara\",\"da\",\"tarham\",\"phera\",\"vele\",\"othe\",\"kite\",\"ithe\",\"jinhanu\",\"jad\",\"vanga \",\"doraan\",\"varaga\",\"jo\",\"la\",\"pura\",\"naale\",\"ton\",\"hona\",\"paso\",\"jeha\",\"es\",\"jina\",\"kujh\",\"dobara\",\"sadda\",\"ethe\",\"bare\",\"kad\",\"kadde\",\"hoye\",\"rahe\",\"bano\",\"deṇi\",\"pia \",\"hoia\",\"gai\",\"laga\",\"huda\",\"janda\",\"vēkha\",\"suṇa\",\"ai\",\"sakde\",\"jave\",\"janda\",\"karke\",\"bilkul\",\"eho\",\"kaun\",\"pher\",\"tad\",\"kolon\",\"kina\",\"jive\",\"hethan\",\"sare\",\"jithe\",\"koi\",\"ki\",\"je\",\"dian\",\"chala\",\"lai\",\"aakh\",\"baṇa\",\"kara\",\"pain\",\"keh\",\"chuke\",\"keha\", \"karvayei\",\"banaye\",\"kitta\",\"javan\",\"dekh\",\"adi\",\"lia\",\"karana\",\"lagoda\",\"aave\",\"kari\",\"laeya\",\"reh\",\"uha\",\"sam\",\"sabha\",\"hana\",\"tu\",\"si\",\"ho\", \"tennu\",\"tusa\",\"hain\",\"hai\",\"apna\",\"je\",\"aate\",\"jam\",\"kal\",\"vagaira\",\"rakh\",\"laag\",\"gal\",\"pi\",\"a\",\"reha\",\"geya\",\"otha\",\"rahi\",\"usne\",\"tusi\",\"mera\",\"usdi\",\"tera\",\"us\",\"oye\",\"aap\",\"san\",\"mein\",\"tusi\",\"assi\",\"par\",\"te\",\"tam\",\"bhavem\",\"aagali\",\"varg\",\"ama\",\"la\",\"hala\",\"ek\", \"tuhada\",\"kita\",\"karde\",\"krde\",\"teri\",\"apne\",\"aj\",\"singh\",\"sikh\",\"ohne\",\"dekh\",\"tuhadi\",\"fir\",\"time\",\"bawa\",\"sidhu\",\"vich\",\"sach\",\"naal\",\"hor\",\"ki\",\"mainu\",\"aaa\",\"wale\",\"hor\",\"krn\",\"kudi\",\"kuj\", \"12\", \"2020\", \"30\", \"300\", \"pwa\", \"do\", \"log\", \"3may\", \"35\", \"40\", \"din\", \"400\", \"50\", \"km\", \"door\", \"5911\", \"50m\", \"3bisby\", \"500\", \"6month\", \"700\", \"900\", \"__\", \"honi\", \"aab\", \"which\", \"ohi\", \"hr\", \"to\", \"aae\"]\n",
    "# stopwords = [\"lokk\",'abp\",\"video\", \"aafull\", \"me\", \"rhe\", \"100ch\", \"march\", \"april\", \"21\", \"2018\", \"april\", \"20\", \"1st\", \"19\", \"15\", \"urs\", \"14\", \"11\", \"108\", \"100\", '10' ,\"ch\", \"di\", \"aa\",\"wich\",\"bai\",\"meri\",\"v\",\"isa\",\"jisa\",\"vica\",\"taka\",\"vi\",\"othon\",\"nahim\",\"bhi\",\"valom\",\"iha \",\"iha \",\"jadom\",\"kai\",\"tada\",\"andar\",\"utte\",\"sabuta\",\"kadi\",\"nem\",\"ji\",\"kise\",\"pūra\",\"ne\",\"hove\",\"jekar\",\"de\",\"jehara\",\"baada\",\"sara\",\"cho\",\"kade\",\"sab\",\"tan\",\"ki\",\"na\",\"huna\",\"jinam\",\"nala\",\"cahe\",\"kisa \",\"pichom\",\"edhara\",\"nu\",\"ajihe\",\"hi\",\"ke\",\"hain\",\"bahuta\",\"kaafi\",\"huṇe\",\"lai\",\"ki\",\"magara\",\"da\",\"tarham\",\"phera\",\"vele\",\"othe\",\"kite\",\"ithe\",\"jinhanu\",\"jad\",\"vanga \",\"doraan\",\"varaga\",\"jo\",\"la\",\"pura\",\"naale\",\"ton\",\"hona\",\"paso\",\"jeha\",\"es\",\"jina\",\"kujh\",\"dobara\",\"sadda\",\"ethe\",\"bare\",\"kad\",\"kadde\",\"hoye\",\"rahe\",\"bano\",\"deṇi\",\"pia \",\"hoia\",\"gai\",\"laga\",\"huda\",\"janda\",\"vēkha\",\"suṇa\",\"ai\",\"sakde\",\"jave\",\"janda\",\"karke\",\"bilkul\",\"eho\",\"kaun\",\"pher\",\"tad\",\"kolon\",\"kina\",\"jive\",\"hethan\",\"sare\",\"jithe\",\"koi\",\"ki\",\"je\",\"dian\",\"chala\",\"lai\",\"aakh\",\"baṇa\",\"kara\",\"pain\",\"keh\",\"chuke\",\"keha\", \"karvayei\",\"banaye\",\"kitta\",\"javan\",\"dekh\",\"adi\",\"lia\",\"karana\",\"lagoda\",\"aave\",\"kari\",\"laeya\",\"reh\",\"uha\",\"sam\",\"sabha\",\"hana\",\"tu\",\"si\",\"ho\", \"tennu\",\"tusa\",\"hain\",\"hai\",\"apna\",\"je\",\"aate\",\"jam\",\"kal\",\"vagaira\",\"rakh\",\"laag\",\"gal\",\"pi\",\"a\",\"reha\",\"geya\",\"otha\",\"rahi\",\"usne\",\"tusi\",\"mera\",\"usdi\",\"tera\",\"us\",\"oye\",\"aap\",\"san\",\"mein\",\"tusi\",\"assi\",\"par\",\"te\",\"tam\",\"bhavem\",\"aagali\",\"varg\",\"ama\",\"la\",\"hala\",\"ek\", \"tuhada\",\"kita\",\"karde\",\"krde\",\"teri\",\"apne\",\"aj\",\"singh\",\"sikh\",\"ohne\",\"dekh\",\"tuhadi\",\"fir\",\"time\",\"bawa\",\"sidhu\",\"vich\",\"sach\",\"naal\",\"hor\",\"ki\",\"mainu\",\"aaa\",\"wale\",\"hor\",\"krn\",\"kudi\",\"kuj\", \"12\", \"2020\", \"30\", \"300\", \"pwa\", \"do\", \"log\", \"3may\", \"35\", \"40\", \"din\", \"400\", \"50\", \"km\", \"door\", \"5911\", \"50m\", \"3bisby\", \"500\", \"6month\", \"700\", \"900\", \"__\", \"honi\", \"aab\", \"which\", \"ohi\", \"hr\", \"to\", \"aae\", \"bs\", \"chal\", \"jagdeep\", \"captian\", \"anchor\", \"ranjeet\", \"amrinder\", \"ikk\", \"ina\", \"dilli\", \"mai\", \"te\", \"fr\",\"india\", \"singa\", \"tn\", \"dharti\", \"gurdas\", \"singer\", \"sound\", \"live\", \"respiratory\", \"punjab\", \"punjabian\", \"jd\", \"chd\", \"geet\", \"ta\", \"bt\", \"koe\", \"nusrat\", \"fateh\", \"sudhu\", \"sidhu\", \"sukhbir\", \"interview\", \"tumhe\", \"agr\", \"eh\", \"uncle\", \"but\", \"covid\", \"dong\", \"jidaan\", \"matlab\", \"tere\", \"abc\", \"ik\", \"for\",\"news\", \"sanja\", \"tuc\", \"tum\", \"detail\", \"account\", \"accounts\", \"interview\", \"or\", \"diya\", \"add\", \"addmission\", \"address\", \"ade\", \"admin\", \"advocate\"]\n",
    "pat = r'\\b(?:{})\\b'.format('|'.join(stopwords))\n",
    "data['Text'] = data['Text'].str.replace(pat, '')\n",
    "data['Text'] = data['Text'].str.replace(r'\\s+', ' ')\n",
    "stopwords = [\"lokk\",\"abp\",\"video\", \"aafull\", \"me\", \"rhe\", \"100ch\", \"march\", \"april\", \"21\", \"2018\", \"april\", \"20\", \"1st\", \"19\", \"15\", \"urs\", \"14\", \"11\", \"108\", \"100\", \"10\" ,\"ch\", \"di\", \"aa\",\"wich\",\"bai\",\"meri\",\"v\",\"isa\",\"jisa\",\"vica\",\"taka\",\"vi\",\"othon\",\"nahim\",\"bhi\",\"valom\",\"iha \",\"jadom\",\"kai\",\"tada\",\"andar\",\"utte\",\"sabuta\",\"kadi\",\"nem\",\"ji\",\"kise\",\"pūra\",\"ne\",\"hove\",\"jekar\",\"de\",\"jehara\",\"baada\",\"sara\",\"cho\",\"kade\",\"sab\",\"tan\",\"ki\",\"na\",\"huna\",\"jinam\",\"nala\",\"cahe\",\"kisa \",\"pichom\",\"edhara\",\"nu\",\"ajihe\",\"hi\",\"ke\",\"hain\",\"bahuta\",\"kaafi\",\"huṇe\",\"lai\",\"ki\",\"magara\",\"da\",\"tarham\",\"phera\",\"vele\",\"othe\",\"kite\",\"ithe\",\"jinhanu\",\"jad\",\"vanga \",\"doraan\",\"varaga\",\"jo\",\"la\",\"pura\",\"naale\",\"ton\",\"hona\",\"paso\",\"jeha\",\"es\",\"jina\",\"kujh\",\"dobara\",\"sadda\",\"ethe\",\"bare\",\"kad\",\"kadde\",\"hoye\",\"rahe\",\"bano\",\"deṇi\",\"pia \",\"hoia\",\"gai\",\"laga\",\"huda\",\"janda\",\"vēkha\",\"suṇa\",\"ai\",\"sakde\",\"jave\",\"janda\",\"karke\",\"bilkul\",\"eho\",\"kaun\",\"pher\",\"tad\",\"kolon\",\"kina\",\"jive\",\"hethan\",\"sare\",\"jithe\",\"koi\",\"ki\",\"je\",\"dian\",\"chala\",\"lai\",\"aakh\",\"baṇa\",\"kara\",\"pain\",\"keh\",\"chuke\",\"keha\", \"karvayei\",\"banaye\",\"kitta\",\"javan\",\"dekh\",\"adi\",\"lia\",\"karana\",\"lagoda\",\"aave\",\"kari\",\"laeya\",\"reh\",\"uha\",\"sam\",\"sabha\",\"hana\",\"tu\",\"si\",\"ho\", \"tennu\",\"tusa\",\"hain\",\"hai\",\"apna\",\"je\",\"aate\",\"jam\",\"kal\",\"vagaira\",\"rakh\",\"laag\",\"gal\",\"pi\",\"a\",\"reha\",\"geya\",\"otha\",\"rahi\",\"usne\",\"tusi\",\"mera\",\"usdi\",\"tera\",\"us\",\"oye\",\"aap\",\"san\",\"mein\",\"tusi\",\"assi\",\"par\",\"te\",\"tam\",\"bhavem\",\"aagali\",\"varg\",\"ama\",\"la\",\"hala\",\"ek\", \"tuhada\",\"kita\",\"karde\",\"krde\",\"teri\",\"apne\",\"aj\",\"singh\",\"sikh\",\"ohne\",\"dekh\",\"tuhadi\",\"fir\",\"time\",\"bawa\",\"sidhu\",\"vich\",\"sach\",\"naal\",\"hor\",\"ki\",\"mainu\",\"aaa\",\"wale\",\"hor\",\"krn\",\"kudi\",\"kuj\", \"12\", \"2020\", \"30\", \"300\", \"pwa\", \"do\", \"log\", \"3may\", \"35\", \"40\", \"din\", \"400\", \"50\", \"km\", \"door\", \"5911\", \"50m\", \"3bisby\", \"500\", \"6month\", \"700\", \"900\", \"__\", \"honi\", \"aab\", \"which\", \"ohi\", \"hr\", \"to\", \"aae\", \"bs\", \"chal\", \"jagdeep\", \"captian\", \"anchor\", \"ranjeet\", \"amrinder\", \"ikk\", \"ina\", \"dilli\", \"mai\", \"te\", \"fr\",\"india\", \"singa\", \"tn\", \"dharti\", \"gurdas\", \"singer\", \"sound\", \"live\", \"respiratory\", \"punjab\", \"punjabian\", \"jd\", \"chd\", \"geet\", \"ta\", \"bt\", \"koe\", \"nusrat\", \"fateh\", \"sudhu\", \"sidhu\", \"sukhbir\", \"interview\", \"tumhe\", \"agr\", \"eh\", \"uncle\", \"but\", \"covid\", \"dong\", \"jidaan\", \"matlab\", \"tere\", \"abc\", \"ik\", \"for\",\"news\", \"sanja\", \"tuc\", \"tum\", \"detail\", \"account\", \"accounts\", \"interview\", \"or\", \"diya\", \"add\", \"addmission\", \"address\", \"ade\", \"admin\", \"advocate\"]\n",
    "pat = r'\\b(?:{})\\b'.format('|'.join(stopwords))\n",
    "data['Text'] = data['Text'].str.replace(pat, '')\n",
    "data['Text'] = data['Text'].str.replace(r'\\s+', ' ')\n",
    "stopwords = [\"k\",\"c\",\"kasoor\", \"ssp\", \"prateek\",\"tu\", \"wabba\", \"pyn\", \"ah\",\"mnu\",\"mai\", \"100ch\", \"march\", \"april\", \"21\", \"2018\", \"april\", \"20\", \"1st\", \"19\", \"15\", \"urs\", \"14\", \"11\", \"108\", \"100\", '10' ,\"ch\", \"di\", \"aa\",\"wich\",\"bai\",\"meri\",\"v\",\"isa\",\"jisa\",\"vica\",\"taka\",\"vi\",\"othon\",\"nahim\",\"bhi\",\"valom\",\"iha \",\"iha \",\"jadom\",\"kai\",\"tada\",\"andar\",\"utte\",\"sabuta\",\"kadi\",\"nem\",\"ji\",\"kise\",\"pūra\",\"ne\",\"hove\",\"jekar\",\"de\",\"jehara\",\"baada\",\"sara\",\"cho\",\"kade\",\"sab\",\"tan\",\"ki\",\"na\",\"huna\",\"jinam\",\"nala\",\"cahe\",\"kisa \",\"pichom\",\"edhara\",\"nu\",\"ajihe\",\"hi\",\"ke\",\"hain\",\"bahuta\",\"kaafi\",\"huṇe\",\"lai\",\"ki\",\"magara\",\"da\",\"tarham\",\"phera\",\"vele\",\"othe\",\"kite\",\"ithe\",\"jinhanu\",\"jad\",\"vanga \",\"doraan\",\"varaga\",\"jo\",\"la\",\"pura\",\"naale\",\"ton\",\"hona\",\"paso\",\"jeha\",\"es\",\"jina\",\"kujh\",\"dobara\",\"sadda\",\"ethe\",\"bare\",\"kad\",\"kadde\",\"hoye\",\"rahe\",\"bano\",\"deṇi\",\"pia \",\"hoia\",\"gai\",\"laga\",\"huda\",\"janda\",\"vēkha\",\"suṇa\",\"ai\",\"sakde\",\"jave\",\"janda\",\"karke\",\"bilkul\",\"eho\",\"kaun\",\"pher\",\"tad\",\"kolon\",\"kina\",\"jive\",\"hethan\",\"sare\",\"jithe\",\"koi\",\"ki\",\"je\",\"dian\",\"chala\",\"lai\",\"aakh\",\"baṇa\",\"kara\",\"pain\",\"keh\",\"chuke\",\"keha\", \"karvayei\",\"banaye\",\"kitta\",\"javan\",\"dekh\",\"adi\",\"lia\",\"karana\",\"lagoda\",\"aave\",\"kari\",\"laeya\",\"reh\",\"uha\",\"sam\",\"sabha\",\"hana\",\"tu\",\"si\",\"ho\", \"tennu\",\"tusa\",\"hain\",\"hai\",\"apna\",\"je\",\"aate\",\"jam\",\"kal\",\"vagaira\",\"rakh\",\"laag\",\"gal\",\"pi\",\"a\",\"reha\",\"geya\",\"otha\",\"rahi\",\"usne\",\"tusi\",\"mera\",\"usdi\",\"tera\",\"us\",\"oye\",\"aap\",\"san\",\"mein\",\"tusi\",\"assi\",\"par\",\"te\",\"tam\",\"bhavem\",\"aagali\",\"varg\",\"ama\",\"la\",\"hala\",\"ek\", \"tuhada\",\"kita\",\"karde\",\"krde\",\"teri\",\"apne\",\"aj\",\"singh\",\"sikh\",\"ohne\",\"dekh\",\"tuhadi\",\"fir\",\"time\",\"bawa\",\"sidhu\",\"vich\",\"sach\",\"naal\",\"hor\",\"ki\",\"mainu\",\"aaa\",\"wale\",\"hor\",\"krn\",\"kudi\",\"kuj\", \"12\", \"2020\", \"30\", \"300\", \"pwa\", \"do\", \"log\", \"3may\", \"35\", \"40\", \"din\", \"400\", \"50\", \"km\", \"door\", \"5911\", \"50m\", \"3bisby\", \"500\", \"6month\", \"700\", \"900\", \"__\", \"honi\", \"aab\", \"which\", \"ohi\", \"hr\", \"to\", \"aae\"]\n",
    "pat = r'\\b(?:{})\\b'.format('|'.join(stopwords))\n",
    "data['Text'] = data['Text'].str.replace(pat, '')\n",
    "data['Text'] = data['Text'].str.replace(r'\\s+', ' ')\n",
    "import itertools\n",
    "for i in range(len(data)):\n",
    "    data['Text'][i] = ''.join(''.join(s)[:2] for _, s in itertools.groupby(data['Text'][i]))"
   ]
  },
  {
   "cell_type": "code",
   "execution_count": 7,
   "metadata": {},
   "outputs": [
    {
     "name": "stdout",
     "output_type": "stream",
     "text": [
      "Shape of label tensor: (4812, 3)\n"
     ]
    }
   ],
   "source": [
    "tokenizer = Tokenizer(num_words=2000, split=' ')\n",
    "\n",
    "tokenizer.fit_on_texts(data['Text'])\n",
    "X = tokenizer.texts_to_sequences(data['Text'])\n",
    "X = pad_sequences(X)\n",
    "# Y = data['Sentiment']\n",
    "\n",
    "Y = pd.get_dummies(data['Sentiment']).values\n",
    "print('Shape of label tensor:', Y.shape)\n",
    "\n",
    "# We can then create our train and test sets:\n",
    "\n",
    "X_train, X_test, Y_train, Y_test = train_test_split(X, Y, test_size = 0.15, random_state = 42,stratify=Y)\n",
    "\n",
    "# X_train, X_test, y_train, y_test = train_test_split(data['Text'], data.Sentiment, test_size=.15)"
   ]
  },
  {
   "cell_type": "code",
   "execution_count": null,
   "metadata": {},
   "outputs": [],
   "source": []
  },
  {
   "cell_type": "code",
   "execution_count": 8,
   "metadata": {},
   "outputs": [
    {
     "name": "stdout",
     "output_type": "stream",
     "text": [
      "(4090, 160) (4090, 3)\n",
      "(722, 160) (722, 3)\n"
     ]
    }
   ],
   "source": [
    "print(X_train.shape,Y_train.shape)\n",
    "print(X_test.shape,Y_test.shape)"
   ]
  },
  {
   "cell_type": "code",
   "execution_count": 9,
   "metadata": {},
   "outputs": [],
   "source": [
    "max_features = 20000\n",
    "# cut texts after this number of words\n",
    "# (among top max_features most common words)\n",
    "maxlen = 100\n",
    "batch_size = 32"
   ]
  },
  {
   "cell_type": "code",
   "execution_count": 10,
   "metadata": {},
   "outputs": [
    {
     "name": "stdout",
     "output_type": "stream",
     "text": [
      "Pad sequences (samples x time)\n",
      "x_train shape: (4090, 100)\n",
      "x_test shape: (722, 100)\n"
     ]
    }
   ],
   "source": [
    "from keras.preprocessing import sequence\n",
    "print('Pad sequences (samples x time)')\n",
    "x_train = sequence.pad_sequences(X_train, maxlen=maxlen)\n",
    "x_test = sequence.pad_sequences(X_test, maxlen=maxlen)\n",
    "print('x_train shape:', x_train.shape)\n",
    "print('x_test shape:', x_test.shape)\n",
    "y_train = np.array(Y_train)\n",
    "y_test = np.array(Y_test)"
   ]
  },
  {
   "cell_type": "code",
   "execution_count": 11,
   "metadata": {},
   "outputs": [],
   "source": [
    "# model = Sequential()\n",
    "# model.add(Embedding(11000, embed_dim = 128, input_length = X.shape[1], dropout=0.2))\n",
    "# model.add( Bidirectional( LSTM(lstm_out = 196, dropout_U = 0.2, dropout_W = 0.2)))\n",
    "# model.add( Dense(3, activation = 'softmax'))\n",
    "\n",
    "# model.compile(loss = 'sparse_categorical_crossentropy', optimizer = 'adam', metrics = ['accuracy'])\n",
    "model = Sequential()\n",
    "model.add(Embedding(max_features, 128, input_length=maxlen))\n",
    "model.add(Bidirectional(LSTM(64)))\n",
    "model.add(Dropout(0.5))\n",
    "model.add(Dense(3, activation='sigmoid'))"
   ]
  },
  {
   "cell_type": "code",
   "execution_count": 12,
   "metadata": {},
   "outputs": [],
   "source": [
    "#  try using different optimizers and different optimizer configs\n",
    "model.compile('adam', 'binary_crossentropy', metrics=['accuracy'])"
   ]
  },
  {
   "cell_type": "code",
   "execution_count": 13,
   "metadata": {
    "scrolled": false
   },
   "outputs": [
    {
     "name": "stdout",
     "output_type": "stream",
     "text": [
      "Train...\n"
     ]
    },
    {
     "name": "stderr",
     "output_type": "stream",
     "text": [
      "C:\\Users\\User\\Anaconda3\\lib\\site-packages\\tensorflow_core\\python\\framework\\indexed_slices.py:433: UserWarning: Converting sparse IndexedSlices to a dense Tensor of unknown shape. This may consume a large amount of memory.\n",
      "  \"Converting sparse IndexedSlices to a dense Tensor of unknown shape. \"\n"
     ]
    },
    {
     "name": "stdout",
     "output_type": "stream",
     "text": [
      "Epoch 1/100\n",
      "4090/4090 [==============================] - 25s 6ms/step - loss: 0.5696 - accuracy: 0.7125\n",
      "Epoch 2/100\n",
      "4090/4090 [==============================] - 20s 5ms/step - loss: 0.3912 - accuracy: 0.8227\n",
      "Epoch 3/100\n",
      "4090/4090 [==============================] - 20s 5ms/step - loss: 0.3093 - accuracy: 0.8645\n",
      "Epoch 4/100\n",
      "4090/4090 [==============================] - 20s 5ms/step - loss: 0.2508 - accuracy: 0.8963\n",
      "Epoch 5/100\n",
      "4090/4090 [==============================] - 20s 5ms/step - loss: 0.2078 - accuracy: 0.9164\n",
      "Epoch 6/100\n",
      "4090/4090 [==============================] - 20s 5ms/step - loss: 0.1796 - accuracy: 0.9331\n",
      "Epoch 7/100\n",
      "4090/4090 [==============================] - 20s 5ms/step - loss: 0.1576 - accuracy: 0.9399\n",
      "Epoch 8/100\n",
      "4090/4090 [==============================] - 20s 5ms/step - loss: 0.1404 - accuracy: 0.9488\n",
      "Epoch 9/100\n",
      "4090/4090 [==============================] - 20s 5ms/step - loss: 0.1155 - accuracy: 0.9574\n",
      "Epoch 10/100\n",
      "4090/4090 [==============================] - 20s 5ms/step - loss: 0.1046 - accuracy: 0.9632\n",
      "Epoch 11/100\n",
      "4090/4090 [==============================] - 20s 5ms/step - loss: 0.0943 - accuracy: 0.9666\n",
      "Epoch 12/100\n",
      "4090/4090 [==============================] - 20s 5ms/step - loss: 0.0871 - accuracy: 0.9698\n",
      "Epoch 13/100\n",
      "4090/4090 [==============================] - 20s 5ms/step - loss: 0.0834 - accuracy: 0.9711\n",
      "Epoch 14/100\n",
      "4090/4090 [==============================] - 20s 5ms/step - loss: 0.0772 - accuracy: 0.9720\n",
      "Epoch 15/100\n",
      "4090/4090 [==============================] - 20s 5ms/step - loss: 0.0708 - accuracy: 0.9773\n",
      "Epoch 16/100\n",
      "4090/4090 [==============================] - 20s 5ms/step - loss: 0.0691 - accuracy: 0.9764\n",
      "Epoch 17/100\n",
      "4090/4090 [==============================] - 20s 5ms/step - loss: 0.0594 - accuracy: 0.9785\n",
      "Epoch 18/100\n",
      "4090/4090 [==============================] - 20s 5ms/step - loss: 0.0507 - accuracy: 0.9831\n",
      "Epoch 19/100\n",
      "4090/4090 [==============================] - 20s 5ms/step - loss: 0.0449 - accuracy: 0.9838\n",
      "Epoch 20/100\n",
      "4090/4090 [==============================] - 20s 5ms/step - loss: 0.0420 - accuracy: 0.9853\n",
      "Epoch 21/100\n",
      "4090/4090 [==============================] - 20s 5ms/step - loss: 0.0530 - accuracy: 0.9798\n",
      "Epoch 22/100\n",
      "4090/4090 [==============================] - 20s 5ms/step - loss: 0.0414 - accuracy: 0.9849\n",
      "Epoch 23/100\n",
      "4090/4090 [==============================] - 20s 5ms/step - loss: 0.0355 - accuracy: 0.9869\n",
      "Epoch 24/100\n",
      "4090/4090 [==============================] - 21s 5ms/step - loss: 0.0317 - accuracy: 0.9886\n",
      "Epoch 25/100\n",
      "4090/4090 [==============================] - 20s 5ms/step - loss: 0.0401 - accuracy: 0.9849\n",
      "Epoch 26/100\n",
      "4090/4090 [==============================] - 20s 5ms/step - loss: 0.0445 - accuracy: 0.9841\n",
      "Epoch 27/100\n",
      "4090/4090 [==============================] - 21s 5ms/step - loss: 0.0366 - accuracy: 0.9863\n",
      "Epoch 28/100\n",
      "4090/4090 [==============================] - 20s 5ms/step - loss: 0.0448 - accuracy: 0.9839\n",
      "Epoch 29/100\n",
      "4090/4090 [==============================] - 20s 5ms/step - loss: 0.0427 - accuracy: 0.9849\n",
      "Epoch 30/100\n",
      "4090/4090 [==============================] - 20s 5ms/step - loss: 0.0318 - accuracy: 0.9872\n",
      "Epoch 31/100\n",
      "4090/4090 [==============================] - 24s 6ms/step - loss: 0.0309 - accuracy: 0.9882 2s -\n",
      "Epoch 32/100\n",
      "4090/4090 [==============================] - 24s 6ms/step - loss: 0.0284 - accuracy: 0.9887\n",
      "Epoch 33/100\n",
      "4090/4090 [==============================] - 27s 7ms/step - loss: 0.0330 - accuracy: 0.9883\n",
      "Epoch 34/100\n",
      "4090/4090 [==============================] - 25s 6ms/step - loss: 0.0279 - accuracy: 0.9893\n",
      "Epoch 35/100\n",
      "4090/4090 [==============================] - 23s 6ms/step - loss: 0.0242 - accuracy: 0.9910\n",
      "Epoch 36/100\n",
      "4090/4090 [==============================] - 22s 5ms/step - loss: 0.0280 - accuracy: 0.9890\n",
      "Epoch 37/100\n",
      "4090/4090 [==============================] - 24s 6ms/step - loss: 0.0246 - accuracy: 0.9908\n",
      "Epoch 38/100\n",
      "4090/4090 [==============================] - 25s 6ms/step - loss: 0.0217 - accuracy: 0.9914\n",
      "Epoch 39/100\n",
      "4090/4090 [==============================] - 26s 6ms/step - loss: 0.0195 - accuracy: 0.9916\n",
      "Epoch 40/100\n",
      "4090/4090 [==============================] - 25s 6ms/step - loss: 0.0193 - accuracy: 0.9919\n",
      "Epoch 41/100\n",
      "4090/4090 [==============================] - 22s 5ms/step - loss: 0.0172 - accuracy: 0.9927\n",
      "Epoch 42/100\n",
      "4090/4090 [==============================] - 22s 5ms/step - loss: 0.0182 - accuracy: 0.9918 1s - loss: 0.0182 - \n",
      "Epoch 43/100\n",
      "4090/4090 [==============================] - 23s 6ms/step - loss: 0.0196 - accuracy: 0.9918\n",
      "Epoch 44/100\n",
      "4090/4090 [==============================] - 25s 6ms/step - loss: 0.0184 - accuracy: 0.9913\n",
      "Epoch 45/100\n",
      "4090/4090 [==============================] - 25s 6ms/step - loss: 0.0168 - accuracy: 0.9923\n",
      "Epoch 46/100\n",
      "4090/4090 [==============================] - 21s 5ms/step - loss: 0.0172 - accuracy: 0.9920\n",
      "Epoch 47/100\n",
      "4090/4090 [==============================] - 20s 5ms/step - loss: 0.0156 - accuracy: 0.9932\n",
      "Epoch 48/100\n",
      "4090/4090 [==============================] - 21s 5ms/step - loss: 0.0152 - accuracy: 0.9931\n",
      "Epoch 49/100\n",
      "4090/4090 [==============================] - 20s 5ms/step - loss: 0.0150 - accuracy: 0.9930\n",
      "Epoch 50/100\n",
      "4090/4090 [==============================] - 21s 5ms/step - loss: 0.0175 - accuracy: 0.9918\n",
      "Epoch 51/100\n",
      "4090/4090 [==============================] - 20s 5ms/step - loss: 0.0480 - accuracy: 0.9842\n",
      "Epoch 52/100\n",
      "4090/4090 [==============================] - 21s 5ms/step - loss: 0.0418 - accuracy: 0.9858\n",
      "Epoch 53/100\n",
      "4090/4090 [==============================] - 20s 5ms/step - loss: 0.0277 - accuracy: 0.9899\n",
      "Epoch 54/100\n",
      "4090/4090 [==============================] - 20s 5ms/step - loss: 0.0228 - accuracy: 0.9906\n",
      "Epoch 55/100\n",
      "4090/4090 [==============================] - 20s 5ms/step - loss: 0.0204 - accuracy: 0.9915\n",
      "Epoch 56/100\n",
      "4090/4090 [==============================] - 20s 5ms/step - loss: 0.0169 - accuracy: 0.9921\n",
      "Epoch 57/100\n",
      "4090/4090 [==============================] - 20s 5ms/step - loss: 0.0169 - accuracy: 0.9919\n",
      "Epoch 58/100\n",
      "4090/4090 [==============================] - 20s 5ms/step - loss: 0.0181 - accuracy: 0.9914\n",
      "Epoch 59/100\n",
      "4090/4090 [==============================] - 20s 5ms/step - loss: 0.0167 - accuracy: 0.9927\n",
      "Epoch 60/100\n",
      "4090/4090 [==============================] - 21s 5ms/step - loss: 0.0170 - accuracy: 0.9927\n",
      "Epoch 61/100\n",
      "4090/4090 [==============================] - 20s 5ms/step - loss: 0.0219 - accuracy: 0.9905\n",
      "Epoch 62/100\n",
      "4090/4090 [==============================] - 20s 5ms/step - loss: 0.0190 - accuracy: 0.9914\n",
      "Epoch 63/100\n",
      "4090/4090 [==============================] - 20s 5ms/step - loss: 0.0185 - accuracy: 0.9919\n",
      "Epoch 64/100\n",
      "4090/4090 [==============================] - 20s 5ms/step - loss: 0.0243 - accuracy: 0.9900\n",
      "Epoch 65/100\n",
      "4090/4090 [==============================] - 20s 5ms/step - loss: 0.0168 - accuracy: 0.9919\n",
      "Epoch 66/100\n",
      "4090/4090 [==============================] - 20s 5ms/step - loss: 0.0185 - accuracy: 0.9923\n",
      "Epoch 67/100\n",
      "4090/4090 [==============================] - 20s 5ms/step - loss: 0.0151 - accuracy: 0.9927\n",
      "Epoch 68/100\n",
      "4090/4090 [==============================] - 20s 5ms/step - loss: 0.0148 - accuracy: 0.9932\n",
      "Epoch 69/100\n",
      "4090/4090 [==============================] - 20s 5ms/step - loss: 0.0155 - accuracy: 0.9927\n",
      "Epoch 70/100\n",
      "4090/4090 [==============================] - 20s 5ms/step - loss: 0.0162 - accuracy: 0.9919\n",
      "Epoch 71/100\n",
      "4090/4090 [==============================] - 20s 5ms/step - loss: 0.0142 - accuracy: 0.9927\n",
      "Epoch 72/100\n",
      "4090/4090 [==============================] - 20s 5ms/step - loss: 0.0174 - accuracy: 0.9923\n",
      "Epoch 73/100\n",
      "4090/4090 [==============================] - 20s 5ms/step - loss: 0.0224 - accuracy: 0.9911\n",
      "Epoch 74/100\n",
      "4090/4090 [==============================] - 20s 5ms/step - loss: 0.0160 - accuracy: 0.9920\n",
      "Epoch 75/100\n",
      "4090/4090 [==============================] - 21s 5ms/step - loss: 0.0149 - accuracy: 0.9928\n",
      "Epoch 76/100\n",
      "4090/4090 [==============================] - 20s 5ms/step - loss: 0.0130 - accuracy: 0.9935\n",
      "Epoch 77/100\n",
      "4090/4090 [==============================] - 20s 5ms/step - loss: 0.0125 - accuracy: 0.9939\n",
      "Epoch 78/100\n",
      "4090/4090 [==============================] - 20s 5ms/step - loss: 0.0127 - accuracy: 0.9941\n",
      "Epoch 79/100\n",
      "4090/4090 [==============================] - 20s 5ms/step - loss: 0.0120 - accuracy: 0.9944 1s - loss: 0.0113 - ac\n",
      "Epoch 80/100\n",
      "4090/4090 [==============================] - 20s 5ms/step - loss: 0.0123 - accuracy: 0.9934\n",
      "Epoch 81/100\n",
      "4090/4090 [==============================] - 20s 5ms/step - loss: 0.0117 - accuracy: 0.9938\n",
      "Epoch 82/100\n",
      "4090/4090 [==============================] - 20s 5ms/step - loss: 0.0118 - accuracy: 0.9931\n",
      "Epoch 83/100\n",
      "4090/4090 [==============================] - 20s 5ms/step - loss: 0.0117 - accuracy: 0.9941\n",
      "Epoch 84/100\n",
      "4090/4090 [==============================] - 20s 5ms/step - loss: 0.0119 - accuracy: 0.9940\n",
      "Epoch 85/100\n",
      "4090/4090 [==============================] - 20s 5ms/step - loss: 0.0117 - accuracy: 0.9939\n",
      "Epoch 86/100\n",
      "4090/4090 [==============================] - 20s 5ms/step - loss: 0.0118 - accuracy: 0.9937\n",
      "Epoch 87/100\n",
      "4090/4090 [==============================] - 20s 5ms/step - loss: 0.0110 - accuracy: 0.9941\n",
      "Epoch 88/100\n",
      "4090/4090 [==============================] - 20s 5ms/step - loss: 0.0122 - accuracy: 0.9936\n",
      "Epoch 89/100\n",
      "4090/4090 [==============================] - 20s 5ms/step - loss: 0.0260 - accuracy: 0.9907\n",
      "Epoch 90/100\n",
      "4090/4090 [==============================] - 20s 5ms/step - loss: 0.0320 - accuracy: 0.9874\n",
      "Epoch 91/100\n",
      "4090/4090 [==============================] - 21s 5ms/step - loss: 0.0247 - accuracy: 0.9899\n",
      "Epoch 92/100\n",
      "4090/4090 [==============================] - 20s 5ms/step - loss: 0.0168 - accuracy: 0.9926\n",
      "Epoch 93/100\n",
      "4090/4090 [==============================] - 20s 5ms/step - loss: 0.0138 - accuracy: 0.9936\n",
      "Epoch 94/100\n",
      "4090/4090 [==============================] - 20s 5ms/step - loss: 0.0122 - accuracy: 0.9937\n",
      "Epoch 95/100\n",
      "4090/4090 [==============================] - 20s 5ms/step - loss: 0.0125 - accuracy: 0.9934\n",
      "Epoch 96/100\n",
      "4090/4090 [==============================] - 20s 5ms/step - loss: 0.0118 - accuracy: 0.9939\n",
      "Epoch 97/100\n",
      "4090/4090 [==============================] - 20s 5ms/step - loss: 0.0122 - accuracy: 0.9936\n",
      "Epoch 98/100\n",
      "4090/4090 [==============================] - 20s 5ms/step - loss: 0.0117 - accuracy: 0.9942\n",
      "Epoch 99/100\n",
      "4090/4090 [==============================] - 20s 5ms/step - loss: 0.0112 - accuracy: 0.9939\n",
      "Epoch 100/100\n",
      "4090/4090 [==============================] - 20s 5ms/step - loss: 0.0108 - accuracy: 0.9941\n"
     ]
    },
    {
     "data": {
      "text/plain": [
       "<keras.callbacks.callbacks.History at 0x23517ca8cf8>"
      ]
     },
     "execution_count": 13,
     "metadata": {},
     "output_type": "execute_result"
    }
   ],
   "source": [
    "print('Train...')\n",
    "model.fit(x_train, y_train,\n",
    "          batch_size=batch_size,\n",
    "          epochs=100,\n",
    "#           validation_data=[x_test, y_test]\n",
    "         )"
   ]
  },
  {
   "cell_type": "code",
   "execution_count": 14,
   "metadata": {},
   "outputs": [
    {
     "name": "stdout",
     "output_type": "stream",
     "text": [
      "722/722 [==============================] - 1s 840us/step\n",
      "Test set\n",
      "  Loss: 2.093\n",
      "  Accuracy: 78.163 %\n"
     ]
    }
   ],
   "source": [
    "from sklearn.metrics import classification_report, f1_score, accuracy_score, confusion_matrix\n",
    "accr = model.evaluate(x_test,y_test)\n",
    "print('Test set\\n  Loss: {:0.3f}\\n  Accuracy: {:0.3f} %'.format(accr[0],accr[1]*100))"
   ]
  },
  {
   "cell_type": "code",
   "execution_count": 15,
   "metadata": {},
   "outputs": [],
   "source": [
    "y_pred = model.predict(x_test, verbose=0)"
   ]
  },
  {
   "cell_type": "code",
   "execution_count": 16,
   "metadata": {},
   "outputs": [
    {
     "data": {
      "text/plain": [
       "array([0, 0, 1])"
      ]
     },
     "execution_count": 16,
     "metadata": {},
     "output_type": "execute_result"
    }
   ],
   "source": [
    "np.round(y_pred[0],0).astype(int)"
   ]
  },
  {
   "cell_type": "code",
   "execution_count": 17,
   "metadata": {},
   "outputs": [
    {
     "data": {
      "text/plain": [
       "array([0, 0, 1], dtype=uint8)"
      ]
     },
     "execution_count": 17,
     "metadata": {},
     "output_type": "execute_result"
    }
   ],
   "source": [
    "y_test[0]"
   ]
  },
  {
   "cell_type": "code",
   "execution_count": 18,
   "metadata": {},
   "outputs": [],
   "source": [
    "y_pred_max = [np.round(p,0).astype(int) for p in y_pred]"
   ]
  },
  {
   "cell_type": "code",
   "execution_count": 19,
   "metadata": {},
   "outputs": [
    {
     "data": {
      "text/plain": [
       "array([0, 0, 1])"
      ]
     },
     "execution_count": 19,
     "metadata": {},
     "output_type": "execute_result"
    }
   ],
   "source": [
    "y_pred_max[0]"
   ]
  },
  {
   "cell_type": "code",
   "execution_count": null,
   "metadata": {},
   "outputs": [],
   "source": []
  },
  {
   "cell_type": "code",
   "execution_count": 27,
   "metadata": {},
   "outputs": [
    {
     "name": "stdout",
     "output_type": "stream",
     "text": [
      ":: Classification Report\n",
      "\n",
      "              precision    recall  f1-score   support\n",
      "\n",
      "           0       0.73      0.71      0.72       303\n",
      "           1       0.44      0.42      0.43       158\n",
      "           2       0.75      0.75      0.75       261\n",
      "\n",
      "   micro avg       0.68      0.66      0.67       722\n",
      "   macro avg       0.64      0.63      0.63       722\n",
      "weighted avg       0.68      0.66      0.67       722\n",
      " samples avg       0.66      0.66      0.66       722\n",
      "\n"
     ]
    }
   ],
   "source": [
    "print (\":: Classification Report\")\n",
    "print (\"\")\n",
    "print (classification_report(y_test, y_pred_max))"
   ]
  },
  {
   "cell_type": "code",
   "execution_count": 31,
   "metadata": {},
   "outputs": [
    {
     "data": {
      "text/plain": [
       "0"
      ]
     },
     "execution_count": 31,
     "metadata": {},
     "output_type": "execute_result"
    }
   ],
   "source": [
    "import os\n",
    "\n",
    "os.system('jupyter nbconvert --to html sentiment_analysis_all_algos_results.ipynb')"
   ]
  }
 ],
 "metadata": {
  "kernelspec": {
   "display_name": "Python 3",
   "language": "python",
   "name": "python3"
  },
  "language_info": {
   "codemirror_mode": {
    "name": "ipython",
    "version": 3
   },
   "file_extension": ".py",
   "mimetype": "text/x-python",
   "name": "python",
   "nbconvert_exporter": "python",
   "pygments_lexer": "ipython3",
   "version": "3.7.3"
  }
 },
 "nbformat": 4,
 "nbformat_minor": 4
}
